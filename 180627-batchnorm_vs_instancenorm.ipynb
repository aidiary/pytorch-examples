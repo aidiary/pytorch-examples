{
 "cells": [
  {
   "cell_type": "code",
   "execution_count": 221,
   "metadata": {},
   "outputs": [],
   "source": [
    "import torch\n",
    "import torch.nn as nn"
   ]
  },
  {
   "cell_type": "markdown",
   "metadata": {},
   "source": [
    "## BatchNorm1d - (N, L) の2Dテンソルを入力とした時\n",
    "\n",
    "- 特徴量Lの各次元ごとに平均、分散を求めて標準化している"
   ]
  },
  {
   "cell_type": "code",
   "execution_count": 328,
   "metadata": {},
   "outputs": [],
   "source": [
    "m = nn.BatchNorm1d(100, affine=False, track_running_stats=False)"
   ]
  },
  {
   "cell_type": "code",
   "execution_count": 329,
   "metadata": {},
   "outputs": [],
   "source": [
    "input = torch.rand(16, 100)"
   ]
  },
  {
   "cell_type": "code",
   "execution_count": 330,
   "metadata": {},
   "outputs": [],
   "source": [
    "out = m(input)"
   ]
  },
  {
   "cell_type": "code",
   "execution_count": 331,
   "metadata": {},
   "outputs": [],
   "source": [
    "mu = torch.mean(input, dim=0)\n",
    "var = torch.var(input, dim=0, unbiased=False)\n",
    "sigma = torch.sqrt(var + 1e-5)"
   ]
  },
  {
   "cell_type": "code",
   "execution_count": 354,
   "metadata": {},
   "outputs": [
    {
     "data": {
      "text/plain": [
       "torch.Size([100])"
      ]
     },
     "execution_count": 354,
     "metadata": {},
     "output_type": "execute_result"
    }
   ],
   "source": [
    "mu.size()"
   ]
  },
  {
   "cell_type": "code",
   "execution_count": 332,
   "metadata": {},
   "outputs": [],
   "source": [
    "out2 = (input - mu) / sigma"
   ]
  },
  {
   "cell_type": "code",
   "execution_count": 339,
   "metadata": {},
   "outputs": [
    {
     "data": {
      "text/plain": [
       "tensor([[-5.3436e-01, -1.2006e+00,  1.6590e+00,  ...,  8.0590e-01,\n",
       "          8.9554e-01, -1.1625e+00],\n",
       "        [-9.4430e-02,  1.0396e+00,  1.0832e+00,  ..., -2.1762e-01,\n",
       "         -1.0105e+00,  6.0995e-01],\n",
       "        [-1.3220e+00, -6.3421e-01,  9.1513e-02,  ..., -8.8394e-01,\n",
       "         -6.8018e-01,  1.1044e+00],\n",
       "        ...,\n",
       "        [-1.2507e+00,  5.3776e-01, -9.0805e-01,  ...,  1.1384e+00,\n",
       "          7.5489e-01, -7.2468e-01],\n",
       "        [ 1.7693e+00,  4.2704e-01, -5.9021e-01,  ...,  2.8768e-01,\n",
       "          1.3708e+00, -8.9842e-01],\n",
       "        [ 1.0805e-01, -3.1008e-01, -6.5997e-01,  ...,  1.2403e+00,\n",
       "         -2.2597e+00, -8.8617e-01]])"
      ]
     },
     "execution_count": 339,
     "metadata": {},
     "output_type": "execute_result"
    }
   ],
   "source": [
    "out2"
   ]
  },
  {
   "cell_type": "code",
   "execution_count": 340,
   "metadata": {},
   "outputs": [
    {
     "data": {
      "text/plain": [
       "tensor([[-5.3436e-01, -1.2006e+00,  1.6590e+00,  ...,  8.0590e-01,\n",
       "          8.9554e-01, -1.1625e+00],\n",
       "        [-9.4430e-02,  1.0396e+00,  1.0832e+00,  ..., -2.1763e-01,\n",
       "         -1.0105e+00,  6.0995e-01],\n",
       "        [-1.3220e+00, -6.3421e-01,  9.1513e-02,  ..., -8.8394e-01,\n",
       "         -6.8018e-01,  1.1044e+00],\n",
       "        ...,\n",
       "        [-1.2507e+00,  5.3776e-01, -9.0805e-01,  ...,  1.1384e+00,\n",
       "          7.5489e-01, -7.2468e-01],\n",
       "        [ 1.7693e+00,  4.2704e-01, -5.9021e-01,  ...,  2.8768e-01,\n",
       "          1.3708e+00, -8.9842e-01],\n",
       "        [ 1.0805e-01, -3.1008e-01, -6.5997e-01,  ...,  1.2403e+00,\n",
       "         -2.2597e+00, -8.8617e-01]])"
      ]
     },
     "execution_count": 340,
     "metadata": {},
     "output_type": "execute_result"
    }
   ],
   "source": [
    "out"
   ]
  },
  {
   "cell_type": "markdown",
   "metadata": {},
   "source": [
    "## BatchNorm1d - (N, C, L) の3Dテンソルを入力とした時\n",
    "\n",
    "- チャネルCごとに平均・分散をとって標準かしている"
   ]
  },
  {
   "cell_type": "code",
   "execution_count": 394,
   "metadata": {},
   "outputs": [],
   "source": [
    "input = torch.rand(16, 100, 256)"
   ]
  },
  {
   "cell_type": "code",
   "execution_count": 395,
   "metadata": {},
   "outputs": [],
   "source": [
    "m = nn.BatchNorm1d(100, affine=False, track_running_stats=False)"
   ]
  },
  {
   "cell_type": "code",
   "execution_count": 396,
   "metadata": {},
   "outputs": [],
   "source": [
    "out = m(input)"
   ]
  },
  {
   "cell_type": "code",
   "execution_count": 397,
   "metadata": {},
   "outputs": [
    {
     "name": "stdout",
     "output_type": "stream",
     "text": [
      "torch.Size([16, 256, 100])\n",
      "torch.Size([4096, 100])\n"
     ]
    }
   ],
   "source": [
    "input = input.transpose(1, 2)\n",
    "print(input.size())\n",
    "input = input.contiguous().view(16 * 256, 100)\n",
    "print(input.size())"
   ]
  },
  {
   "cell_type": "code",
   "execution_count": 398,
   "metadata": {},
   "outputs": [],
   "source": [
    "mu = torch.mean(input, dim=0)\n",
    "var = torch.var(input, dim=0, unbiased=False)\n",
    "sigma = torch.sqrt(var + 1e-5)"
   ]
  },
  {
   "cell_type": "code",
   "execution_count": 399,
   "metadata": {},
   "outputs": [
    {
     "name": "stdout",
     "output_type": "stream",
     "text": [
      "torch.Size([100])\n",
      "torch.Size([100])\n"
     ]
    }
   ],
   "source": [
    "print(mu.size())\n",
    "print(var.size())"
   ]
  },
  {
   "cell_type": "code",
   "execution_count": 400,
   "metadata": {},
   "outputs": [],
   "source": [
    "out2 = (input - mu) / sigma"
   ]
  },
  {
   "cell_type": "code",
   "execution_count": 401,
   "metadata": {},
   "outputs": [
    {
     "name": "stdout",
     "output_type": "stream",
     "text": [
      "torch.Size([4096, 100])\n",
      "torch.Size([16, 100, 256])\n"
     ]
    }
   ],
   "source": [
    "print(out2.size())\n",
    "out2 = out2.view(16, 256, 100)\n",
    "out2 = out2.transpose(1, 2)\n",
    "print(out2.size())"
   ]
  },
  {
   "cell_type": "code",
   "execution_count": 405,
   "metadata": {},
   "outputs": [
    {
     "data": {
      "text/plain": [
       "tensor([[ 5.6969e-01, -3.9478e-01,  4.3667e-01,  ..., -1.1388e+00,\n",
       "         -1.3282e+00,  1.5558e+00],\n",
       "        [-1.4932e+00, -1.0965e+00,  1.6722e+00,  ..., -1.4873e+00,\n",
       "          9.7042e-01, -1.1067e+00],\n",
       "        [-7.0421e-02, -9.0799e-02, -1.6933e+00,  ...,  1.3000e+00,\n",
       "          9.8717e-01, -9.6405e-01],\n",
       "        ...,\n",
       "        [ 7.2707e-01,  1.4468e+00, -4.5854e-01,  ...,  1.1904e+00,\n",
       "          3.9943e-01, -1.3513e-01],\n",
       "        [-2.8769e-01, -8.7361e-01,  1.1163e+00,  ...,  4.8414e-02,\n",
       "          1.2485e+00, -5.0380e-01],\n",
       "        [-1.5412e+00, -6.9136e-01,  2.4907e-02,  ...,  1.4118e+00,\n",
       "          2.0856e-01, -6.2272e-01]])"
      ]
     },
     "execution_count": 405,
     "metadata": {},
     "output_type": "execute_result"
    }
   ],
   "source": [
    "out2[0]"
   ]
  },
  {
   "cell_type": "code",
   "execution_count": 406,
   "metadata": {},
   "outputs": [
    {
     "data": {
      "text/plain": [
       "tensor([[ 5.6969e-01, -3.9478e-01,  4.3667e-01,  ..., -1.1388e+00,\n",
       "         -1.3282e+00,  1.5558e+00],\n",
       "        [-1.4932e+00, -1.0965e+00,  1.6722e+00,  ..., -1.4873e+00,\n",
       "          9.7042e-01, -1.1067e+00],\n",
       "        [-7.0420e-02, -9.0798e-02, -1.6932e+00,  ...,  1.3000e+00,\n",
       "          9.8717e-01, -9.6405e-01],\n",
       "        ...,\n",
       "        [ 7.2706e-01,  1.4468e+00, -4.5854e-01,  ...,  1.1904e+00,\n",
       "          3.9943e-01, -1.3513e-01],\n",
       "        [-2.8769e-01, -8.7361e-01,  1.1163e+00,  ...,  4.8414e-02,\n",
       "          1.2485e+00, -5.0380e-01],\n",
       "        [-1.5412e+00, -6.9136e-01,  2.4905e-02,  ...,  1.4118e+00,\n",
       "          2.0856e-01, -6.2273e-01]])"
      ]
     },
     "execution_count": 406,
     "metadata": {},
     "output_type": "execute_result"
    }
   ],
   "source": [
    "out[0]"
   ]
  },
  {
   "cell_type": "markdown",
   "metadata": {},
   "source": [
    "## BatchNorm2d"
   ]
  },
  {
   "cell_type": "code",
   "execution_count": 407,
   "metadata": {},
   "outputs": [],
   "source": [
    "input = torch.rand(16, 100, 32, 32)"
   ]
  },
  {
   "cell_type": "code",
   "execution_count": 410,
   "metadata": {},
   "outputs": [],
   "source": [
    "m = nn.BatchNorm2d(100, affine=False, track_running_stats=False)"
   ]
  },
  {
   "cell_type": "code",
   "execution_count": 411,
   "metadata": {},
   "outputs": [],
   "source": [
    "out = m(input)"
   ]
  },
  {
   "cell_type": "code",
   "execution_count": 412,
   "metadata": {},
   "outputs": [
    {
     "name": "stdout",
     "output_type": "stream",
     "text": [
      "torch.Size([16, 32, 32, 100])\n"
     ]
    }
   ],
   "source": [
    "input = input.transpose(1, 2)\n",
    "input = input.transpose(2, 3)\n",
    "print(input.size())"
   ]
  },
  {
   "cell_type": "code",
   "execution_count": 415,
   "metadata": {},
   "outputs": [
    {
     "name": "stdout",
     "output_type": "stream",
     "text": [
      "torch.Size([16384, 100])\n"
     ]
    }
   ],
   "source": [
    "input = input.contiguous().view(16 * 32 * 32, 100)\n",
    "print(input.size())"
   ]
  },
  {
   "cell_type": "code",
   "execution_count": 416,
   "metadata": {},
   "outputs": [],
   "source": [
    "mu = torch.mean(input, dim=0)\n",
    "var = torch.var(input, dim=0, unbiased=False)\n",
    "sigma = torch.sqrt(var + 1e-5)"
   ]
  },
  {
   "cell_type": "code",
   "execution_count": 417,
   "metadata": {},
   "outputs": [
    {
     "data": {
      "text/plain": [
       "torch.Size([100])"
      ]
     },
     "execution_count": 417,
     "metadata": {},
     "output_type": "execute_result"
    }
   ],
   "source": [
    "mu.size()"
   ]
  },
  {
   "cell_type": "code",
   "execution_count": 418,
   "metadata": {},
   "outputs": [
    {
     "name": "stdout",
     "output_type": "stream",
     "text": [
      "torch.Size([16384, 100])\n"
     ]
    }
   ],
   "source": [
    "out2 = (input - mu) / sigma\n",
    "print(out2.size())"
   ]
  },
  {
   "cell_type": "code",
   "execution_count": 419,
   "metadata": {},
   "outputs": [
    {
     "name": "stdout",
     "output_type": "stream",
     "text": [
      "torch.Size([16, 100, 32, 32])\n"
     ]
    }
   ],
   "source": [
    "out2 = out2.view(16, 32, 32, 100)\n",
    "out2 = out2.transpose(2, 3)\n",
    "out2 = out2.transpose(1, 2)\n",
    "print(out2.size())"
   ]
  },
  {
   "cell_type": "code",
   "execution_count": 422,
   "metadata": {},
   "outputs": [
    {
     "data": {
      "text/plain": [
       "tensor([[-0.3676,  1.0660, -1.7270,  ...,  0.2349, -0.9167, -1.5125],\n",
       "        [-1.5726, -0.9856,  1.6037,  ..., -1.7133,  0.8148,  0.8512],\n",
       "        [ 0.8848,  0.4292,  1.2239,  ...,  0.4213,  0.6701, -1.3766],\n",
       "        ...,\n",
       "        [-1.3123,  0.3576,  1.6153,  ...,  0.2425, -0.4328, -0.0343],\n",
       "        [-1.0931, -0.5602,  0.2153,  ..., -0.8334, -0.0813, -0.1970],\n",
       "        [ 1.5390, -0.6581,  0.4920,  ..., -0.2716,  1.4207, -1.6593]])"
      ]
     },
     "execution_count": 422,
     "metadata": {},
     "output_type": "execute_result"
    }
   ],
   "source": [
    "out2[0][0]"
   ]
  },
  {
   "cell_type": "code",
   "execution_count": 423,
   "metadata": {},
   "outputs": [
    {
     "data": {
      "text/plain": [
       "tensor([[-0.3676,  1.0660, -1.7270,  ...,  0.2349, -0.9167, -1.5125],\n",
       "        [-1.5726, -0.9856,  1.6037,  ..., -1.7133,  0.8148,  0.8512],\n",
       "        [ 0.8848,  0.4292,  1.2239,  ...,  0.4213,  0.6701, -1.3766],\n",
       "        ...,\n",
       "        [-1.3123,  0.3576,  1.6153,  ...,  0.2425, -0.4328, -0.0343],\n",
       "        [-1.0931, -0.5602,  0.2153,  ..., -0.8334, -0.0813, -0.1970],\n",
       "        [ 1.5390, -0.6581,  0.4920,  ..., -0.2716,  1.4207, -1.6593]])"
      ]
     },
     "execution_count": 423,
     "metadata": {},
     "output_type": "execute_result"
    }
   ],
   "source": [
    "out[0][0]"
   ]
  },
  {
   "cell_type": "markdown",
   "metadata": {},
   "source": [
    "## InstanceNorm1d"
   ]
  },
  {
   "cell_type": "code",
   "execution_count": 455,
   "metadata": {},
   "outputs": [],
   "source": [
    "input = torch.rand(16, 100, 256)"
   ]
  },
  {
   "cell_type": "code",
   "execution_count": 456,
   "metadata": {},
   "outputs": [],
   "source": [
    "m = nn.InstanceNorm1d(100, affine=False, track_running_stats=False)"
   ]
  },
  {
   "cell_type": "code",
   "execution_count": 457,
   "metadata": {},
   "outputs": [],
   "source": [
    "out = m(input)"
   ]
  },
  {
   "cell_type": "code",
   "execution_count": 458,
   "metadata": {},
   "outputs": [
    {
     "name": "stdout",
     "output_type": "stream",
     "text": [
      "torch.Size([256, 1600])\n"
     ]
    }
   ],
   "source": [
    "input = input.view(16 * 100, 256)\n",
    "input = input.transpose(0, 1)\n",
    "print(input.size())"
   ]
  },
  {
   "cell_type": "code",
   "execution_count": 459,
   "metadata": {},
   "outputs": [],
   "source": [
    "mu = torch.mean(input, dim=0)\n",
    "var = torch.var(input, dim=0, unbiased=False)\n",
    "sigma = torch.sqrt(var + 1e-5)"
   ]
  },
  {
   "cell_type": "code",
   "execution_count": 460,
   "metadata": {},
   "outputs": [
    {
     "name": "stdout",
     "output_type": "stream",
     "text": [
      "torch.Size([1600])\n"
     ]
    }
   ],
   "source": [
    "print(mu.size())"
   ]
  },
  {
   "cell_type": "code",
   "execution_count": 461,
   "metadata": {},
   "outputs": [
    {
     "name": "stdout",
     "output_type": "stream",
     "text": [
      "torch.Size([256, 1600])\n"
     ]
    }
   ],
   "source": [
    "out2 = (input - mu) / sigma\n",
    "print(out2.size())"
   ]
  },
  {
   "cell_type": "code",
   "execution_count": 462,
   "metadata": {},
   "outputs": [
    {
     "name": "stdout",
     "output_type": "stream",
     "text": [
      "torch.Size([16, 100, 256])\n"
     ]
    }
   ],
   "source": [
    "out2 = out2.transpose(0, 1)\n",
    "out2 = out2.view(16, 100, 256)\n",
    "print(out2.size())"
   ]
  },
  {
   "cell_type": "code",
   "execution_count": 464,
   "metadata": {},
   "outputs": [
    {
     "data": {
      "text/plain": [
       "tensor([[-6.2974e-01, -6.5277e-01, -8.9465e-01,  ...,  1.4388e+00,\n",
       "         -1.0573e+00,  4.0100e-01],\n",
       "        [ 9.3242e-01, -1.4115e+00, -1.2465e+00,  ...,  1.6629e+00,\n",
       "          5.3434e-01,  1.3269e+00],\n",
       "        [-1.7811e+00,  1.3545e+00,  1.0929e+00,  ..., -1.0244e+00,\n",
       "          1.6471e-01, -1.0048e+00],\n",
       "        ...,\n",
       "        [-1.4536e+00, -1.5437e+00,  3.6212e-01,  ...,  6.8613e-01,\n",
       "          7.9932e-01,  7.9058e-01],\n",
       "        [ 9.9791e-02,  9.2586e-02,  1.2675e+00,  ...,  1.2594e+00,\n",
       "          5.0791e-02,  5.4029e-01],\n",
       "        [-1.7442e-01, -1.5277e+00,  6.8518e-01,  ...,  1.3089e+00,\n",
       "         -5.1909e-01, -2.7275e-01]])"
      ]
     },
     "execution_count": 464,
     "metadata": {},
     "output_type": "execute_result"
    }
   ],
   "source": [
    "out2[0]"
   ]
  },
  {
   "cell_type": "code",
   "execution_count": 465,
   "metadata": {},
   "outputs": [
    {
     "data": {
      "text/plain": [
       "tensor([[-6.2974e-01, -6.5277e-01, -8.9465e-01,  ...,  1.4388e+00,\n",
       "         -1.0573e+00,  4.0100e-01],\n",
       "        [ 9.3242e-01, -1.4115e+00, -1.2465e+00,  ...,  1.6629e+00,\n",
       "          5.3434e-01,  1.3269e+00],\n",
       "        [-1.7811e+00,  1.3545e+00,  1.0929e+00,  ..., -1.0244e+00,\n",
       "          1.6471e-01, -1.0048e+00],\n",
       "        ...,\n",
       "        [-1.4536e+00, -1.5437e+00,  3.6212e-01,  ...,  6.8613e-01,\n",
       "          7.9932e-01,  7.9058e-01],\n",
       "        [ 9.9791e-02,  9.2586e-02,  1.2675e+00,  ...,  1.2594e+00,\n",
       "          5.0791e-02,  5.4029e-01],\n",
       "        [-1.7442e-01, -1.5277e+00,  6.8518e-01,  ...,  1.3089e+00,\n",
       "         -5.1909e-01, -2.7275e-01]])"
      ]
     },
     "execution_count": 465,
     "metadata": {},
     "output_type": "execute_result"
    }
   ],
   "source": [
    "out[0]"
   ]
  },
  {
   "cell_type": "code",
   "execution_count": null,
   "metadata": {},
   "outputs": [],
   "source": []
  }
 ],
 "metadata": {
  "kernelspec": {
   "display_name": "Python 3",
   "language": "python",
   "name": "python3"
  },
  "language_info": {
   "codemirror_mode": {
    "name": "ipython",
    "version": 3
   },
   "file_extension": ".py",
   "mimetype": "text/x-python",
   "name": "python",
   "nbconvert_exporter": "python",
   "pygments_lexer": "ipython3",
   "version": "3.6.5"
  }
 },
 "nbformat": 4,
 "nbformat_minor": 2
}
