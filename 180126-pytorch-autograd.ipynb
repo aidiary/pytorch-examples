{
 "cells": [
  {
   "cell_type": "markdown",
   "metadata": {},
   "source": [
    "# PyTorchの自動微分"
   ]
  },
  {
   "cell_type": "markdown",
   "metadata": {},
   "source": [
    "## 参考\n",
    "- [pytorch-tutorial > pytorch_basics](https://github.com/yunjey/pytorch-tutorial/blob/master/tutorials/01-basics/pytorch_basics/main.py)\n",
    "- [Autograd mechanics](http://pytorch.org/docs/0.3.0/notes/autograd.html)"
   ]
  },
  {
   "cell_type": "code",
   "execution_count": 1,
   "metadata": {},
   "outputs": [],
   "source": [
    "import numpy as np\n",
    "import torch\n",
    "import torch.nn as nn"
   ]
  },
  {
   "cell_type": "code",
   "execution_count": 7,
   "metadata": {},
   "outputs": [
    {
     "name": "stdout",
     "output_type": "stream",
     "text": [
      "tensor(2.)\n",
      "tensor(1.)\n",
      "tensor(1.)\n"
     ]
    }
   ],
   "source": [
    "# テンソルを作成\n",
    "# requires_grad=Falseだと微分の対象にならず勾配はNoneが返る\n",
    "x = torch.tensor(1.0, requires_grad=True)\n",
    "w = torch.tensor(2.0, requires_grad=True)\n",
    "b = torch.tensor(3.0, requires_grad=True)\n",
    "\n",
    "# 計算グラフを構築\n",
    "# y = 2 * x + 3\n",
    "y = w * x + b\n",
    "\n",
    "# 勾配を計算\n",
    "y.backward()\n",
    "\n",
    "# 勾配を表示\n",
    "print(x.grad)  # dy/dx = w = 2\n",
    "print(w.grad)  # dy/dw = x = 1\n",
    "print(b.grad)  # dy/db = 1"
   ]
  },
  {
   "cell_type": "markdown",
   "metadata": {},
   "source": [
    "## 自動微分の例いろいろ\n",
    "\n",
    "- [Theanoの使い方 (2) 自動微分](http://aidiary.hatenablog.com/entry/20150518/1431954329) をPyTorchでやってみる"
   ]
  },
  {
   "cell_type": "markdown",
   "metadata": {},
   "source": [
    "### 例1\n",
    "$y = x^2$\n",
    "\n",
    "$\\frac{dy}{dx} = 2x$"
   ]
  },
  {
   "cell_type": "code",
   "execution_count": 8,
   "metadata": {},
   "outputs": [
    {
     "name": "stdout",
     "output_type": "stream",
     "text": [
      "tensor(4.)\n"
     ]
    }
   ],
   "source": [
    "x = torch.tensor(2.0, requires_grad=True)\n",
    "y = x ** 2\n",
    "y.backward()\n",
    "print(x.grad)"
   ]
  },
  {
   "cell_type": "markdown",
   "metadata": {},
   "source": [
    "### 例2\n",
    "\n",
    "$y = exp(x)$\n",
    "\n",
    "$\\frac{dy}{dx} = exp(x)$"
   ]
  },
  {
   "cell_type": "code",
   "execution_count": 9,
   "metadata": {},
   "outputs": [
    {
     "name": "stdout",
     "output_type": "stream",
     "text": [
      "tensor(7.3891)\n"
     ]
    }
   ],
   "source": [
    "x = torch.tensor(2.0, requires_grad=True)\n",
    "y = torch.exp(x)\n",
    "y.backward()\n",
    "print(x.grad)"
   ]
  },
  {
   "cell_type": "markdown",
   "metadata": {},
   "source": [
    "### 例3\n",
    "$y = \\sin(x)$\n",
    "\n",
    "$\\frac{dy}{dx} = \\cos(x)$"
   ]
  },
  {
   "cell_type": "code",
   "execution_count": 10,
   "metadata": {},
   "outputs": [
    {
     "name": "stdout",
     "output_type": "stream",
     "text": [
      "tensor(-1.)\n"
     ]
    }
   ],
   "source": [
    "x = torch.tensor(np.pi, requires_grad=True)\n",
    "y = torch.sin(x)\n",
    "y.backward()\n",
    "print(x.grad)"
   ]
  },
  {
   "cell_type": "markdown",
   "metadata": {},
   "source": [
    "### 例4\n",
    "$y = (x - 4)(x^2 + 6)$\n",
    "\n",
    "$\\frac{dy}{dx} = 3x^2 - 8x + 6$"
   ]
  },
  {
   "cell_type": "code",
   "execution_count": 11,
   "metadata": {},
   "outputs": [
    {
     "name": "stdout",
     "output_type": "stream",
     "text": [
      "tensor(6.)\n"
     ]
    }
   ],
   "source": [
    "x = torch.tensor(0.0, requires_grad=True)\n",
    "y = (x - 4) * (x ** 2 + 6)\n",
    "y.backward()\n",
    "print(x.grad)"
   ]
  },
  {
   "cell_type": "markdown",
   "metadata": {},
   "source": [
    "### 例5\n",
    "$y = (\\sqrt x + 1)^3$\n",
    "\n",
    "$\\frac{dy}{dx} = \\frac{3 (\\sqrt x + 1)^2}{2 \\sqrt x}$"
   ]
  },
  {
   "cell_type": "code",
   "execution_count": 12,
   "metadata": {},
   "outputs": [
    {
     "name": "stdout",
     "output_type": "stream",
     "text": [
      "tensor(6.1820)\n"
     ]
    }
   ],
   "source": [
    "x = torch.tensor(2.0, requires_grad=True)\n",
    "y = (torch.sqrt(x) + 1) ** 3\n",
    "y.backward()\n",
    "print(x.grad)"
   ]
  },
  {
   "cell_type": "markdown",
   "metadata": {},
   "source": [
    "### 例6\n",
    "$z = (x + 2 y)^2$\n",
    "\n",
    "$\\frac{\\partial z}{\\partial x} = 2(x + 2y)$\n",
    "\n",
    "$\\frac{\\partial z}{\\partial y} = 4(x + 2y)$"
   ]
  },
  {
   "cell_type": "code",
   "execution_count": 13,
   "metadata": {},
   "outputs": [
    {
     "name": "stdout",
     "output_type": "stream",
     "text": [
      "tensor(10.)\n",
      "tensor(20.)\n"
     ]
    }
   ],
   "source": [
    "x = torch.tensor(1.0, requires_grad=True)\n",
    "y = torch.tensor(2.0, requires_grad=True)\n",
    "z = (x + 2 * y) ** 2\n",
    "z.backward()\n",
    "print(x.grad)  # dz/dx\n",
    "print(y.grad)  # dz/dy"
   ]
  },
  {
   "cell_type": "markdown",
   "metadata": {},
   "source": [
    "## 一般的にはlossをbackwardする"
   ]
  },
  {
   "cell_type": "code",
   "execution_count": 14,
   "metadata": {},
   "outputs": [
    {
     "name": "stdout",
     "output_type": "stream",
     "text": [
      "w: Parameter containing:\n",
      "tensor([[ 0.4176,  0.2302,  0.3942],\n",
      "        [-0.3258,  0.0489, -0.3333]], requires_grad=True)\n",
      "b: Parameter containing:\n",
      "tensor([0.4269, 0.2872], requires_grad=True)\n",
      "loss: tensor(1.3395, grad_fn=<MseLossBackward>)\n",
      "dL/dw: tensor([[ 0.4404,  0.4512,  0.9893],\n",
      "        [-0.6777, -0.2535, -0.5191]])\n",
      "dL/db: tensor([0.6095, 0.6305])\n",
      "*** by hand\n",
      "tensor([[ 0.4132,  0.2257,  0.3843],\n",
      "        [-0.3191,  0.0514, -0.3281]], grad_fn=<ThSubBackward>)\n",
      "tensor([0.4208, 0.2809], grad_fn=<ThSubBackward>)\n",
      "*** by optimizer.step()\n",
      "Parameter containing:\n",
      "tensor([[ 0.4132,  0.2257,  0.3843],\n",
      "        [-0.3191,  0.0514, -0.3281]], requires_grad=True)\n",
      "Parameter containing:\n",
      "tensor([0.4208, 0.2809], requires_grad=True)\n"
     ]
    }
   ],
   "source": [
    "# バッチサンプル数=5、入力特徴量の次元数=3\n",
    "x = torch.randn(5, 3)\n",
    "# バッチサンプル数=5、出力特徴量の次元数=2\n",
    "y = torch.randn(5, 2)\n",
    "\n",
    "# Linear層を作成\n",
    "# 3ユニット => 2ユニット\n",
    "linear = nn.Linear(3, 2)\n",
    "\n",
    "# Linear層のパラメータ\n",
    "print('w:', linear.weight)\n",
    "print('b:', linear.bias)\n",
    "\n",
    "# lossとoptimizer\n",
    "criterion = nn.MSELoss()\n",
    "optimizer = torch.optim.SGD(linear.parameters(), lr=0.01)\n",
    "\n",
    "# forward\n",
    "pred = linear(x)\n",
    "\n",
    "# loss = L\n",
    "loss = criterion(pred, y)\n",
    "print('loss:', loss)\n",
    "\n",
    "# backpropagation\n",
    "loss.backward()\n",
    "\n",
    "# 勾配を表示\n",
    "print('dL/dw:', linear.weight.grad)\n",
    "print('dL/db:', linear.bias.grad)\n",
    "\n",
    "# 勾配を用いてパラメータを更新\n",
    "print('*** by hand')\n",
    "print(linear.weight.sub(0.01 * linear.weight.grad))\n",
    "print(linear.bias.sub(0.01 * linear.bias.grad))\n",
    "\n",
    "# 勾配降下法\n",
    "optimizer.step()\n",
    "\n",
    "# 1ステップ更新後のパラメータを表示\n",
    "# 上の式と結果が一致することがわかる\n",
    "print('*** by optimizer.step()')\n",
    "print(linear.weight)\n",
    "print(linear.bias)"
   ]
  },
  {
   "cell_type": "code",
   "execution_count": null,
   "metadata": {},
   "outputs": [],
   "source": []
  }
 ],
 "metadata": {
  "kernelspec": {
   "display_name": "Python 3",
   "language": "python",
   "name": "python3"
  },
  "language_info": {
   "codemirror_mode": {
    "name": "ipython",
    "version": 3
   },
   "file_extension": ".py",
   "mimetype": "text/x-python",
   "name": "python",
   "nbconvert_exporter": "python",
   "pygments_lexer": "ipython3",
   "version": "3.6.5"
  }
 },
 "nbformat": 4,
 "nbformat_minor": 2
}
