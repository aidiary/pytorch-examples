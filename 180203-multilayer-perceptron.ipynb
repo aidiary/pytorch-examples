{
 "cells": [
  {
   "cell_type": "markdown",
   "metadata": {},
   "source": [
    "## Multilayer Perceptron"
   ]
  },
  {
   "cell_type": "code",
   "execution_count": 1,
   "metadata": {},
   "outputs": [],
   "source": [
    "import torch\n",
    "import torch.nn as nn\n",
    "\n",
    "import torchvision\n",
    "import torchvision.datasets as dsets\n",
    "import torchvision.transforms as transforms"
   ]
  },
  {
   "cell_type": "code",
   "execution_count": 2,
   "metadata": {},
   "outputs": [],
   "source": [
    "# Hyperparameters \n",
    "input_size = 784\n",
    "hidden_size = 500\n",
    "num_classes = 10\n",
    "num_epochs = 50\n",
    "batch_size = 100\n",
    "learning_rate = 0.001"
   ]
  },
  {
   "cell_type": "markdown",
   "metadata": {},
   "source": [
    "- MNISTはPyTorchの標準機能でデータセットをダウンロードできる\n",
    "- バッチ単位で読み込めるDataLoaderも簡単に使える"
   ]
  },
  {
   "cell_type": "code",
   "execution_count": 3,
   "metadata": {},
   "outputs": [],
   "source": [
    "# MNIST Dataset (Images and Labels)\n",
    "train_dataset = dsets.MNIST(root='./data', \n",
    "                            train=True, \n",
    "                            transform=transforms.ToTensor(),\n",
    "                            download=True)\n",
    "\n",
    "test_dataset = dsets.MNIST(root='./data', \n",
    "                           train=False, \n",
    "                           transform=transforms.ToTensor())\n",
    "\n",
    "# Dataset Loader (Input Pipline)\n",
    "train_loader = torch.utils.data.DataLoader(dataset=train_dataset, \n",
    "                                           batch_size=batch_size, \n",
    "                                           shuffle=True)\n",
    "\n",
    "test_loader = torch.utils.data.DataLoader(dataset=test_dataset, \n",
    "                                          batch_size=batch_size, \n",
    "                                          shuffle=False)"
   ]
  },
  {
   "cell_type": "markdown",
   "metadata": {},
   "source": [
    "- DataSetのlen()はサンプル数を返す\n",
    "- DataLoaderのlen()はミニバッチ数を返す"
   ]
  },
  {
   "cell_type": "code",
   "execution_count": 4,
   "metadata": {},
   "outputs": [
    {
     "name": "stdout",
     "output_type": "stream",
     "text": [
      "60000\n",
      "10000\n",
      "600\n",
      "100\n"
     ]
    }
   ],
   "source": [
    "print(len(train_dataset))  # 60000\n",
    "print(len(test_dataset))   # 10000\n",
    "print(len(train_loader))   # 600\n",
    "print(len(test_loader))    # 100"
   ]
  },
  {
   "cell_type": "markdown",
   "metadata": {},
   "source": [
    "- DataLoaderから1バッチ分のデータを取り出す方法\n",
    "- DataLoaderをiterで囲んでnext()すればよい"
   ]
  },
  {
   "cell_type": "code",
   "execution_count": 5,
   "metadata": {},
   "outputs": [
    {
     "name": "stdout",
     "output_type": "stream",
     "text": [
      "<class 'torch.Tensor'>\n",
      "<class 'torch.Tensor'>\n",
      "torch.Size([100, 1, 28, 28])\n",
      "torch.Size([100])\n"
     ]
    }
   ],
   "source": [
    "# 1データだけ取得\n",
    "image, label = iter(train_loader).next()\n",
    "print(type(image))   # <class 'torch.FloatTensor'>\n",
    "print(type(label))   # <class 'torch.LongTensor'>\n",
    "print(image.size())  # torch.Size([100, 1, 28, 28])\n",
    "print(label.size())  # torch.Size([100])"
   ]
  },
  {
   "cell_type": "code",
   "execution_count": 6,
   "metadata": {},
   "outputs": [
    {
     "data": {
      "text/plain": [
       "(-0.5, 145.5, 145.5, -0.5)"
      ]
     },
     "execution_count": 6,
     "metadata": {},
     "output_type": "execute_result"
    },
    {
     "data": {
      "image/png": "[encoded data removed]",
      "text/plain": [
       "<Figure size 432x288 with 1 Axes>"
      ]
     },
     "metadata": {},
     "output_type": "display_data"
    }
   ],
   "source": [
    "# 可視化\n",
    "import matplotlib.pyplot as plt\n",
    "import numpy as np\n",
    "%matplotlib inline\n",
    "\n",
    "def imshow(img):\n",
    "    npimg = img.numpy()\n",
    "    # [c, h, w] => [h, w, c]\n",
    "    plt.imshow(np.transpose(npimg, (1, 2, 0)))\n",
    "\n",
    "images, labels = iter(train_loader).next()\n",
    "images, labels = images[:25], labels[:25]\n",
    "imshow(torchvision.utils.make_grid(images, nrow=5, padding=1))\n",
    "plt.axis('off')"
   ]
  },
  {
   "cell_type": "code",
   "execution_count": 7,
   "metadata": {},
   "outputs": [],
   "source": [
    "class MultiLayerPerceptron(nn.Module):\n",
    "\n",
    "    def __init__(self, input_size, hidden_size, num_classes):\n",
    "        super(MultiLayerPerceptron, self).__init__()\n",
    "        self.fc1 = nn.Linear(input_size, hidden_size)\n",
    "        self.relu = nn.ReLU()\n",
    "        self.fc2 = nn.Linear(hidden_size, num_classes)\n",
    "\n",
    "    def forward(self, x):\n",
    "#         print(x.size())\n",
    "        out = self.fc1(x)\n",
    "#         print(out.size())\n",
    "        out = self.relu(out)\n",
    "#         print(out.size())\n",
    "        out = self.fc2(out)\n",
    "#         print(out.size())\n",
    "        return out"
   ]
  },
  {
   "cell_type": "markdown",
   "metadata": {},
   "source": [
    "- Sequentialを使ってまとめて書く方法もある\n",
    "- forward処理中に出力値を見られる"
   ]
  },
  {
   "cell_type": "code",
   "execution_count": 15,
   "metadata": {},
   "outputs": [],
   "source": [
    "model = MultiLayerPerceptron(input_size, hidden_size, num_classes)"
   ]
  },
  {
   "cell_type": "code",
   "execution_count": 16,
   "metadata": {},
   "outputs": [
    {
     "name": "stdout",
     "output_type": "stream",
     "text": [
      "befire view: torch.Size([100, 1, 28, 28])\n",
      "after view: torch.Size([100, 784])\n",
      "torch.Size([100, 10])\n"
     ]
    }
   ],
   "source": [
    "# テスト\n",
    "image, label = iter(train_loader).next()\n",
    "print(\"befire view:\", image.size())\n",
    "image = image.view(-1, 28 * 28)\n",
    "print(\"after view:\", image.size())\n",
    "output = model(image)\n",
    "print(output.size())"
   ]
  },
  {
   "cell_type": "code",
   "execution_count": 17,
   "metadata": {},
   "outputs": [],
   "source": [
    "criterion = nn.CrossEntropyLoss()\n",
    "optimizer = torch.optim.SGD(model.parameters(), lr=learning_rate)"
   ]
  },
  {
   "cell_type": "code",
   "execution_count": 18,
   "metadata": {},
   "outputs": [
    {
     "name": "stdout",
     "output_type": "stream",
     "text": [
      "epoch 0, loss: 2.2276 val_loss: 2.1488 val_acc: 0.5230\n",
      "epoch 1, loss: 2.0729 val_loss: 1.9791 val_acc: 0.7124\n",
      "epoch 2, loss: 1.8919 val_loss: 1.7798 val_acc: 0.7401\n",
      "epoch 3, loss: 1.6870 val_loss: 1.5648 val_acc: 0.7583\n",
      "epoch 4, loss: 1.4785 val_loss: 1.3595 val_acc: 0.7808\n",
      "epoch 5, loss: 1.2890 val_loss: 1.1827 val_acc: 0.8003\n",
      "epoch 6, loss: 1.1307 val_loss: 1.0397 val_acc: 0.8160\n",
      "epoch 7, loss: 1.0047 val_loss: 0.9280 val_acc: 0.8243\n",
      "epoch 8, loss: 0.9059 val_loss: 0.8407 val_acc: 0.8337\n",
      "epoch 9, loss: 0.8282 val_loss: 0.7718 val_acc: 0.8405\n",
      "epoch 10, loss: 0.7664 val_loss: 0.7166 val_acc: 0.8482\n",
      "epoch 11, loss: 0.7162 val_loss: 0.6714 val_acc: 0.8541\n",
      "epoch 12, loss: 0.6750 val_loss: 0.6339 val_acc: 0.8599\n",
      "epoch 13, loss: 0.6406 val_loss: 0.6027 val_acc: 0.8648\n",
      "epoch 14, loss: 0.6114 val_loss: 0.5758 val_acc: 0.8682\n",
      "epoch 15, loss: 0.5863 val_loss: 0.5528 val_acc: 0.8706\n",
      "epoch 16, loss: 0.5646 val_loss: 0.5327 val_acc: 0.8736\n",
      "epoch 17, loss: 0.5457 val_loss: 0.5151 val_acc: 0.8762\n",
      "epoch 18, loss: 0.5289 val_loss: 0.4998 val_acc: 0.8783\n",
      "epoch 19, loss: 0.5141 val_loss: 0.4858 val_acc: 0.8806\n",
      "epoch 20, loss: 0.5008 val_loss: 0.4734 val_acc: 0.8826\n",
      "epoch 21, loss: 0.4888 val_loss: 0.4623 val_acc: 0.8838\n",
      "epoch 22, loss: 0.4780 val_loss: 0.4520 val_acc: 0.8849\n",
      "epoch 23, loss: 0.4682 val_loss: 0.4428 val_acc: 0.8879\n",
      "epoch 24, loss: 0.4592 val_loss: 0.4344 val_acc: 0.8882\n",
      "epoch 25, loss: 0.4510 val_loss: 0.4267 val_acc: 0.8899\n",
      "epoch 26, loss: 0.4434 val_loss: 0.4197 val_acc: 0.8916\n",
      "epoch 27, loss: 0.4364 val_loss: 0.4131 val_acc: 0.8928\n",
      "epoch 28, loss: 0.4299 val_loss: 0.4068 val_acc: 0.8936\n",
      "epoch 29, loss: 0.4238 val_loss: 0.4012 val_acc: 0.8952\n",
      "epoch 30, loss: 0.4182 val_loss: 0.3960 val_acc: 0.8965\n",
      "epoch 31, loss: 0.4129 val_loss: 0.3911 val_acc: 0.8969\n",
      "epoch 32, loss: 0.4080 val_loss: 0.3864 val_acc: 0.8981\n",
      "epoch 33, loss: 0.4034 val_loss: 0.3820 val_acc: 0.8986\n",
      "epoch 34, loss: 0.3990 val_loss: 0.3780 val_acc: 0.8991\n",
      "epoch 35, loss: 0.3948 val_loss: 0.3742 val_acc: 0.8993\n",
      "epoch 36, loss: 0.3909 val_loss: 0.3704 val_acc: 0.9002\n",
      "epoch 37, loss: 0.3872 val_loss: 0.3669 val_acc: 0.9004\n",
      "epoch 38, loss: 0.3837 val_loss: 0.3635 val_acc: 0.9009\n",
      "epoch 39, loss: 0.3803 val_loss: 0.3606 val_acc: 0.9010\n",
      "epoch 40, loss: 0.3771 val_loss: 0.3576 val_acc: 0.9016\n",
      "epoch 41, loss: 0.3740 val_loss: 0.3545 val_acc: 0.9018\n",
      "epoch 42, loss: 0.3711 val_loss: 0.3518 val_acc: 0.9025\n",
      "epoch 43, loss: 0.3682 val_loss: 0.3491 val_acc: 0.9030\n",
      "epoch 44, loss: 0.3655 val_loss: 0.3466 val_acc: 0.9031\n",
      "epoch 45, loss: 0.3629 val_loss: 0.3443 val_acc: 0.9044\n",
      "epoch 46, loss: 0.3604 val_loss: 0.3420 val_acc: 0.9051\n",
      "epoch 47, loss: 0.3580 val_loss: 0.3396 val_acc: 0.9053\n",
      "epoch 48, loss: 0.3557 val_loss: 0.3375 val_acc: 0.9055\n",
      "epoch 49, loss: 0.3534 val_loss: 0.3355 val_acc: 0.9060\n"
     ]
    }
   ],
   "source": [
    "def train(train_loader):\n",
    "    model.train()\n",
    "    running_loss = 0\n",
    "    for batch_idx, (images, labels) in enumerate(train_loader):\n",
    "        images = images.view(-1, 28 * 28)\n",
    "        \n",
    "        optimizer.zero_grad()\n",
    "        outputs = model(images)\n",
    "\n",
    "        loss = criterion(outputs, labels)\n",
    "        running_loss += loss.item()\n",
    "\n",
    "        loss.backward()\n",
    "        optimizer.step()\n",
    "\n",
    "    train_loss = running_loss / len(train_loader)\n",
    "    \n",
    "    return train_loss\n",
    "\n",
    "\n",
    "def valid(test_loader):\n",
    "    model.eval()\n",
    "    running_loss = 0\n",
    "    correct = 0\n",
    "    total = 0\n",
    "    for batch_idx, (images, labels) in enumerate(test_loader):\n",
    "        images = images.view(-1, 28 * 28)\n",
    "\n",
    "        outputs = model(images)\n",
    "\n",
    "        loss = criterion(outputs, labels)\n",
    "        running_loss += loss.item()\n",
    "\n",
    "        _, predicted = torch.max(outputs, 1)\n",
    "        correct += (predicted == labels).sum()\n",
    "        total += labels.size(0)\n",
    "\n",
    "    val_loss = running_loss / len(test_loader)\n",
    "    val_acc = correct.float() / total\n",
    "    \n",
    "    return val_loss, val_acc\n",
    "\n",
    "\n",
    "loss_list = []\n",
    "val_loss_list = []\n",
    "val_acc_list = []\n",
    "for epoch in range(num_epochs):\n",
    "    loss = train(train_loader)\n",
    "    val_loss, val_acc = valid(test_loader)\n",
    "\n",
    "    print('epoch %d, loss: %.4f val_loss: %.4f val_acc: %.4f'\n",
    "          % (epoch, loss, val_loss, val_acc))\n",
    "    \n",
    "    # logging\n",
    "    loss_list.append(loss)\n",
    "    val_loss_list.append(val_loss)\n",
    "    val_acc_list.append(val_acc)"
   ]
  },
  {
   "cell_type": "code",
   "execution_count": 19,
   "metadata": {},
   "outputs": [
    {
     "data": {
      "image/png": "[encoded data removed]",
      "text/plain": [
       "<Figure size 432x288 with 1 Axes>"
      ]
     },
     "metadata": {},
     "output_type": "display_data"
    },
    {
     "data": {
      "image/png": "[encoded data removed]",
      "text/plain": [
       "<Figure size 432x288 with 1 Axes>"
      ]
     },
     "metadata": {},
     "output_type": "display_data"
    }
   ],
   "source": [
    "import matplotlib.pyplot as plt\n",
    "%matplotlib inline\n",
    "\n",
    "# plot learning curve\n",
    "plt.figure()\n",
    "plt.plot(range(num_epochs), loss_list, 'r-', label='train_loss')\n",
    "plt.plot(range(num_epochs), val_loss_list, 'b-', label='val_loss')\n",
    "plt.legend()\n",
    "plt.xlabel('epoch')\n",
    "plt.ylabel('loss')\n",
    "plt.grid()\n",
    "\n",
    "plt.figure()\n",
    "plt.plot(range(num_epochs), val_acc_list, 'g-', label='val_acc')\n",
    "plt.legend()\n",
    "plt.xlabel('epoch')\n",
    "plt.ylabel('acc')\n",
    "plt.grid()"
   ]
  },
  {
   "cell_type": "code",
   "execution_count": null,
   "metadata": {},
   "outputs": [],
   "source": []
  }
 ],
 "metadata": {
  "kernelspec": {
   "display_name": "Python 3",
   "language": "python",
   "name": "python3"
  },
  "language_info": {
   "codemirror_mode": {
    "name": "ipython",
    "version": 3
   },
   "file_extension": ".py",
   "mimetype": "text/x-python",
   "name": "python",
   "nbconvert_exporter": "python",
   "pygments_lexer": "ipython3",
   "version": "3.6.5"
  }
 },
 "nbformat": 4,
 "nbformat_minor": 2
}
