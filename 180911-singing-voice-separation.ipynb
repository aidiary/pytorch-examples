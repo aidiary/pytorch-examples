{
 "cells": [
  {
   "cell_type": "markdown",
   "metadata": {},
   "source": [
    "# Singing Voice Separation\n",
    "\n",
    "- https://qiita.com/xiao_ming/items/88826e576b87141c4909"
   ]
  },
  {
   "cell_type": "code",
   "execution_count": 2,
   "metadata": {},
   "outputs": [],
   "source": [
    "import torch\n",
    "import torch.nn as nn\n",
    "import torch.nn.functional as F"
   ]
  },
  {
   "cell_type": "code",
   "execution_count": 83,
   "metadata": {},
   "outputs": [],
   "source": [
    "class UNet(nn.Module):\n",
    "    \n",
    "    def __init__(self):\n",
    "        super(UNet, self).__init__()\n",
    "        \n",
    "        self.conv1 = nn.Conv2d(1, 16, kernel_size=4, stride=2, padding=1)\n",
    "        self.bn1 = nn.BatchNorm2d(16)\n",
    "        self.conv2 = nn.Conv2d(16, 32, kernel_size=4, stride=2, padding=1)\n",
    "        self.bn2 = nn.BatchNorm2d(32)\n",
    "        self.conv3 = nn.Conv2d(32, 64, kernel_size=4, stride=2, padding=1)\n",
    "        self.bn3 = nn.BatchNorm2d(64)\n",
    "        self.conv4 = nn.Conv2d(64, 128, kernel_size=4, stride=2, padding=1)\n",
    "        self.bn4 = nn.BatchNorm2d(128)\n",
    "        self.conv5 = nn.Conv2d(128, 256, kernel_size=4, stride=2, padding=1)\n",
    "        self.bn5 = nn.BatchNorm2d(256)\n",
    "        self.conv6 = nn.Conv2d(256, 512, kernel_size=4, stride=2, padding=1)\n",
    "        self.bn6 = nn.BatchNorm2d(512)\n",
    "        \n",
    "        self.deconv1 = nn.ConvTranspose2d(512, 256, kernel_size=4, stride=2, padding=1)\n",
    "        self.debn1 = nn.BatchNorm2d(256)\n",
    "        self.deconv2 = nn.ConvTranspose2d(512, 128, kernel_size=4, stride=2, padding=1)\n",
    "        self.debn2 = nn.BatchNorm2d(128)\n",
    "        self.deconv3 = nn.ConvTranspose2d(256, 64, kernel_size=4, stride=2, padding=1)\n",
    "        self.debn3 = nn.BatchNorm2d(64)\n",
    "        self.deconv4 = nn.ConvTranspose2d(128, 32, kernel_size=4, stride=2, padding=1)\n",
    "        self.debn4 = nn.BatchNorm2d(32)\n",
    "        self.deconv5 = nn.ConvTranspose2d(64, 16, kernel_size=4, stride=2, padding=1)\n",
    "        self.debn5 = nn.BatchNorm2d(16)\n",
    "        self.deconv6 = nn.ConvTranspose2d(32, 1, kernel_size=4, stride=2, padding=1)\n",
    "\n",
    "    def forward(self, x):\n",
    "        # encoder\n",
    "        h1 = F.leaky_relu(self.bn1(self.conv1(x)))\n",
    "#        print(h1.size())\n",
    "        h2 = F.leaky_relu(self.bn2(self.conv2(h1)))\n",
    "#        print(h2.size())\n",
    "        h3 = F.leaky_relu(self.bn3(self.conv3(h2)))\n",
    "#        print(h3.size())\n",
    "        h4 = F.leaky_relu(self.bn4(self.conv4(h3)))\n",
    "#        print(h4.size())\n",
    "        h5 = F.leaky_relu(self.bn5(self.conv5(h4)))\n",
    "#        print(h5.size())\n",
    "        h6 = F.leaky_relu(self.bn6(self.conv6(h5)))\n",
    "#        print(h6.size())\n",
    "        \n",
    "        # decoder\n",
    "        dh = F.relu(F.dropout(self.debn1(self.deconv1(h6))))\n",
    "        dh = F.relu(F.dropout(self.debn2(self.deconv2(torch.cat((dh, h5), dim=1)))))\n",
    "        dh = F.relu(F.dropout(self.debn3(self.deconv3(torch.cat((dh, h4), dim=1)))))\n",
    "        dh = F.relu(self.debn4(self.deconv4(torch.cat((dh, h3), dim=1))))\n",
    "        dh = F.relu(self.debn5(self.deconv5(torch.cat((dh, h2), dim=1))))\n",
    "        dh = torch.sigmoid(self.deconv6(torch.cat((dh, h1), dim=1)))\n",
    "\n",
    "        return dh"
   ]
  },
  {
   "cell_type": "code",
   "execution_count": 84,
   "metadata": {},
   "outputs": [],
   "source": [
    "model = UNet()"
   ]
  },
  {
   "cell_type": "code",
   "execution_count": 85,
   "metadata": {},
   "outputs": [
    {
     "data": {
      "text/plain": [
       "torch.Size([1, 1, 512, 128])"
      ]
     },
     "execution_count": 85,
     "metadata": {},
     "output_type": "execute_result"
    }
   ],
   "source": [
    "x = torch.rand(1, 1, 512, 128)\n",
    "x.size()"
   ]
  },
  {
   "cell_type": "code",
   "execution_count": 86,
   "metadata": {},
   "outputs": [],
   "source": [
    "out = model(x)"
   ]
  },
  {
   "cell_type": "code",
   "execution_count": 87,
   "metadata": {},
   "outputs": [
    {
     "data": {
      "text/plain": [
       "torch.Size([1, 1, 512, 128])"
      ]
     },
     "execution_count": 87,
     "metadata": {},
     "output_type": "execute_result"
    }
   ],
   "source": [
    "out.size()"
   ]
  },
  {
   "cell_type": "code",
   "execution_count": null,
   "metadata": {},
   "outputs": [],
   "source": []
  }
 ],
 "metadata": {
  "kernelspec": {
   "display_name": "Python 3",
   "language": "python",
   "name": "python3"
  },
  "language_info": {
   "codemirror_mode": {
    "name": "ipython",
    "version": 3
   },
   "file_extension": ".py",
   "mimetype": "text/x-python",
   "name": "python",
   "nbconvert_exporter": "python",
   "pygments_lexer": "ipython3",
   "version": "3.6.5"
  }
 },
 "nbformat": 4,
 "nbformat_minor": 2
}
