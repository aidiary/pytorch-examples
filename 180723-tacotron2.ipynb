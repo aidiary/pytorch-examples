{
 "cells": [
  {
   "cell_type": "markdown",
   "metadata": {},
   "source": [
    "# Tacotron2\n",
    "- https://github.com/NVIDIA/tacotron2"
   ]
  },
  {
   "cell_type": "code",
   "execution_count": 174,
   "metadata": {},
   "outputs": [
    {
     "name": "stdout",
     "output_type": "stream",
     "text": [
      "The autoreload extension is already loaded. To reload it, use:\n",
      "  %reload_ext autoreload\n"
     ]
    }
   ],
   "source": [
    "import torch\n",
    "import torch.nn as nn\n",
    "from torch.utils.data import DataLoader\n",
    "\n",
    "from hparams import create_hparams\n",
    "from model import Tacotron2, Encoder, Decoder, Prenet, Attention\n",
    "from data_utils import TextMelLoader, TextMelCollate\n",
    "from utils import load_filepaths_and_text, load_wav_to_torch, get_mask_from_lengths\n",
    "from layers import TacotronSTFT, LinearNorm\n",
    "from text import text_to_sequence, sequence_to_text\n",
    "\n",
    "\n",
    "import matplotlib.pyplot as plt\n",
    "%matplotlib inline\n",
    "\n",
    "%load_ext autoreload\n",
    "%autoreload 2"
   ]
  },
  {
   "cell_type": "markdown",
   "metadata": {},
   "source": [
    "## Hyperparameters"
   ]
  },
  {
   "cell_type": "code",
   "execution_count": 2,
   "metadata": {},
   "outputs": [],
   "source": [
    "hparams = create_hparams(None)"
   ]
  },
  {
   "cell_type": "code",
   "execution_count": 3,
   "metadata": {},
   "outputs": [
    {
     "name": "stdout",
     "output_type": "stream",
     "text": [
      "epochs: 500\n",
      "iters_per_checkpoint: 500\n",
      "seed: 1234\n",
      "dynamic_loss_scaling: True\n",
      "fp16_run: False\n",
      "distributed_run: False\n",
      "dist_backend: nccl\n",
      "dist_url: file://distributed.dpt\n",
      "cudnn_enabled: True\n",
      "cudnn_benchmark: False\n",
      "load_mel_from_disk: True\n",
      "training_files: filelists/ljs_audio_text_train_filelist.txt\n",
      "validation_files: filelists/ljs_audio_text_val_filelist.txt\n",
      "text_cleaners: ['english_cleaners']\n",
      "sort_by_length: False\n",
      "max_wav_value: 32768.0\n",
      "sampling_rate: 22050\n",
      "filter_length: 1024\n",
      "hop_length: 256\n",
      "win_length: 1024\n",
      "n_mel_channels: 80\n",
      "mel_fmin: 0.0\n",
      "mel_fmax: None\n",
      "n_symbols: 149\n",
      "symbols_embedding_dim: 512\n",
      "encoder_kernel_size: 5\n",
      "encoder_n_convolutions: 3\n",
      "encoder_embedding_dim: 512\n",
      "n_frames_per_step: 1\n",
      "decoder_rnn_dim: 1024\n",
      "prenet_dim: 256\n",
      "max_decoder_steps: 1000\n",
      "gate_threshold: 0.6\n",
      "attention_rnn_dim: 1024\n",
      "attention_dim: 128\n",
      "attention_location_n_filters: 32\n",
      "attention_location_kernel_size: 31\n",
      "postnet_embedding_dim: 512\n",
      "postnet_kernel_size: 5\n",
      "postnet_n_convolutions: 5\n",
      "use_saved_learning_rate: False\n",
      "learning_rate: 0.001\n",
      "weight_decay: 1e-06\n",
      "grad_clip_thresh: 1\n",
      "batch_size: 48\n",
      "mask_padding: False\n"
     ]
    }
   ],
   "source": [
    "for k, v in hparams.values().items():\n",
    "    print('%s: %s' % (k, v))"
   ]
  },
  {
   "cell_type": "markdown",
   "metadata": {},
   "source": [
    "## Model"
   ]
  },
  {
   "cell_type": "code",
   "execution_count": 4,
   "metadata": {},
   "outputs": [
    {
     "name": "stderr",
     "output_type": "stream",
     "text": [
      "/Users/koichiro.mori/git/tacotron2/layers.py:35: UserWarning: nn.init.xavier_uniform is now deprecated in favor of nn.init.xavier_uniform_.\n",
      "  self.conv.weight, gain=torch.nn.init.calculate_gain(w_init_gain))\n",
      "/Users/koichiro.mori/git/tacotron2/layers.py:15: UserWarning: nn.init.xavier_uniform is now deprecated in favor of nn.init.xavier_uniform_.\n",
      "  gain=torch.nn.init.calculate_gain(w_init_gain))\n"
     ]
    }
   ],
   "source": [
    "model = Tacotron2(hparams).to('cpu')"
   ]
  },
  {
   "cell_type": "code",
   "execution_count": 5,
   "metadata": {},
   "outputs": [
    {
     "data": {
      "text/plain": [
       "Tacotron2(\n",
       "  (embedding): Embedding(149, 512)\n",
       "  (encoder): Encoder(\n",
       "    (dropout): Dropout(p=0.5)\n",
       "    (convolutions): ModuleList(\n",
       "      (0): Sequential(\n",
       "        (0): ConvNorm(\n",
       "          (conv): Conv1d(512, 512, kernel_size=(5,), stride=(1,), padding=(2,))\n",
       "        )\n",
       "        (1): BatchNorm1d(512, eps=1e-05, momentum=0.1, affine=True, track_running_stats=True)\n",
       "      )\n",
       "      (1): Sequential(\n",
       "        (0): ConvNorm(\n",
       "          (conv): Conv1d(512, 512, kernel_size=(5,), stride=(1,), padding=(2,))\n",
       "        )\n",
       "        (1): BatchNorm1d(512, eps=1e-05, momentum=0.1, affine=True, track_running_stats=True)\n",
       "      )\n",
       "      (2): Sequential(\n",
       "        (0): ConvNorm(\n",
       "          (conv): Conv1d(512, 512, kernel_size=(5,), stride=(1,), padding=(2,))\n",
       "        )\n",
       "        (1): BatchNorm1d(512, eps=1e-05, momentum=0.1, affine=True, track_running_stats=True)\n",
       "      )\n",
       "    )\n",
       "    (lstm): LSTM(512, 256, batch_first=True, bidirectional=True)\n",
       "  )\n",
       "  (decoder): Decoder(\n",
       "    (prenet): Prenet(\n",
       "      (layers): ModuleList(\n",
       "        (0): LinearNorm(\n",
       "          (linear_layer): Linear(in_features=80, out_features=256, bias=False)\n",
       "        )\n",
       "        (1): LinearNorm(\n",
       "          (linear_layer): Linear(in_features=256, out_features=256, bias=False)\n",
       "        )\n",
       "      )\n",
       "    )\n",
       "    (attention_rnn): LSTMCell(1536, 1024)\n",
       "    (attention_layer): Attention(\n",
       "      (query_layer): LinearNorm(\n",
       "        (linear_layer): Linear(in_features=1024, out_features=128, bias=False)\n",
       "      )\n",
       "      (memory_layer): LinearNorm(\n",
       "        (linear_layer): Linear(in_features=512, out_features=128, bias=False)\n",
       "      )\n",
       "      (v): LinearNorm(\n",
       "        (linear_layer): Linear(in_features=128, out_features=1, bias=False)\n",
       "      )\n",
       "      (location_layer): LocationLayer(\n",
       "        (location_conv): ConvNorm(\n",
       "          (conv): Conv1d(2, 32, kernel_size=(31,), stride=(1,), padding=(15,), bias=False)\n",
       "        )\n",
       "        (location_dense): LinearNorm(\n",
       "          (linear_layer): Linear(in_features=32, out_features=128, bias=False)\n",
       "        )\n",
       "      )\n",
       "    )\n",
       "    (decoder_rnn): LSTMCell(768, 1024, bias=1)\n",
       "    (linear_projection): LinearNorm(\n",
       "      (linear_layer): Linear(in_features=1536, out_features=80, bias=True)\n",
       "    )\n",
       "    (gate_layer): LinearNorm(\n",
       "      (linear_layer): Linear(in_features=1536, out_features=1, bias=True)\n",
       "    )\n",
       "  )\n",
       "  (postnet): Postnet(\n",
       "    (dropout): Dropout(p=0.5)\n",
       "    (convolutions): ModuleList(\n",
       "      (0): Sequential(\n",
       "        (0): ConvNorm(\n",
       "          (conv): Conv1d(80, 512, kernel_size=(5,), stride=(1,), padding=(2,))\n",
       "        )\n",
       "        (1): BatchNorm1d(512, eps=1e-05, momentum=0.1, affine=True, track_running_stats=True)\n",
       "      )\n",
       "      (1): Sequential(\n",
       "        (0): ConvNorm(\n",
       "          (conv): Conv1d(512, 512, kernel_size=(5,), stride=(1,), padding=(2,))\n",
       "        )\n",
       "        (1): BatchNorm1d(512, eps=1e-05, momentum=0.1, affine=True, track_running_stats=True)\n",
       "      )\n",
       "      (2): Sequential(\n",
       "        (0): ConvNorm(\n",
       "          (conv): Conv1d(512, 512, kernel_size=(5,), stride=(1,), padding=(2,))\n",
       "        )\n",
       "        (1): BatchNorm1d(512, eps=1e-05, momentum=0.1, affine=True, track_running_stats=True)\n",
       "      )\n",
       "      (3): Sequential(\n",
       "        (0): ConvNorm(\n",
       "          (conv): Conv1d(512, 512, kernel_size=(5,), stride=(1,), padding=(2,))\n",
       "        )\n",
       "        (1): BatchNorm1d(512, eps=1e-05, momentum=0.1, affine=True, track_running_stats=True)\n",
       "      )\n",
       "      (4): Sequential(\n",
       "        (0): ConvNorm(\n",
       "          (conv): Conv1d(512, 80, kernel_size=(5,), stride=(1,), padding=(2,))\n",
       "        )\n",
       "        (1): BatchNorm1d(80, eps=1e-05, momentum=0.1, affine=True, track_running_stats=True)\n",
       "      )\n",
       "    )\n",
       "  )\n",
       ")"
      ]
     },
     "execution_count": 5,
     "metadata": {},
     "output_type": "execute_result"
    }
   ],
   "source": [
    "model"
   ]
  },
  {
   "cell_type": "code",
   "execution_count": 6,
   "metadata": {},
   "outputs": [
    {
     "name": "stdout",
     "output_type": "stream",
     "text": [
      "False\n",
      "False\n",
      "80\n",
      "1\n"
     ]
    }
   ],
   "source": [
    "print(model.mask_padding)\n",
    "print(model.fp16_run)\n",
    "print(model.n_mel_channels)\n",
    "print(model.n_frames_per_step)"
   ]
  },
  {
   "cell_type": "code",
   "execution_count": 7,
   "metadata": {},
   "outputs": [
    {
     "name": "stdout",
     "output_type": "stream",
     "text": [
      "149\n",
      "512\n"
     ]
    }
   ],
   "source": [
    "print(hparams.n_symbols)\n",
    "print(hparams.symbols_embedding_dim)"
   ]
  },
  {
   "cell_type": "code",
   "execution_count": 8,
   "metadata": {},
   "outputs": [
    {
     "data": {
      "text/plain": [
       "Embedding(149, 512)"
      ]
     },
     "execution_count": 8,
     "metadata": {},
     "output_type": "execute_result"
    }
   ],
   "source": [
    "embedding = nn.Embedding(149, 512)\n",
    "embedding"
   ]
  },
  {
   "cell_type": "code",
   "execution_count": 9,
   "metadata": {},
   "outputs": [
    {
     "name": "stderr",
     "output_type": "stream",
     "text": [
      "/Users/koichiro.mori/git/tacotron2/layers.py:35: UserWarning: nn.init.xavier_uniform is now deprecated in favor of nn.init.xavier_uniform_.\n",
      "  self.conv.weight, gain=torch.nn.init.calculate_gain(w_init_gain))\n"
     ]
    }
   ],
   "source": [
    "encoder = Encoder(hparams)"
   ]
  },
  {
   "cell_type": "code",
   "execution_count": 10,
   "metadata": {},
   "outputs": [
    {
     "name": "stdout",
     "output_type": "stream",
     "text": [
      "3\n",
      "512\n",
      "5\n"
     ]
    }
   ],
   "source": [
    "print(hparams.encoder_n_convolutions)\n",
    "print(hparams.encoder_embedding_dim)\n",
    "print(hparams.encoder_kernel_size)"
   ]
  },
  {
   "cell_type": "code",
   "execution_count": 11,
   "metadata": {},
   "outputs": [],
   "source": [
    "class ConvNorm(torch.nn.Module):\n",
    "    def __init__(self, in_channels, out_channels, kernel_size=1, stride=1,\n",
    "                 padding=None, dilation=1, bias=True, w_init_gain='linear'):\n",
    "        super(ConvNorm, self).__init__()\n",
    "        if padding is None:\n",
    "            assert(kernel_size % 2 == 1)\n",
    "            padding = int(dilation * (kernel_size - 1) / 2)\n",
    "        \n",
    "        self.conv = torch.nn.Conv1d(in_channels, out_channels,\n",
    "                                    kernel_size=kernel_size, stride=stride,\n",
    "                                    padding=padding, dilation=dilation,\n",
    "                                    bias=bias)\n",
    "        \n",
    "        torch.nn.init.xavier_uniform_(\n",
    "            self.conv.weight, gain=torch.nn.init.calculate_gain(w_init_gain)\n",
    "        )\n",
    "    \n",
    "    def forward(self, signal):\n",
    "        conv_signal = self.conv(signal)\n",
    "        return conv_signal"
   ]
  },
  {
   "cell_type": "code",
   "execution_count": 12,
   "metadata": {},
   "outputs": [],
   "source": [
    "convolutions = []\n",
    "for _ in range(3):\n",
    "    conv_layer = nn.Sequential(\n",
    "        ConvNorm(512, 512, kernel_size=5, stride=1, padding=2, dilation=1, w_init_gain='relu'),\n",
    "        nn.BatchNorm1d(512)\n",
    "    )\n",
    "    convolutions.append(conv_layer)"
   ]
  },
  {
   "cell_type": "code",
   "execution_count": 13,
   "metadata": {},
   "outputs": [],
   "source": [
    "convolutions = nn.ModuleList(convolutions)"
   ]
  },
  {
   "cell_type": "code",
   "execution_count": 14,
   "metadata": {},
   "outputs": [
    {
     "data": {
      "text/plain": [
       "ModuleList(\n",
       "  (0): Sequential(\n",
       "    (0): ConvNorm(\n",
       "      (conv): Conv1d(512, 512, kernel_size=(5,), stride=(1,), padding=(2,))\n",
       "    )\n",
       "    (1): BatchNorm1d(512, eps=1e-05, momentum=0.1, affine=True, track_running_stats=True)\n",
       "  )\n",
       "  (1): Sequential(\n",
       "    (0): ConvNorm(\n",
       "      (conv): Conv1d(512, 512, kernel_size=(5,), stride=(1,), padding=(2,))\n",
       "    )\n",
       "    (1): BatchNorm1d(512, eps=1e-05, momentum=0.1, affine=True, track_running_stats=True)\n",
       "  )\n",
       "  (2): Sequential(\n",
       "    (0): ConvNorm(\n",
       "      (conv): Conv1d(512, 512, kernel_size=(5,), stride=(1,), padding=(2,))\n",
       "    )\n",
       "    (1): BatchNorm1d(512, eps=1e-05, momentum=0.1, affine=True, track_running_stats=True)\n",
       "  )\n",
       ")"
      ]
     },
     "execution_count": 14,
     "metadata": {},
     "output_type": "execute_result"
    }
   ],
   "source": [
    "convolutions"
   ]
  },
  {
   "cell_type": "code",
   "execution_count": 15,
   "metadata": {},
   "outputs": [],
   "source": [
    "lstm = nn.LSTM(512, 256, 1, batch_first=True, bidirectional=True)"
   ]
  },
  {
   "cell_type": "code",
   "execution_count": 16,
   "metadata": {},
   "outputs": [
    {
     "data": {
      "text/plain": [
       "LSTM(512, 256, batch_first=True, bidirectional=True)"
      ]
     },
     "execution_count": 16,
     "metadata": {},
     "output_type": "execute_result"
    }
   ],
   "source": [
    "lstm"
   ]
  },
  {
   "cell_type": "markdown",
   "metadata": {},
   "source": [
    "## DataLoader"
   ]
  },
  {
   "cell_type": "code",
   "execution_count": 17,
   "metadata": {},
   "outputs": [
    {
     "data": {
      "text/plain": [
       "'filelists/ljs_audio_text_train_filelist.txt'"
      ]
     },
     "execution_count": 17,
     "metadata": {},
     "output_type": "execute_result"
    }
   ],
   "source": [
    "hparams.training_files"
   ]
  },
  {
   "cell_type": "code",
   "execution_count": 18,
   "metadata": {},
   "outputs": [],
   "source": [
    "trainset = TextMelLoader(hparams.training_files, hparams)"
   ]
  },
  {
   "cell_type": "code",
   "execution_count": 19,
   "metadata": {},
   "outputs": [
    {
     "data": {
      "text/plain": [
       "12500"
      ]
     },
     "execution_count": 19,
     "metadata": {},
     "output_type": "execute_result"
    }
   ],
   "source": [
    "len(trainset)"
   ]
  },
  {
   "cell_type": "code",
   "execution_count": 20,
   "metadata": {},
   "outputs": [],
   "source": [
    "audiopaths_and_text = load_filepaths_and_text(hparams.training_files, hparams)"
   ]
  },
  {
   "cell_type": "code",
   "execution_count": 21,
   "metadata": {},
   "outputs": [
    {
     "data": {
      "text/plain": [
       "[['./LJSpeech-1.1/wavs/LJ037-0003.wav', 'Eyewitnesses'],\n",
       " ['./LJSpeech-1.1/wavs/LJ043-0159.wav', 'Answer: Yes.'],\n",
       " ['./LJSpeech-1.1/wavs/LJ006-0281.wav', 'in some yards'],\n",
       " ['./LJSpeech-1.1/wavs/LJ032-0100.wav', 'Marina Oswald'],\n",
       " ['./LJSpeech-1.1/wavs/LJ031-0024.wav', 'Gene C. Akin;'],\n",
       " ['./LJSpeech-1.1/wavs/LJ011-0028.wav', 'In his defense'],\n",
       " ['./LJSpeech-1.1/wavs/LJ012-0199.wav', 'After a little'],\n",
       " ['./LJSpeech-1.1/wavs/LJ037-0219.wav', \"Oswald's Jacket\"],\n",
       " ['./LJSpeech-1.1/wavs/LJ040-0062.wav', 'The Early Years'],\n",
       " ['./LJSpeech-1.1/wavs/LJ033-0135.wav', 'Location of Bag']]"
      ]
     },
     "execution_count": 21,
     "metadata": {},
     "output_type": "execute_result"
    }
   ],
   "source": [
    "audiopaths_and_text[:10]"
   ]
  },
  {
   "cell_type": "code",
   "execution_count": 22,
   "metadata": {},
   "outputs": [
    {
     "name": "stdout",
     "output_type": "stream",
     "text": [
      "['english_cleaners']\n",
      "32768.0\n",
      "22050\n",
      "True\n"
     ]
    }
   ],
   "source": [
    "print(hparams.text_cleaners)\n",
    "print(hparams.max_wav_value)\n",
    "print(hparams.sampling_rate)\n",
    "print(hparams.load_mel_from_disk)"
   ]
  },
  {
   "cell_type": "code",
   "execution_count": 23,
   "metadata": {},
   "outputs": [
    {
     "name": "stdout",
     "output_type": "stream",
     "text": [
      "1024\n",
      "256\n",
      "1024\n",
      "80\n",
      "22050\n",
      "0.0\n",
      "None\n"
     ]
    }
   ],
   "source": [
    "print(hparams.filter_length)\n",
    "print(hparams.hop_length)\n",
    "print(hparams.win_length)\n",
    "print(hparams.n_mel_channels)\n",
    "print(hparams.sampling_rate)\n",
    "print(hparams.mel_fmin)\n",
    "print(hparams.mel_fmax)"
   ]
  },
  {
   "cell_type": "code",
   "execution_count": 24,
   "metadata": {},
   "outputs": [],
   "source": [
    "stft = TacotronSTFT(1024, 256, 1024, 80, 22050, 0.0, None)"
   ]
  },
  {
   "cell_type": "code",
   "execution_count": 25,
   "metadata": {},
   "outputs": [
    {
     "data": {
      "text/plain": [
       "['./LJSpeech-1.1/wavs/LJ037-0003.wav', 'Eyewitnesses']"
      ]
     },
     "execution_count": 25,
     "metadata": {},
     "output_type": "execute_result"
    }
   ],
   "source": [
    "index = 0\n",
    "audiopaths_and_text[index]"
   ]
  },
  {
   "cell_type": "code",
   "execution_count": 26,
   "metadata": {},
   "outputs": [
    {
     "name": "stdout",
     "output_type": "stream",
     "text": [
      "./LJSpeech-1.1/wavs/LJ038-0003.wav\n",
      "Oswald's Arrest\n"
     ]
    }
   ],
   "source": [
    "audiopath, text = audiopaths_and_text[10][0], audiopaths_and_text[10][1]\n",
    "print(audiopath)\n",
    "print(text)"
   ]
  },
  {
   "cell_type": "code",
   "execution_count": 27,
   "metadata": {},
   "outputs": [
    {
     "name": "stdout",
     "output_type": "stream",
     "text": [
      "['english_cleaners']\n"
     ]
    }
   ],
   "source": [
    "print(hparams.text_cleaners)"
   ]
  },
  {
   "cell_type": "code",
   "execution_count": 28,
   "metadata": {},
   "outputs": [
    {
     "data": {
      "text/plain": [
       "[42, 46, 50, 28, 39, 31, 55, 46, 64, 28, 45, 45, 32, 46, 47, 1]"
      ]
     },
     "execution_count": 28,
     "metadata": {},
     "output_type": "execute_result"
    }
   ],
   "source": [
    "seq = text_to_sequence(text, ['english_cleaners'])\n",
    "seq"
   ]
  },
  {
   "cell_type": "code",
   "execution_count": 29,
   "metadata": {},
   "outputs": [
    {
     "data": {
      "text/plain": [
       "\"oswald's arrest~\""
      ]
     },
     "execution_count": 29,
     "metadata": {},
     "output_type": "execute_result"
    }
   ],
   "source": [
    "t = sequence_to_text(seq)\n",
    "t"
   ]
  },
  {
   "cell_type": "markdown",
   "metadata": {},
   "source": [
    "- `hparams.load_mel_from_disk` はTrueになっているがなぜ動く？音声ファイルが入力だからFalseにしないと動かないはず"
   ]
  },
  {
   "cell_type": "code",
   "execution_count": 30,
   "metadata": {},
   "outputs": [],
   "source": [
    "audio = load_wav_to_torch(audiopath, 22050)"
   ]
  },
  {
   "cell_type": "code",
   "execution_count": 31,
   "metadata": {},
   "outputs": [
    {
     "data": {
      "text/plain": [
       "[<matplotlib.lines.Line2D at 0x12029b358>]"
      ]
     },
     "execution_count": 31,
     "metadata": {},
     "output_type": "execute_result"
    },
    {
     "data": {
      "image/png": "[encoded data removed]",
      "text/plain": [
       "<Figure size 432x288 with 1 Axes>"
      ]
     },
     "metadata": {},
     "output_type": "display_data"
    }
   ],
   "source": [
    "plt.plot(audio.numpy())"
   ]
  },
  {
   "cell_type": "code",
   "execution_count": 32,
   "metadata": {},
   "outputs": [
    {
     "name": "stdout",
     "output_type": "stream",
     "text": [
      "32768.0\n"
     ]
    }
   ],
   "source": [
    "print(hparams.max_wav_value)\n",
    "# -1から1に標準化\n",
    "audio_norm = audio / hparams.max_wav_value"
   ]
  },
  {
   "cell_type": "code",
   "execution_count": 33,
   "metadata": {},
   "outputs": [
    {
     "data": {
      "text/plain": [
       "[<matplotlib.lines.Line2D at 0x1204dd6a0>]"
      ]
     },
     "execution_count": 33,
     "metadata": {},
     "output_type": "execute_result"
    },
    {
     "data": {
      "image/png": "[encoded data removed]",
      "text/plain": [
       "<Figure size 432x288 with 1 Axes>"
      ]
     },
     "metadata": {},
     "output_type": "display_data"
    }
   ],
   "source": [
    "plt.plot(audio_norm.numpy())"
   ]
  },
  {
   "cell_type": "code",
   "execution_count": 34,
   "metadata": {},
   "outputs": [],
   "source": [
    "audio_norm = audio_norm.unsqueeze(0)"
   ]
  },
  {
   "cell_type": "code",
   "execution_count": 35,
   "metadata": {},
   "outputs": [
    {
     "data": {
      "text/plain": [
       "torch.Size([1, 33181])"
      ]
     },
     "execution_count": 35,
     "metadata": {},
     "output_type": "execute_result"
    }
   ],
   "source": [
    "audio_norm.size()"
   ]
  },
  {
   "cell_type": "code",
   "execution_count": 36,
   "metadata": {},
   "outputs": [],
   "source": [
    "melspec = stft.mel_spectrogram(audio_norm)"
   ]
  },
  {
   "cell_type": "code",
   "execution_count": 37,
   "metadata": {},
   "outputs": [
    {
     "data": {
      "text/plain": [
       "torch.Size([1, 80, 130])"
      ]
     },
     "execution_count": 37,
     "metadata": {},
     "output_type": "execute_result"
    }
   ],
   "source": [
    "melspec.size()"
   ]
  },
  {
   "cell_type": "code",
   "execution_count": 38,
   "metadata": {},
   "outputs": [
    {
     "data": {
      "text/plain": [
       "torch.Size([80, 130])"
      ]
     },
     "execution_count": 38,
     "metadata": {},
     "output_type": "execute_result"
    }
   ],
   "source": [
    "melspec = torch.squeeze(melspec, 0)\n",
    "melspec.size()"
   ]
  },
  {
   "cell_type": "markdown",
   "metadata": {},
   "source": [
    "- 入力となるメルスペクトログラムの次元は [mel, frame]\n",
    "- frame長は入力となる波形のサイズによって異なる"
   ]
  },
  {
   "cell_type": "code",
   "execution_count": 39,
   "metadata": {},
   "outputs": [],
   "source": [
    "hparams.load_mel_from_disk = False"
   ]
  },
  {
   "cell_type": "code",
   "execution_count": 40,
   "metadata": {},
   "outputs": [],
   "source": [
    "trainset = TextMelLoader(hparams.training_files, hparams)"
   ]
  },
  {
   "cell_type": "code",
   "execution_count": 41,
   "metadata": {},
   "outputs": [],
   "source": [
    "text, mel = trainset[0]"
   ]
  },
  {
   "cell_type": "code",
   "execution_count": 42,
   "metadata": {},
   "outputs": [
    {
     "data": {
      "text/plain": [
       "torch.Size([107])"
      ]
     },
     "execution_count": 42,
     "metadata": {},
     "output_type": "execute_result"
    }
   ],
   "source": [
    "text.size()"
   ]
  },
  {
   "cell_type": "code",
   "execution_count": 43,
   "metadata": {},
   "outputs": [
    {
     "data": {
      "text/plain": [
       "torch.Size([80, 749])"
      ]
     },
     "execution_count": 43,
     "metadata": {},
     "output_type": "execute_result"
    }
   ],
   "source": [
    "mel.size()"
   ]
  },
  {
   "cell_type": "markdown",
   "metadata": {},
   "source": [
    "## collate_fn: ミニバッチごとに入力データが同じサイズになるようにpaddingする処理"
   ]
  },
  {
   "cell_type": "code",
   "execution_count": 44,
   "metadata": {},
   "outputs": [],
   "source": [
    "collate_fn = TextMelCollate(hparams.n_frames_per_step)"
   ]
  },
  {
   "cell_type": "code",
   "execution_count": 45,
   "metadata": {},
   "outputs": [],
   "source": [
    "train_loader = DataLoader(trainset, shuffle=False, batch_size=4, pin_memory=False, drop_last=True, collate_fn=collate_fn)"
   ]
  },
  {
   "cell_type": "code",
   "execution_count": 46,
   "metadata": {},
   "outputs": [],
   "source": [
    "text_padded, input_lengths, mel_padded, gate_padded, output_lengths = iter(train_loader).next()"
   ]
  },
  {
   "cell_type": "code",
   "execution_count": 47,
   "metadata": {},
   "outputs": [
    {
     "name": "stdout",
     "output_type": "stream",
     "text": [
      "torch.Size([4, 107])\n",
      "tensor([ 107,   95,   67,   60])\n",
      "torch.Size([4, 80, 750])\n",
      "torch.Size([4, 750])\n",
      "tensor([ 749,  515,  376,  319])\n"
     ]
    }
   ],
   "source": [
    "print(text_padded.size())\n",
    "print(input_lengths)\n",
    "print(mel_padded.size())\n",
    "print(gate_padded.size())\n",
    "print(output_lengths)"
   ]
  },
  {
   "cell_type": "code",
   "execution_count": 48,
   "metadata": {},
   "outputs": [],
   "source": [
    "# collate_fnの調査用のミニバッチ\n",
    "d1 = trainset[0]\n",
    "d2 = trainset[1]\n",
    "d3 = trainset[4]\n",
    "d4 = trainset[5]"
   ]
  },
  {
   "cell_type": "code",
   "execution_count": 49,
   "metadata": {},
   "outputs": [],
   "source": [
    "batch = [d1, d2, d3, d4]"
   ]
  },
  {
   "cell_type": "code",
   "execution_count": 50,
   "metadata": {},
   "outputs": [
    {
     "data": {
      "text/plain": [
       "4"
      ]
     },
     "execution_count": 50,
     "metadata": {},
     "output_type": "execute_result"
    }
   ],
   "source": [
    "len(batch)"
   ]
  },
  {
   "cell_type": "code",
   "execution_count": 51,
   "metadata": {},
   "outputs": [
    {
     "data": {
      "text/plain": [
       "[107, 60, 121, 107]"
      ]
     },
     "execution_count": 51,
     "metadata": {},
     "output_type": "execute_result"
    }
   ],
   "source": [
    "# 各テキストの長さ\n",
    "[len(x[0]) for x in batch]"
   ]
  },
  {
   "cell_type": "code",
   "execution_count": 52,
   "metadata": {},
   "outputs": [
    {
     "data": {
      "text/plain": [
       "tensor([ 107,   60,  121,  107])"
      ]
     },
     "execution_count": 52,
     "metadata": {},
     "output_type": "execute_result"
    }
   ],
   "source": [
    "torch.LongTensor([107, 60, 121, 107])"
   ]
  },
  {
   "cell_type": "code",
   "execution_count": 53,
   "metadata": {},
   "outputs": [],
   "source": [
    "# input_lenghtsは降順ソートしたテキストの長さのリスト\n",
    "# 元のインデックス\n",
    "input_lengths, ids_sorted_decreasing = torch.sort(torch.LongTensor([107, 60, 121, 107]), dim=0, descending=True)"
   ]
  },
  {
   "cell_type": "code",
   "execution_count": 54,
   "metadata": {},
   "outputs": [
    {
     "data": {
      "text/plain": [
       "tensor([ 121,  107,  107,   60])"
      ]
     },
     "execution_count": 54,
     "metadata": {},
     "output_type": "execute_result"
    }
   ],
   "source": [
    "input_lengths"
   ]
  },
  {
   "cell_type": "code",
   "execution_count": 55,
   "metadata": {},
   "outputs": [
    {
     "data": {
      "text/plain": [
       "tensor([ 2,  0,  3,  1])"
      ]
     },
     "execution_count": 55,
     "metadata": {},
     "output_type": "execute_result"
    }
   ],
   "source": [
    "ids_sorted_decreasing"
   ]
  },
  {
   "cell_type": "code",
   "execution_count": 56,
   "metadata": {},
   "outputs": [],
   "source": [
    "max_input_len = input_lengths[0]"
   ]
  },
  {
   "cell_type": "code",
   "execution_count": 57,
   "metadata": {},
   "outputs": [
    {
     "data": {
      "text/plain": [
       "tensor(121)"
      ]
     },
     "execution_count": 57,
     "metadata": {},
     "output_type": "execute_result"
    }
   ],
   "source": [
    "max_input_len"
   ]
  },
  {
   "cell_type": "code",
   "execution_count": 58,
   "metadata": {},
   "outputs": [],
   "source": [
    "text_padded = torch.LongTensor(len(batch), max_input_len)"
   ]
  },
  {
   "cell_type": "code",
   "execution_count": 59,
   "metadata": {},
   "outputs": [
    {
     "data": {
      "text/plain": [
       "torch.Size([4, 121])"
      ]
     },
     "execution_count": 59,
     "metadata": {},
     "output_type": "execute_result"
    }
   ],
   "source": [
    "text_padded.size()"
   ]
  },
  {
   "cell_type": "code",
   "execution_count": 60,
   "metadata": {},
   "outputs": [],
   "source": [
    "for i in range(len(ids_sorted_decreasing)):\n",
    "    text = batch[ids_sorted_decreasing[i]][0]\n",
    "    text_padded[i, :text.size(0)] = text"
   ]
  },
  {
   "cell_type": "code",
   "execution_count": 61,
   "metadata": {},
   "outputs": [
    {
     "data": {
      "text/plain": [
       "tensor([[ 4.7000e+01,  4.2000e+01,  6.4000e+01,  4.7000e+01,  3.5000e+01,\n",
       "          3.2000e+01,  6.4000e+01,  4.6000e+01,  4.2000e+01,  4.9000e+01,\n",
       "          3.6000e+01,  3.2000e+01,  4.7000e+01,  6.4000e+01,  3.2000e+01,\n",
       "          4.0000e+01,  2.9000e+01,  2.8000e+01,  4.6000e+01,  4.6000e+01,\n",
       "          5.2000e+01,  6.4000e+01,  3.6000e+01,  4.1000e+01,  6.4000e+01,\n",
       "          5.0000e+01,  2.8000e+01,  4.6000e+01,  3.5000e+01,  3.6000e+01,\n",
       "          4.1000e+01,  3.4000e+01,  4.7000e+01,  4.2000e+01,  4.1000e+01,\n",
       "          5.8000e+01,  6.4000e+01,  3.5000e+01,  3.2000e+01,  6.4000e+01,\n",
       "          2.8000e+01,  4.6000e+01,  3.8000e+01,  3.2000e+01,  3.1000e+01,\n",
       "          6.4000e+01,  2.8000e+01,  2.9000e+01,  4.2000e+01,  4.8000e+01,\n",
       "          4.7000e+01,  6.4000e+01,  4.7000e+01,  3.5000e+01,  3.2000e+01,\n",
       "          6.4000e+01,  3.2000e+01,  4.1000e+01,  4.7000e+01,  4.5000e+01,\n",
       "          2.8000e+01,  4.1000e+01,  3.0000e+01,  3.2000e+01,  6.4000e+01,\n",
       "          4.9000e+01,  3.6000e+01,  4.6000e+01,  2.8000e+01,  4.6000e+01,\n",
       "          6.4000e+01,  3.3000e+01,  4.2000e+01,  4.5000e+01,  6.4000e+01,\n",
       "          5.0000e+01,  3.5000e+01,  3.6000e+01,  3.0000e+01,  3.5000e+01,\n",
       "          6.4000e+01,  3.5000e+01,  3.2000e+01,  6.4000e+01,  2.8000e+01,\n",
       "          4.1000e+01,  3.1000e+01,  6.4000e+01,  3.5000e+01,  3.6000e+01,\n",
       "          4.6000e+01,  6.4000e+01,  5.0000e+01,  3.6000e+01,  3.3000e+01,\n",
       "          3.2000e+01,  6.4000e+01,  3.5000e+01,  2.8000e+01,  3.1000e+01,\n",
       "          6.4000e+01,  4.3000e+01,  4.5000e+01,  3.2000e+01,  4.9000e+01,\n",
       "          3.6000e+01,  4.2000e+01,  4.8000e+01,  4.6000e+01,  3.9000e+01,\n",
       "          5.2000e+01,  6.4000e+01,  2.8000e+01,  4.3000e+01,  4.3000e+01,\n",
       "          3.9000e+01,  3.6000e+01,  3.2000e+01,  3.1000e+01,  6.0000e+01,\n",
       "          1.0000e+00],\n",
       "        [ 4.5000e+01,  6.0000e+01,  6.4000e+01,  4.6000e+01,  6.0000e+01,\n",
       "          6.4000e+01,  4.6000e+01,  4.7000e+01,  4.2000e+01,  4.9000e+01,\n",
       "          2.8000e+01,  3.9000e+01,  3.9000e+01,  5.8000e+01,  6.4000e+01,\n",
       "          2.8000e+01,  4.1000e+01,  3.1000e+01,  6.4000e+01,  3.4000e+01,\n",
       "          6.0000e+01,  6.4000e+01,  3.3000e+01,  6.0000e+01,  6.4000e+01,\n",
       "          4.5000e+01,  4.2000e+01,  4.6000e+01,  3.2000e+01,  6.4000e+01,\n",
       "          4.2000e+01,  2.9000e+01,  4.7000e+01,  2.8000e+01,  3.6000e+01,\n",
       "          4.1000e+01,  3.2000e+01,  3.1000e+01,  6.4000e+01,  2.8000e+01,\n",
       "          6.4000e+01,  4.6000e+01,  3.2000e+01,  2.8000e+01,  4.5000e+01,\n",
       "          3.0000e+01,  3.5000e+01,  6.4000e+01,  5.0000e+01,  2.8000e+01,\n",
       "          4.5000e+01,  4.5000e+01,  2.8000e+01,  4.1000e+01,  4.7000e+01,\n",
       "          6.4000e+01,  2.8000e+01,  4.1000e+01,  3.1000e+01,  6.4000e+01,\n",
       "          3.2000e+01,  5.1000e+01,  2.8000e+01,  4.0000e+01,  3.6000e+01,\n",
       "          4.1000e+01,  3.2000e+01,  3.1000e+01,  6.4000e+01,  4.2000e+01,\n",
       "          4.6000e+01,  5.0000e+01,  2.8000e+01,  3.9000e+01,  3.1000e+01,\n",
       "          5.5000e+01,  4.6000e+01,  6.4000e+01,  3.2000e+01,  3.3000e+01,\n",
       "          3.3000e+01,  3.2000e+01,  3.0000e+01,  4.7000e+01,  4.6000e+01,\n",
       "          6.4000e+01,  3.6000e+01,  4.1000e+01,  6.4000e+01,  4.7000e+01,\n",
       "          3.5000e+01,  3.2000e+01,  6.4000e+01,  4.3000e+01,  2.8000e+01,\n",
       "          3.6000e+01,  4.1000e+01,  3.2000e+01,  6.4000e+01,  3.4000e+01,\n",
       "          2.8000e+01,  4.5000e+01,  2.8000e+01,  3.4000e+01,  3.2000e+01,\n",
       "          6.0000e+01,  1.0000e+00,  6.9987e+18,  8.3884e+18,  8.0979e+18,\n",
       "          7.0708e+18,  8.3912e+18,  7.3055e+18,  8.3152e+18,  6.9266e+18,\n",
       "          7.3106e+18,  2.3149e+18,  7.3069e+18,  8.0263e+18,  7.4530e+18,\n",
       "          7.8873e+18],\n",
       "        [ 4.0000e+01,  3.6000e+01,  4.6000e+01,  4.7000e+01,  3.2000e+01,\n",
       "          4.5000e+01,  6.4000e+01,  2.9000e+01,  4.8000e+01,  5.1000e+01,\n",
       "          4.7000e+01,  4.2000e+01,  4.1000e+01,  5.5000e+01,  4.6000e+01,\n",
       "          6.4000e+01,  4.6000e+01,  4.0000e+01,  2.8000e+01,  3.9000e+01,\n",
       "          3.9000e+01,  6.4000e+01,  5.0000e+01,  4.2000e+01,  4.5000e+01,\n",
       "          3.8000e+01,  6.4000e+01,  4.2000e+01,  4.1000e+01,  6.4000e+01,\n",
       "          4.3000e+01,  4.5000e+01,  3.6000e+01,  4.6000e+01,  4.2000e+01,\n",
       "          4.1000e+01,  6.4000e+01,  3.1000e+01,  3.6000e+01,  4.6000e+01,\n",
       "          3.0000e+01,  3.6000e+01,  4.3000e+01,  3.9000e+01,  3.6000e+01,\n",
       "          4.1000e+01,  3.2000e+01,  6.4000e+01,  3.4000e+01,  2.8000e+01,\n",
       "          4.9000e+01,  3.2000e+01,  6.4000e+01,  2.8000e+01,  6.4000e+01,\n",
       "          4.1000e+01,  3.2000e+01,  5.0000e+01,  6.4000e+01,  2.8000e+01,\n",
       "          4.6000e+01,  4.3000e+01,  3.2000e+01,  3.0000e+01,  4.7000e+01,\n",
       "          6.4000e+01,  4.7000e+01,  4.2000e+01,  6.4000e+01,  4.7000e+01,\n",
       "          3.5000e+01,  3.2000e+01,  6.4000e+01,  4.4000e+01,  4.8000e+01,\n",
       "          3.2000e+01,  4.6000e+01,  4.7000e+01,  3.6000e+01,  4.2000e+01,\n",
       "          4.1000e+01,  6.4000e+01,  3.5000e+01,  3.2000e+01,  6.4000e+01,\n",
       "          3.5000e+01,  2.8000e+01,  3.1000e+01,  6.4000e+01,  4.6000e+01,\n",
       "          4.2000e+01,  6.4000e+01,  4.0000e+01,  4.8000e+01,  3.0000e+01,\n",
       "          3.5000e+01,  6.4000e+01,  2.8000e+01,  4.7000e+01,  6.4000e+01,\n",
       "          3.5000e+01,  3.2000e+01,  2.8000e+01,  4.5000e+01,  4.7000e+01,\n",
       "          6.0000e+01,  1.0000e+00,  2.3369e+18,  8.0306e+18,  6.9987e+18,\n",
       "          8.0978e+18,  8.3861e+18,  7.4494e+18,  7.5954e+18,  8.3900e+18,\n",
       "          7.8099e+18,  2.3149e+18,  8.3898e+18,  2.3400e+18,  6.9987e+18,\n",
       "          7.1622e+18],\n",
       "        [ 4.7000e+01,  3.5000e+01,  3.2000e+01,  6.4000e+01,  3.8000e+01,\n",
       "          4.1000e+01,  4.2000e+01,  5.0000e+01,  3.9000e+01,  3.2000e+01,\n",
       "          3.1000e+01,  3.4000e+01,  3.2000e+01,  6.4000e+01,  2.8000e+01,\n",
       "          4.1000e+01,  3.1000e+01,  6.4000e+01,  4.3000e+01,  4.5000e+01,\n",
       "          2.8000e+01,  3.0000e+01,  4.7000e+01,  3.6000e+01,  3.0000e+01,\n",
       "          3.2000e+01,  6.4000e+01,  4.2000e+01,  3.3000e+01,  6.4000e+01,\n",
       "          3.2000e+01,  4.9000e+01,  3.2000e+01,  4.5000e+01,  5.2000e+01,\n",
       "          6.4000e+01,  4.6000e+01,  4.3000e+01,  3.2000e+01,  3.0000e+01,\n",
       "          3.6000e+01,  3.2000e+01,  4.6000e+01,  6.4000e+01,  4.2000e+01,\n",
       "          3.3000e+01,  6.4000e+01,  3.0000e+01,  4.5000e+01,  3.6000e+01,\n",
       "          4.0000e+01,  3.6000e+01,  4.1000e+01,  2.8000e+01,  3.9000e+01,\n",
       "          3.6000e+01,  4.7000e+01,  5.2000e+01,  6.0000e+01,  1.0000e+00,\n",
       "          2.3149e+18,  8.3152e+18,  3.2553e+18,  2.3149e+18,  8.0306e+18,\n",
       "          2.3149e+18,  7.3072e+18,  7.9559e+18,  7.5752e+18,  2.3183e+18,\n",
       "          7.9391e+18,  6.9987e+18,  7.2368e+18,  7.3590e+18,  2.3087e+18,\n",
       "          8.1012e+18,  2.3149e+18,  3.2553e+18,  4.4851e+18,  7.5966e+18,\n",
       "          6.8780e+18,  3.1841e+18,  2.9688e+18,  2.3087e+18,  7.9354e+18,\n",
       "          7.3123e+18,  7.9560e+18,  7.9354e+18,  2.3087e+18,  2.3149e+18,\n",
       "          8.2459e+18,  7.0164e+18,  7.3061e+18,  7.2368e+18,  2.3149e+18,\n",
       "          2.3149e+18,  8.2459e+18,  7.0164e+18,  7.3061e+18,  7.5943e+18,\n",
       "          2.3149e+18,  7.0173e+18,  8.3912e+18,  2.3386e+18,  8.3140e+18,\n",
       "          2.3149e+18,  2.3149e+18,  8.0306e+18,  2.3383e+18,  8.3917e+18,\n",
       "          7.9594e+18,  6.9987e+18,  2.3347e+18,  8.0281e+18,  2.3149e+18,\n",
       "          7.8865e+18,  8.6743e+18,  8.6755e+18,  7.5943e+18,  7.4544e+18,\n",
       "          4.4294e+18]])"
      ]
     },
     "execution_count": 61,
     "metadata": {},
     "output_type": "execute_result"
    }
   ],
   "source": [
    "text_padded"
   ]
  },
  {
   "cell_type": "code",
   "execution_count": 62,
   "metadata": {},
   "outputs": [
    {
     "data": {
      "text/plain": [
       "torch.Size([80, 749])"
      ]
     },
     "execution_count": 62,
     "metadata": {},
     "output_type": "execute_result"
    }
   ],
   "source": [
    "batch[0][1].size()"
   ]
  },
  {
   "cell_type": "code",
   "execution_count": 63,
   "metadata": {},
   "outputs": [
    {
     "data": {
      "text/plain": [
       "80"
      ]
     },
     "execution_count": 63,
     "metadata": {},
     "output_type": "execute_result"
    }
   ],
   "source": [
    "num_mels = batch[0][1].size(0)\n",
    "num_mels"
   ]
  },
  {
   "cell_type": "code",
   "execution_count": 64,
   "metadata": {},
   "outputs": [
    {
     "data": {
      "text/plain": [
       "[749, 319, 635, 543]"
      ]
     },
     "execution_count": 64,
     "metadata": {},
     "output_type": "execute_result"
    }
   ],
   "source": [
    "# ミニバッチ内のメルスペクトログラムの系列長\n",
    "[x[1].size(1) for x in batch]"
   ]
  },
  {
   "cell_type": "code",
   "execution_count": 65,
   "metadata": {},
   "outputs": [],
   "source": [
    "max_target_len = max([749, 319, 635, 543]) + 1"
   ]
  },
  {
   "cell_type": "code",
   "execution_count": 66,
   "metadata": {},
   "outputs": [
    {
     "data": {
      "text/plain": [
       "750"
      ]
     },
     "execution_count": 66,
     "metadata": {},
     "output_type": "execute_result"
    }
   ],
   "source": [
    "max_target_len"
   ]
  },
  {
   "cell_type": "code",
   "execution_count": 67,
   "metadata": {},
   "outputs": [
    {
     "data": {
      "text/plain": [
       "1"
      ]
     },
     "execution_count": 67,
     "metadata": {},
     "output_type": "execute_result"
    }
   ],
   "source": [
    "hparams.n_frames_per_step"
   ]
  },
  {
   "cell_type": "code",
   "execution_count": 68,
   "metadata": {},
   "outputs": [
    {
     "data": {
      "text/plain": [
       "0"
      ]
     },
     "execution_count": 68,
     "metadata": {},
     "output_type": "execute_result"
    }
   ],
   "source": [
    "max_target_len % hparams.n_frames_per_step"
   ]
  },
  {
   "cell_type": "code",
   "execution_count": 69,
   "metadata": {},
   "outputs": [
    {
     "data": {
      "text/plain": [
       "torch.Size([4, 80, 750])"
      ]
     },
     "execution_count": 69,
     "metadata": {},
     "output_type": "execute_result"
    }
   ],
   "source": [
    "mel_padded = torch.FloatTensor(len(batch), num_mels, max_target_len)\n",
    "mel_padded.zero_()\n",
    "mel_padded.size()"
   ]
  },
  {
   "cell_type": "code",
   "execution_count": 70,
   "metadata": {},
   "outputs": [
    {
     "data": {
      "text/plain": [
       "torch.Size([4, 750])"
      ]
     },
     "execution_count": 70,
     "metadata": {},
     "output_type": "execute_result"
    }
   ],
   "source": [
    "# これは何に使う？ 系列長の長さのバッチみたい\n",
    "# 0でpaddingしたところを1にしている？\n",
    "gate_padded = torch.FloatTensor(len(batch), max_target_len)\n",
    "gate_padded.zero_()\n",
    "gate_padded.size()"
   ]
  },
  {
   "cell_type": "code",
   "execution_count": 71,
   "metadata": {},
   "outputs": [
    {
     "data": {
      "text/plain": [
       "torch.Size([4])"
      ]
     },
     "execution_count": 71,
     "metadata": {},
     "output_type": "execute_result"
    }
   ],
   "source": [
    "# オリジナルの系列長\n",
    "output_lengths = torch.LongTensor(len(batch))\n",
    "output_lengths.size()"
   ]
  },
  {
   "cell_type": "code",
   "execution_count": 72,
   "metadata": {},
   "outputs": [
    {
     "data": {
      "text/plain": [
       "tensor([ 2,  0,  3,  1])"
      ]
     },
     "execution_count": 72,
     "metadata": {},
     "output_type": "execute_result"
    }
   ],
   "source": [
    "# テキストのソート順\n",
    "ids_sorted_decreasing"
   ]
  },
  {
   "cell_type": "code",
   "execution_count": 73,
   "metadata": {},
   "outputs": [],
   "source": [
    "for i in range(len(ids_sorted_decreasing)):\n",
    "    mel = batch[ids_sorted_decreasing[i]][1]\n",
    "    mel_padded[i, :, :mel.size(1)] = mel\n",
    "    gate_padded[i, mel.size(1):] = 1  # paddingしたところを1にしている？\n",
    "    output_lengths[i] = mel.size(1)"
   ]
  },
  {
   "cell_type": "code",
   "execution_count": 74,
   "metadata": {},
   "outputs": [
    {
     "data": {
      "text/plain": [
       "torch.Size([4, 80, 750])"
      ]
     },
     "execution_count": 74,
     "metadata": {},
     "output_type": "execute_result"
    }
   ],
   "source": [
    "mel_padded.size()"
   ]
  },
  {
   "cell_type": "code",
   "execution_count": 75,
   "metadata": {},
   "outputs": [
    {
     "data": {
      "text/plain": [
       "tensor([ 635,  749,  543,  319])"
      ]
     },
     "execution_count": 75,
     "metadata": {},
     "output_type": "execute_result"
    }
   ],
   "source": [
    "output_lengths"
   ]
  },
  {
   "cell_type": "code",
   "execution_count": 76,
   "metadata": {},
   "outputs": [],
   "source": [
    "train_loader = DataLoader(trainset, shuffle=True, batch_size=4, pin_memory=False, drop_last=True, collate_fn=collate_fn)"
   ]
  },
  {
   "cell_type": "code",
   "execution_count": 77,
   "metadata": {},
   "outputs": [
    {
     "name": "stdout",
     "output_type": "stream",
     "text": [
      "torch.Size([4, 116]) tensor([ 116,  115,  106,   63]) torch.Size([4, 80, 676]) torch.Size([4, 676]) torch.Size([4]) tensor([ 611,  675,  574,  346])\n"
     ]
    }
   ],
   "source": [
    "text_padded, input_lengths, mel_padded, gate_padded, output_lengths = iter(train_loader).next()\n",
    "print(text_padded.size(), input_lengths, mel_padded.size(), gate_padded.size(), output_lengths.size(), output_lengths)"
   ]
  },
  {
   "cell_type": "code",
   "execution_count": 78,
   "metadata": {},
   "outputs": [
    {
     "name": "stdout",
     "output_type": "stream",
     "text": [
      "torch.Size([4, 158]) tensor([ 158,  138,   72,   19]) torch.Size([4, 80, 832])\n"
     ]
    }
   ],
   "source": [
    "text_padded, input_lengths, mel_padded, gate_padded, output_lengths = iter(train_loader).next()\n",
    "print(text_padded.size(), input_lengths, mel_padded.size())"
   ]
  },
  {
   "cell_type": "code",
   "execution_count": 79,
   "metadata": {},
   "outputs": [
    {
     "name": "stdout",
     "output_type": "stream",
     "text": [
      "0 torch.Size([4, 108]) torch.Size([4]) torch.Size([4, 80, 547]) torch.Size([4, 547]) torch.Size([4])\n"
     ]
    }
   ],
   "source": [
    "for i, batch in enumerate(train_loader):\n",
    "    print(i, batch[0].size(), batch[1].size(), batch[2].size(), batch[3].size(), batch[4].size())\n",
    "    break"
   ]
  },
  {
   "cell_type": "markdown",
   "metadata": {},
   "source": [
    "## Train"
   ]
  },
  {
   "cell_type": "markdown",
   "metadata": {},
   "source": [
    "- batchは (text_padded, input_lengths, mel_padded, gate_padded, output_lenghts) の5つ組\n",
    "- text_padded: zero paddingされたテキスト系列 (batch, text_length)\n",
    "- input_lengths: テキストのオリジナルの系列長 (batch, )\n",
    "- mel_padded: メルスペクトログラムのzero paddingされた系列長 (batch, num_mels, frame)\n",
    "- gate_padded: メルスペクトログラムでzero paddingされたところが1 (batch, frame)\n",
    "- output_lengths: メルスペクトログラムのオリジナルの系列長 (batch, )"
   ]
  },
  {
   "cell_type": "code",
   "execution_count": 80,
   "metadata": {},
   "outputs": [
    {
     "name": "stdout",
     "output_type": "stream",
     "text": [
      "torch.Size([4, 163]) torch.Size([4]) torch.Size([4, 80, 780]) torch.Size([4, 780]) torch.Size([4])\n"
     ]
    }
   ],
   "source": [
    "batch = iter(train_loader).next()\n",
    "print(batch[0].size(), batch[1].size(), batch[2].size(), batch[3].size(), batch[4].size())"
   ]
  },
  {
   "cell_type": "code",
   "execution_count": 81,
   "metadata": {},
   "outputs": [
    {
     "name": "stderr",
     "output_type": "stream",
     "text": [
      "/Users/koichiro.mori/git/tacotron2/layers.py:35: UserWarning: nn.init.xavier_uniform is now deprecated in favor of nn.init.xavier_uniform_.\n",
      "  self.conv.weight, gain=torch.nn.init.calculate_gain(w_init_gain))\n",
      "/Users/koichiro.mori/git/tacotron2/layers.py:15: UserWarning: nn.init.xavier_uniform is now deprecated in favor of nn.init.xavier_uniform_.\n",
      "  gain=torch.nn.init.calculate_gain(w_init_gain))\n"
     ]
    }
   ],
   "source": [
    "from model import Tacotron2, Encoder\n",
    "model = Tacotron2(hparams).to('cpu')"
   ]
  },
  {
   "cell_type": "code",
   "execution_count": 82,
   "metadata": {},
   "outputs": [],
   "source": [
    "batch_parser = model.parse_batch"
   ]
  },
  {
   "cell_type": "code",
   "execution_count": 83,
   "metadata": {},
   "outputs": [],
   "source": [
    "x, y = batch_parser(batch)"
   ]
  },
  {
   "cell_type": "code",
   "execution_count": 84,
   "metadata": {},
   "outputs": [
    {
     "name": "stdout",
     "output_type": "stream",
     "text": [
      "torch.Size([4, 163])\n",
      "torch.Size([4]) tensor([ 163,  121,  100,   76])\n",
      "torch.Size([4, 80, 780])\n",
      "163\n",
      "torch.Size([4]) tensor([ 779,  697,  627,  514])\n"
     ]
    }
   ],
   "source": [
    "print(x[0].size())\n",
    "print(x[1].size(), x[1])\n",
    "print(x[2].size())\n",
    "print(x[3])  # maxlen\n",
    "print(x[4].size(), x[4])"
   ]
  },
  {
   "cell_type": "code",
   "execution_count": 85,
   "metadata": {},
   "outputs": [
    {
     "name": "stdout",
     "output_type": "stream",
     "text": [
      "torch.Size([4, 80, 780])\n",
      "torch.Size([4, 780])\n"
     ]
    }
   ],
   "source": [
    "print(y[0].size())\n",
    "print(y[1].size())"
   ]
  },
  {
   "cell_type": "markdown",
   "metadata": {},
   "source": [
    "- x: text_padded, input_lengths, mel_padded, max(input_lenghts), output_lengths\n",
    "- y: mel_padded, gate_padded"
   ]
  },
  {
   "cell_type": "code",
   "execution_count": 86,
   "metadata": {},
   "outputs": [
    {
     "name": "stderr",
     "output_type": "stream",
     "text": [
      "/Users/koichiro.mori/git/tacotron2/layers.py:35: UserWarning: nn.init.xavier_uniform is now deprecated in favor of nn.init.xavier_uniform_.\n",
      "  self.conv.weight, gain=torch.nn.init.calculate_gain(w_init_gain))\n",
      "/Users/koichiro.mori/git/tacotron2/layers.py:15: UserWarning: nn.init.xavier_uniform is now deprecated in favor of nn.init.xavier_uniform_.\n",
      "  gain=torch.nn.init.calculate_gain(w_init_gain))\n"
     ]
    }
   ],
   "source": [
    "from model import Tacotron2, Encoder\n",
    "model = Tacotron2(hparams).to('cpu')"
   ]
  },
  {
   "cell_type": "code",
   "execution_count": 87,
   "metadata": {},
   "outputs": [
    {
     "name": "stdout",
     "output_type": "stream",
     "text": [
      "*** x: torch.Size([4, 512, 163])\n",
      "*** input_lengths: tensor([ 163,  121,  100,   76])\n",
      "*** conv: torch.Size([4, 512, 163])\n",
      "*** conv: torch.Size([4, 512, 163])\n",
      "*** conv: torch.Size([4, 512, 163])\n",
      "*** transpose: torch.Size([4, 163, 512])\n",
      "*** torch.Size([460, 512])\n",
      "*** outputs: torch.Size([460, 512])\n",
      "*** output: torch.Size([4, 163, 512])\n",
      "*** memory: torch.Size([4, 163, 512])\n",
      "*** decoder_input: torch.Size([4, 80])\n",
      "attention_hidden: torch.Size([4, 1024])\n",
      "attention_cell: torch.Size([4, 1024])\n",
      "decoder_hidden: torch.Size([4, 1024])\n",
      "decoder_cell: torch.Size([4, 1024])\n",
      "attention_weights: torch.Size([4, 163])\n",
      "attention_weights_cum: torch.Size([4, 163])\n",
      "attention_context: torch.Size([4, 512])\n"
     ]
    },
    {
     "data": {
      "text/plain": [
       "[tensor([[[-4.2111e-03, -7.8068e-02, -2.2712e-01,  ..., -1.5912e-01,\n",
       "           -4.3394e-01, -3.6552e-01],\n",
       "          [-5.8458e-02, -9.1870e-02,  8.7890e-02,  ..., -1.5803e-01,\n",
       "           -2.1279e-01, -2.7359e-01],\n",
       "          [ 5.6512e-02,  3.1115e-01,  9.8136e-03,  ..., -6.4732e-03,\n",
       "           -4.1777e-02,  4.4706e-02],\n",
       "          ...,\n",
       "          [-1.3845e-01,  7.1028e-02, -2.9720e-01,  ..., -4.4055e-02,\n",
       "           -1.1924e-01,  2.1763e-01],\n",
       "          [-7.3988e-02, -2.6394e-01, -2.1377e-01,  ...,  1.1835e-01,\n",
       "            1.0732e-01, -5.9689e-02],\n",
       "          [-2.0237e-03,  7.8121e-02, -2.2514e-01,  ..., -3.9958e-01,\n",
       "           -3.1027e-01, -4.8566e-01]],\n",
       " \n",
       "         [[-1.4365e-02, -1.7603e-01, -4.1345e-01,  ..., -4.3732e-02,\n",
       "           -4.3734e-02, -4.3737e-02],\n",
       "          [-4.1823e-02, -6.0722e-02, -6.5373e-02,  ..., -6.1569e-02,\n",
       "           -6.1569e-02, -6.1569e-02],\n",
       "          [ 7.3492e-02,  1.6417e-01,  1.7069e-01,  ...,  7.7085e-02,\n",
       "            7.7085e-02,  7.7085e-02],\n",
       "          ...,\n",
       "          [-1.4195e-01,  3.9275e-01,  6.0987e-02,  ..., -1.6264e-01,\n",
       "           -1.6266e-01, -1.6267e-01],\n",
       "          [-4.9635e-02,  8.4888e-02,  1.3098e-01,  ..., -5.4870e-02,\n",
       "           -5.4879e-02, -5.4887e-02],\n",
       "          [-4.1438e-02,  3.2737e-01,  1.0843e-01,  ..., -1.3842e-02,\n",
       "           -1.3847e-02, -1.3851e-02]],\n",
       " \n",
       "         [[ 2.2537e-02,  1.5792e-01, -1.1348e-01,  ...,  5.7010e-03,\n",
       "            5.7115e-03,  5.7221e-03],\n",
       "          [-5.5048e-02, -3.0543e-01, -5.5758e-01,  ..., -7.8482e-02,\n",
       "           -7.8492e-02, -7.8503e-02],\n",
       "          [ 5.8672e-02,  2.1621e-01, -7.6384e-02,  ...,  7.4471e-02,\n",
       "            7.4469e-02,  7.4467e-02],\n",
       "          ...,\n",
       "          [-1.4348e-01,  1.2106e-01, -1.9561e-04,  ..., -1.5648e-01,\n",
       "           -1.5645e-01, -1.5643e-01],\n",
       "          [-8.0980e-02,  1.3230e-01,  1.3915e-01,  ..., -8.2383e-02,\n",
       "           -8.2397e-02, -8.2410e-02],\n",
       "          [-1.9302e-02, -3.7313e-01, -2.0917e-02,  ..., -1.3113e-02,\n",
       "           -1.3124e-02, -1.3135e-02]],\n",
       " \n",
       "         [[ 4.9656e-03, -2.9702e-01, -2.5269e-01,  ..., -3.1609e-02,\n",
       "           -3.1608e-02, -3.1607e-02],\n",
       "          [-5.6643e-02,  1.3227e-01, -2.5818e-01,  ..., -7.6921e-02,\n",
       "           -7.6918e-02, -7.6915e-02],\n",
       "          [ 7.5287e-02, -1.3786e-01,  3.8970e-02,  ...,  7.8117e-02,\n",
       "            7.8112e-02,  7.8107e-02],\n",
       "          ...,\n",
       "          [-1.5263e-01, -1.0854e-01,  3.1180e-02,  ..., -1.6870e-01,\n",
       "           -1.6869e-01, -1.6869e-01],\n",
       "          [-4.3505e-02, -3.4091e-01,  5.0753e-02,  ..., -2.7414e-02,\n",
       "           -2.7436e-02, -2.7458e-02],\n",
       "          [-2.0193e-02, -7.0052e-02, -1.4587e-01,  ..., -8.4727e-03,\n",
       "           -8.4778e-03, -8.4829e-03]]]),\n",
       " tensor([[[-4.2111e-03, -7.8068e-02, -2.4843e-01,  ..., -9.6871e-01,\n",
       "           -1.3606e+00, -9.4497e-01],\n",
       "          [-4.6763e-02, -9.1870e-02,  8.7890e-02,  ...,  4.1919e-01,\n",
       "           -2.1279e-01, -2.7359e-01],\n",
       "          [ 5.6512e-02,  3.1115e-01,  9.8136e-03,  ...,  2.3979e+00,\n",
       "            1.2220e+00, -3.8188e-01],\n",
       "          ...,\n",
       "          [-1.3845e-01,  7.1028e-02, -2.9720e-01,  ..., -5.4292e-01,\n",
       "           -9.0689e-01,  2.1763e-01],\n",
       "          [-7.2902e-02, -2.6394e-01, -2.1377e-01,  ...,  7.3416e-03,\n",
       "           -8.1305e-02, -2.7069e-01],\n",
       "          [-2.0237e-03,  7.8121e-02, -2.2514e-01,  ..., -7.1941e-01,\n",
       "           -4.7430e-01, -4.8566e-01]],\n",
       " \n",
       "         [[ 2.9659e-04, -8.7436e-02, -4.1345e-01,  ..., -4.3732e-02,\n",
       "           -6.1275e-01,  4.2122e-01],\n",
       "          [-4.1823e-02, -6.0722e-02, -6.5373e-02,  ..., -6.1569e-02,\n",
       "           -1.8401e-01, -4.5370e-01],\n",
       "          [ 7.3492e-02,  1.6417e-01,  1.1862e+00,  ...,  2.2858e-01,\n",
       "            7.7085e-02, -1.0834e+00],\n",
       "          ...,\n",
       "          [-1.6311e-01, -8.3362e-03,  2.3760e-01,  ..., -6.6536e-01,\n",
       "            3.9795e-02, -1.6267e-01],\n",
       "          [-2.8551e-01,  3.0898e-01,  1.2219e-01,  ..., -5.4870e-02,\n",
       "           -1.4488e-01, -1.7983e-01],\n",
       "          [-4.1438e-02, -7.2376e-01, -1.3326e-01,  ...,  1.4856e-01,\n",
       "           -1.3847e-02, -1.3851e-02]],\n",
       " \n",
       "         [[ 2.2537e-02,  1.5792e-01, -1.1348e-01,  ..., -2.1008e-01,\n",
       "            1.0520e+00,  5.7221e-03],\n",
       "          [-3.2434e-01, -4.0951e-01, -4.8534e-01,  ..., -7.8482e-02,\n",
       "            8.8262e-02, -7.8503e-02],\n",
       "          [ 5.8672e-02,  2.1621e-01, -7.6384e-02,  ...,  7.4471e-02,\n",
       "            7.4469e-02,  6.7931e-01],\n",
       "          ...,\n",
       "          [-1.4348e-01,  1.2106e-01, -1.9561e-04,  ..., -5.2985e-01,\n",
       "           -1.5645e-01, -1.5643e-01],\n",
       "          [ 1.6722e-01,  1.2500e-01,  1.3915e-01,  ..., -8.2383e-02,\n",
       "           -8.2397e-02, -8.2410e-02],\n",
       "          [-1.9302e-02, -1.1457e+00, -2.0917e-02,  ..., -1.3113e-02,\n",
       "           -1.3124e-02, -1.0404e+00]],\n",
       " \n",
       "         [[ 4.0272e-01, -3.8128e-01,  5.0642e-01,  ..., -3.5974e-01,\n",
       "           -3.1608e-02, -2.8492e-01],\n",
       "          [-5.6643e-02,  4.7673e-01,  2.9776e-01,  ..., -7.6921e-02,\n",
       "           -7.6918e-02, -7.6915e-02],\n",
       "          [-3.2398e-03,  1.6770e+00,  3.8970e-02,  ...,  7.8117e-02,\n",
       "            7.8112e-02,  7.8107e-02],\n",
       "          ...,\n",
       "          [-1.5263e-01, -1.0854e-01,  3.1180e-02,  ..., -4.5758e-01,\n",
       "           -1.6869e-01, -1.6869e-01],\n",
       "          [-4.3505e-02, -3.4091e-01,  1.2448e-01,  ...,  3.9685e-01,\n",
       "           -2.7436e-02, -2.7458e-02],\n",
       "          [ 2.3628e-01, -7.0052e-02, -1.4587e-01,  ..., -8.2397e-01,\n",
       "            5.3084e-01, -8.4829e-03]]]),\n",
       " tensor([[-0.0231,  0.1348,  0.2627,  ..., -0.0560, -0.3972, -0.0496],\n",
       "         [-0.0167, -0.2220, -0.3065,  ..., -0.0345, -0.0345, -0.0345],\n",
       "         [-0.0202, -0.2841, -0.1370,  ..., -0.0389, -0.0389, -0.0390],\n",
       "         [-0.0253, -0.2373, -0.1793,  ..., -0.0194, -0.0194, -0.0194]]),\n",
       " tensor(1.00000e-02 *\n",
       "        [[[ 0.7483,  0.7578,  0.5709,  ...,  0.5665,  0.5702,  0.6148],\n",
       "          [ 0.7528,  0.7616,  0.5762,  ...,  0.5659,  0.5692,  0.6148],\n",
       "          [ 0.7508,  0.7596,  0.5776,  ...,  0.5691,  0.5682,  0.6116],\n",
       "          ...,\n",
       "          [ 2.0409,  1.8472,  0.6081,  ...,  0.8616,  0.4760,  0.4632],\n",
       "          [ 2.0068,  1.8498,  0.6009,  ...,  0.8183,  0.4734,  0.4599],\n",
       "          [ 2.0378,  1.7993,  0.6031,  ...,  0.8635,  0.4916,  0.4833]],\n",
       " \n",
       "         [[ 0.4522,  0.4731,  0.2661,  ...,  0.0000,  0.0000,  0.0000],\n",
       "          [ 0.4561,  0.4753,  0.2680,  ...,  0.0000,  0.0000,  0.0000],\n",
       "          [ 0.4597,  0.4714,  0.2685,  ...,  0.0000,  0.0000,  0.0000],\n",
       "          ...,\n",
       "          [ 1.8768,  1.8296,  0.6043,  ...,  0.0000,  0.0000,  0.0000],\n",
       "          [ 1.8766,  1.8296,  0.6045,  ...,  0.0000,  0.0000,  0.0000],\n",
       "          [ 1.8765,  1.8296,  0.6046,  ...,  0.0000,  0.0000,  0.0000]],\n",
       " \n",
       "         [[ 1.0926,  0.8100,  0.6740,  ...,  0.0000,  0.0000,  0.0000],\n",
       "          [ 1.0978,  0.8158,  0.6750,  ...,  0.0000,  0.0000,  0.0000],\n",
       "          [ 1.0886,  0.8160,  0.6683,  ...,  0.0000,  0.0000,  0.0000],\n",
       "          ...,\n",
       "          [ 2.7120,  1.5957,  0.7818,  ...,  0.0000,  0.0000,  0.0000],\n",
       "          [ 2.7103,  1.5956,  0.7815,  ...,  0.0000,  0.0000,  0.0000],\n",
       "          [ 2.7086,  1.5955,  0.7812,  ...,  0.0000,  0.0000,  0.0000]],\n",
       " \n",
       "         [[ 1.6341,  1.4704,  1.1116,  ...,  0.0000,  0.0000,  0.0000],\n",
       "          [ 1.6474,  1.4801,  1.1192,  ...,  0.0000,  0.0000,  0.0000],\n",
       "          [ 1.6575,  1.4852,  1.1256,  ...,  0.0000,  0.0000,  0.0000],\n",
       "          ...,\n",
       "          [ 2.9641,  2.1087,  1.2158,  ...,  0.0000,  0.0000,  0.0000],\n",
       "          [ 2.9627,  2.1066,  1.2163,  ...,  0.0000,  0.0000,  0.0000],\n",
       "          [ 2.9613,  2.1044,  1.2168,  ...,  0.0000,  0.0000,  0.0000]]])]"
      ]
     },
     "execution_count": 87,
     "metadata": {},
     "output_type": "execute_result"
    }
   ],
   "source": [
    "model(x)"
   ]
  },
  {
   "cell_type": "code",
   "execution_count": 88,
   "metadata": {},
   "outputs": [],
   "source": [
    "inputs, input_lengths, targets, max_len, output_lengths = batch"
   ]
  },
  {
   "cell_type": "code",
   "execution_count": 89,
   "metadata": {},
   "outputs": [],
   "source": [
    "input_lengths, output_lengths = input_lengths.data, output_lengths.data"
   ]
  },
  {
   "cell_type": "code",
   "execution_count": 90,
   "metadata": {},
   "outputs": [
    {
     "name": "stdout",
     "output_type": "stream",
     "text": [
      "tensor([ 163,  121,  100,   76])\n",
      "tensor([ 779,  697,  627,  514])\n"
     ]
    }
   ],
   "source": [
    "print(input_lengths)   # テキストの系列長　\n",
    "print(output_lengths)  # メルスペクトログラムの系列長"
   ]
  },
  {
   "cell_type": "code",
   "execution_count": 91,
   "metadata": {},
   "outputs": [],
   "source": [
    "embedded_inputs = model.embedding(inputs).transpose(1, 2)"
   ]
  },
  {
   "cell_type": "code",
   "execution_count": 92,
   "metadata": {},
   "outputs": [
    {
     "data": {
      "text/plain": [
       "torch.Size([4, 512, 163])"
      ]
     },
     "execution_count": 92,
     "metadata": {},
     "output_type": "execute_result"
    }
   ],
   "source": [
    "embedded_inputs.size()  # [batch, feature, seq] PyTorchのConv1dの入力サイズ"
   ]
  },
  {
   "cell_type": "markdown",
   "metadata": {},
   "source": [
    "### Encoder"
   ]
  },
  {
   "cell_type": "code",
   "execution_count": 93,
   "metadata": {},
   "outputs": [
    {
     "name": "stderr",
     "output_type": "stream",
     "text": [
      "/Users/koichiro.mori/git/tacotron2/layers.py:35: UserWarning: nn.init.xavier_uniform is now deprecated in favor of nn.init.xavier_uniform_.\n",
      "  self.conv.weight, gain=torch.nn.init.calculate_gain(w_init_gain))\n",
      "/Users/koichiro.mori/git/tacotron2/layers.py:15: UserWarning: nn.init.xavier_uniform is now deprecated in favor of nn.init.xavier_uniform_.\n",
      "  gain=torch.nn.init.calculate_gain(w_init_gain))\n"
     ]
    }
   ],
   "source": [
    "from model import Tacotron2, Encoder\n",
    "model = Tacotron2(hparams).to('cpu')"
   ]
  },
  {
   "cell_type": "code",
   "execution_count": 94,
   "metadata": {},
   "outputs": [
    {
     "name": "stdout",
     "output_type": "stream",
     "text": [
      "torch.Size([4, 512, 163])\n",
      "tensor([ 163,  121,  100,   76])\n"
     ]
    }
   ],
   "source": [
    "print(embedded_inputs.size())\n",
    "print(input_lengths)"
   ]
  },
  {
   "cell_type": "code",
   "execution_count": 95,
   "metadata": {},
   "outputs": [
    {
     "name": "stdout",
     "output_type": "stream",
     "text": [
      "*** x: torch.Size([4, 512, 163])\n",
      "*** input_lengths: tensor([ 163,  121,  100,   76])\n",
      "*** conv: torch.Size([4, 512, 163])\n",
      "*** conv: torch.Size([4, 512, 163])\n",
      "*** conv: torch.Size([4, 512, 163])\n",
      "*** transpose: torch.Size([4, 163, 512])\n",
      "*** torch.Size([460, 512])\n",
      "*** outputs: torch.Size([460, 512])\n",
      "*** output: torch.Size([4, 163, 512])\n"
     ]
    }
   ],
   "source": [
    "encoder_outputs = model.encoder(embedded_inputs, input_lengths)"
   ]
  },
  {
   "cell_type": "code",
   "execution_count": 96,
   "metadata": {},
   "outputs": [
    {
     "data": {
      "text/plain": [
       "torch.Size([4, 163, 512])"
      ]
     },
     "execution_count": 96,
     "metadata": {},
     "output_type": "execute_result"
    }
   ],
   "source": [
    "encoder_outputs.size()"
   ]
  },
  {
   "cell_type": "code",
   "execution_count": 97,
   "metadata": {},
   "outputs": [
    {
     "data": {
      "text/plain": [
       "LSTM(512, 256, batch_first=True, bidirectional=True)"
      ]
     },
     "execution_count": 97,
     "metadata": {},
     "output_type": "execute_result"
    }
   ],
   "source": [
    "lstm = nn.LSTM(512, 256, 1, batch_first=True, bidirectional=True)\n",
    "lstm"
   ]
  },
  {
   "cell_type": "markdown",
   "metadata": {},
   "source": [
    "- flatten_parameters()はマルチGPUで必要な処理？"
   ]
  },
  {
   "cell_type": "code",
   "execution_count": 98,
   "metadata": {},
   "outputs": [
    {
     "data": {
      "text/plain": [
       "LSTM(512, 256, batch_first=True, bidirectional=True)"
      ]
     },
     "execution_count": 98,
     "metadata": {},
     "output_type": "execute_result"
    }
   ],
   "source": [
    "lstm.flatten_parameters()\n",
    "lstm"
   ]
  },
  {
   "cell_type": "markdown",
   "metadata": {},
   "source": [
    "### Decoder"
   ]
  },
  {
   "cell_type": "code",
   "execution_count": 137,
   "metadata": {},
   "outputs": [
    {
     "data": {
      "text/plain": [
       "torch.Size([4, 163, 512])"
      ]
     },
     "execution_count": 137,
     "metadata": {},
     "output_type": "execute_result"
    }
   ],
   "source": [
    "# decoderのattention weightsを計算するのに使われる\n",
    "encoder_outputs.size()"
   ]
  },
  {
   "cell_type": "code",
   "execution_count": 138,
   "metadata": {},
   "outputs": [
    {
     "data": {
      "text/plain": [
       "torch.Size([4, 80, 780])"
      ]
     },
     "execution_count": 138,
     "metadata": {},
     "output_type": "execute_result"
    }
   ],
   "source": [
    "targets.size()"
   ]
  },
  {
   "cell_type": "code",
   "execution_count": 101,
   "metadata": {},
   "outputs": [
    {
     "data": {
      "text/plain": [
       "tensor([ 163,  121,  100,   76])"
      ]
     },
     "execution_count": 101,
     "metadata": {},
     "output_type": "execute_result"
    }
   ],
   "source": [
    "memory_lengths = input_lengths\n",
    "memory_lengths  # バッチを構成する入力テキストの系列長"
   ]
  },
  {
   "cell_type": "code",
   "execution_count": 139,
   "metadata": {},
   "outputs": [
    {
     "name": "stdout",
     "output_type": "stream",
     "text": [
      "80\n",
      "1\n",
      "512\n",
      "1024\n",
      "1024\n",
      "256\n",
      "1000\n",
      "0.6\n"
     ]
    }
   ],
   "source": [
    "print(hparams.n_mel_channels)\n",
    "print(hparams.n_frames_per_step)\n",
    "print(hparams.encoder_embedding_dim)\n",
    "print(hparams.attention_rnn_dim)\n",
    "print(hparams.decoder_rnn_dim)\n",
    "print(hparams.prenet_dim)\n",
    "print(hparams.max_decoder_steps)\n",
    "print(hparams.gate_threshold)"
   ]
  },
  {
   "cell_type": "code",
   "execution_count": 150,
   "metadata": {},
   "outputs": [],
   "source": [
    "memory = encoder_outputs  # エンコーダの出力（テキスト特徴量）\n",
    "decoder_inputs = targets  # メルスペクトログラム（出力となる）\n",
    "memory_lengths = input_lengths  # バッチを構成する入力テキストの系列長"
   ]
  },
  {
   "cell_type": "code",
   "execution_count": 151,
   "metadata": {},
   "outputs": [
    {
     "name": "stdout",
     "output_type": "stream",
     "text": [
      "torch.Size([4, 163, 512])\n",
      "torch.Size([4, 80, 780])\n",
      "tensor([ 163,  121,  100,   76])\n"
     ]
    }
   ],
   "source": [
    "print(memory.size())\n",
    "print(decoder_inputs.size())\n",
    "print(memory_lengths)"
   ]
  },
  {
   "cell_type": "code",
   "execution_count": 152,
   "metadata": {},
   "outputs": [
    {
     "name": "stderr",
     "output_type": "stream",
     "text": [
      "/Users/koichiro.mori/git/tacotron2/layers.py:15: UserWarning: nn.init.xavier_uniform is now deprecated in favor of nn.init.xavier_uniform_.\n",
      "  gain=torch.nn.init.calculate_gain(w_init_gain))\n",
      "/Users/koichiro.mori/git/tacotron2/layers.py:35: UserWarning: nn.init.xavier_uniform is now deprecated in favor of nn.init.xavier_uniform_.\n",
      "  self.conv.weight, gain=torch.nn.init.calculate_gain(w_init_gain))\n"
     ]
    }
   ],
   "source": [
    "decoder = Decoder(hparams)"
   ]
  },
  {
   "cell_type": "code",
   "execution_count": 153,
   "metadata": {},
   "outputs": [
    {
     "data": {
      "text/plain": [
       "torch.Size([4, 80])"
      ]
     },
     "execution_count": 153,
     "metadata": {},
     "output_type": "execute_result"
    }
   ],
   "source": [
    "decoder_input = decoder.get_go_frame(memory)\n",
    "decoder_input.size()"
   ]
  },
  {
   "cell_type": "code",
   "execution_count": 154,
   "metadata": {},
   "outputs": [],
   "source": [
    "decoder_inputs = decoder.parse_decoder_inputs(decoder_inputs)"
   ]
  },
  {
   "cell_type": "code",
   "execution_count": 155,
   "metadata": {},
   "outputs": [
    {
     "data": {
      "text/plain": [
       "torch.Size([780, 4, 80])"
      ]
     },
     "execution_count": 155,
     "metadata": {},
     "output_type": "execute_result"
    }
   ],
   "source": [
    "decoder_inputs.size()  # (seqlen, batch, features)"
   ]
  },
  {
   "cell_type": "code",
   "execution_count": 149,
   "metadata": {},
   "outputs": [
    {
     "data": {
      "text/plain": [
       "tensor([[[ -7.9470,  -7.1068,  -6.4366,  ...,  -8.7415,  -8.6529,\n",
       "           -9.1134],\n",
       "         [ -8.1235,  -6.3942,  -5.8867,  ...,  -9.5579,  -9.6605,\n",
       "           -9.8809],\n",
       "         [ -6.8018,  -5.8457,  -6.0552,  ...,  -8.8050,  -9.2375,\n",
       "          -10.5610],\n",
       "         [ -6.1744,  -6.3822,  -6.3996,  ...,  -9.9191, -10.0493,\n",
       "          -10.8555]],\n",
       "\n",
       "        [[ -7.6436,  -7.0450,  -6.1906,  ...,  -8.3608,  -8.2883,\n",
       "           -9.1178],\n",
       "         [ -8.2578,  -6.6928,  -5.9495,  ...,  -9.4310,  -9.6945,\n",
       "           -9.8029],\n",
       "         [ -6.3901,  -5.9171,  -5.2944,  ...,  -5.7075,  -6.1652,\n",
       "           -8.0939],\n",
       "         [ -6.6239,  -6.7819,  -5.7135,  ...,  -9.4868,  -9.9183,\n",
       "          -10.5577]],\n",
       "\n",
       "        [[ -7.1368,  -6.2999,  -5.3963,  ...,  -6.9938,  -7.5920,\n",
       "           -9.2136],\n",
       "         [ -8.3706,  -7.0172,  -6.5367,  ...,  -9.5467,  -9.5898,\n",
       "          -10.1134],\n",
       "         [ -7.2332,  -6.1908,  -5.3871,  ...,  -4.8795,  -5.3569,\n",
       "           -7.0563],\n",
       "         [ -6.3462,  -5.8769,  -5.1226,  ...,  -9.2160,  -9.3219,\n",
       "           -9.1734]],\n",
       "\n",
       "        ...,\n",
       "\n",
       "        [[ -6.7687,  -6.0647,  -5.6039,  ...,  -9.6751,  -9.9702,\n",
       "          -10.5580],\n",
       "         [  0.0000,   0.0000,   0.0000,  ...,   0.0000,   0.0000,\n",
       "            0.0000],\n",
       "         [  0.0000,   0.0000,   0.0000,  ...,   0.0000,   0.0000,\n",
       "            0.0000],\n",
       "         [  0.0000,   0.0000,   0.0000,  ...,   0.0000,   0.0000,\n",
       "            0.0000]],\n",
       "\n",
       "        [[ -6.3737,  -6.7325,  -6.2279,  ...,  -9.7096, -10.0112,\n",
       "          -10.4529],\n",
       "         [  0.0000,   0.0000,   0.0000,  ...,   0.0000,   0.0000,\n",
       "            0.0000],\n",
       "         [  0.0000,   0.0000,   0.0000,  ...,   0.0000,   0.0000,\n",
       "            0.0000],\n",
       "         [  0.0000,   0.0000,   0.0000,  ...,   0.0000,   0.0000,\n",
       "            0.0000]],\n",
       "\n",
       "        [[  0.0000,   0.0000,   0.0000,  ...,   0.0000,   0.0000,\n",
       "            0.0000],\n",
       "         [  0.0000,   0.0000,   0.0000,  ...,   0.0000,   0.0000,\n",
       "            0.0000],\n",
       "         [  0.0000,   0.0000,   0.0000,  ...,   0.0000,   0.0000,\n",
       "            0.0000],\n",
       "         [  0.0000,   0.0000,   0.0000,  ...,   0.0000,   0.0000,\n",
       "            0.0000]]])"
      ]
     },
     "execution_count": 149,
     "metadata": {},
     "output_type": "execute_result"
    }
   ],
   "source": [
    "decoder_inputs"
   ]
  },
  {
   "cell_type": "code",
   "execution_count": 109,
   "metadata": {},
   "outputs": [
    {
     "data": {
      "text/plain": [
       "torch.Size([4, 163, 512])"
      ]
     },
     "execution_count": 109,
     "metadata": {},
     "output_type": "execute_result"
    }
   ],
   "source": [
    "memory.size()"
   ]
  },
  {
   "cell_type": "code",
   "execution_count": 110,
   "metadata": {},
   "outputs": [
    {
     "data": {
      "text/plain": [
       "tensor([ 163,  121,  100,   76])"
      ]
     },
     "execution_count": 110,
     "metadata": {},
     "output_type": "execute_result"
    }
   ],
   "source": [
    "memory_lengths"
   ]
  },
  {
   "cell_type": "code",
   "execution_count": 111,
   "metadata": {},
   "outputs": [],
   "source": [
    "mask = ~get_mask_from_lengths(memory_lengths)"
   ]
  },
  {
   "cell_type": "code",
   "execution_count": 112,
   "metadata": {},
   "outputs": [
    {
     "data": {
      "text/plain": [
       "tensor([ 0,  0,  0,  0,  0,  0,  0,  0,  0,  0,  0,  0,  0,  0,\n",
       "         0,  0,  0,  0,  0,  0,  0,  0,  0,  0,  0,  0,  0,  0,\n",
       "         0,  0,  0,  0,  0,  0,  0,  0,  0,  0,  0,  0,  0,  0,\n",
       "         0,  0,  0,  0,  0,  0,  0,  0,  0,  0,  0,  0,  0,  0,\n",
       "         0,  0,  0,  0,  0,  0,  0,  0,  0,  0,  0,  0,  0,  0,\n",
       "         0,  0,  0,  0,  0,  0,  0,  0,  0,  0,  0,  0,  0,  0,\n",
       "         0,  0,  0,  0,  0,  0,  0,  0,  0,  0,  0,  0,  0,  0,\n",
       "         0,  0,  0,  0,  0,  0,  0,  0,  0,  0,  0,  0,  0,  0,\n",
       "         0,  0,  0,  0,  0,  0,  0,  0,  0,  0,  0,  0,  0,  0,\n",
       "         0,  0,  0,  0,  0,  0,  0,  0,  0,  0,  0,  0,  0,  0,\n",
       "         0,  0,  0,  0,  0,  0,  0,  0,  0,  0,  0,  0,  0,  0,\n",
       "         0,  0,  0,  0,  0,  0,  0,  0,  0], dtype=torch.uint8)"
      ]
     },
     "execution_count": 112,
     "metadata": {},
     "output_type": "execute_result"
    }
   ],
   "source": [
    "mask[0]"
   ]
  },
  {
   "cell_type": "code",
   "execution_count": 113,
   "metadata": {},
   "outputs": [
    {
     "data": {
      "text/plain": [
       "tensor([ 0,  0,  0,  0,  0,  0,  0,  0,  0,  0,  0,  0,  0,  0,\n",
       "         0,  0,  0,  0,  0,  0,  0,  0,  0,  0,  0,  0,  0,  0,\n",
       "         0,  0,  0,  0,  0,  0,  0,  0,  0,  0,  0,  0,  0,  0,\n",
       "         0,  0,  0,  0,  0,  0,  0,  0,  0,  0,  0,  0,  0,  0,\n",
       "         0,  0,  0,  0,  0,  0,  0,  0,  0,  0,  0,  0,  0,  0,\n",
       "         0,  0,  0,  0,  0,  0,  0,  0,  0,  0,  0,  0,  0,  0,\n",
       "         0,  0,  0,  0,  0,  0,  0,  0,  0,  0,  0,  0,  0,  0,\n",
       "         0,  0,  0,  0,  0,  0,  0,  0,  0,  0,  0,  0,  0,  0,\n",
       "         0,  0,  0,  0,  0,  0,  0,  0,  0,  1,  1,  1,  1,  1,\n",
       "         1,  1,  1,  1,  1,  1,  1,  1,  1,  1,  1,  1,  1,  1,\n",
       "         1,  1,  1,  1,  1,  1,  1,  1,  1,  1,  1,  1,  1,  1,\n",
       "         1,  1,  1,  1,  1,  1,  1,  1,  1], dtype=torch.uint8)"
      ]
     },
     "execution_count": 113,
     "metadata": {},
     "output_type": "execute_result"
    }
   ],
   "source": [
    "mask[1]"
   ]
  },
  {
   "cell_type": "code",
   "execution_count": 114,
   "metadata": {},
   "outputs": [
    {
     "data": {
      "text/plain": [
       "tensor([ 0,  0,  0,  0,  0,  0,  0,  0,  0,  0,  0,  0,  0,  0,\n",
       "         0,  0,  0,  0,  0,  0,  0,  0,  0,  0,  0,  0,  0,  0,\n",
       "         0,  0,  0,  0,  0,  0,  0,  0,  0,  0,  0,  0,  0,  0,\n",
       "         0,  0,  0,  0,  0,  0,  0,  0,  0,  0,  0,  0,  0,  0,\n",
       "         0,  0,  0,  0,  0,  0,  0,  0,  0,  0,  0,  0,  0,  0,\n",
       "         0,  0,  0,  0,  0,  0,  0,  0,  0,  0,  0,  0,  0,  0,\n",
       "         0,  0,  0,  0,  0,  0,  0,  0,  0,  0,  0,  0,  0,  0,\n",
       "         0,  0,  1,  1,  1,  1,  1,  1,  1,  1,  1,  1,  1,  1,\n",
       "         1,  1,  1,  1,  1,  1,  1,  1,  1,  1,  1,  1,  1,  1,\n",
       "         1,  1,  1,  1,  1,  1,  1,  1,  1,  1,  1,  1,  1,  1,\n",
       "         1,  1,  1,  1,  1,  1,  1,  1,  1,  1,  1,  1,  1,  1,\n",
       "         1,  1,  1,  1,  1,  1,  1,  1,  1], dtype=torch.uint8)"
      ]
     },
     "execution_count": 114,
     "metadata": {},
     "output_type": "execute_result"
    }
   ],
   "source": [
    "mask[2]"
   ]
  },
  {
   "cell_type": "code",
   "execution_count": 115,
   "metadata": {},
   "outputs": [
    {
     "name": "stdout",
     "output_type": "stream",
     "text": [
      "attention_hidden: torch.Size([4, 1024])\n",
      "attention_cell: torch.Size([4, 1024])\n",
      "decoder_hidden: torch.Size([4, 1024])\n",
      "decoder_cell: torch.Size([4, 1024])\n",
      "attention_weights: torch.Size([4, 163])\n",
      "attention_weights_cum: torch.Size([4, 163])\n",
      "attention_context: torch.Size([4, 512])\n"
     ]
    }
   ],
   "source": [
    "decoder.initialize_decoder_states(memory, mask=mask)"
   ]
  },
  {
   "cell_type": "code",
   "execution_count": 116,
   "metadata": {},
   "outputs": [],
   "source": [
    "mel_outputs, gate_outputs, alignments = [], [], []"
   ]
  },
  {
   "cell_type": "code",
   "execution_count": 117,
   "metadata": {},
   "outputs": [
    {
     "data": {
      "text/plain": [
       "780"
      ]
     },
     "execution_count": 117,
     "metadata": {},
     "output_type": "execute_result"
    }
   ],
   "source": [
    "decoder_inputs.size(0)"
   ]
  },
  {
   "cell_type": "code",
   "execution_count": 118,
   "metadata": {},
   "outputs": [
    {
     "name": "stdout",
     "output_type": "stream",
     "text": [
      "torch.Size([4, 163, 512])\n",
      "torch.Size([4, 80, 780])\n",
      "tensor([ 163,  121,  100,   76])\n",
      "*** memory: torch.Size([4, 163, 512])\n",
      "*** decoder_input: torch.Size([4, 80])\n",
      "attention_hidden: torch.Size([4, 1024])\n",
      "attention_cell: torch.Size([4, 1024])\n",
      "decoder_hidden: torch.Size([4, 1024])\n",
      "decoder_cell: torch.Size([4, 1024])\n",
      "attention_weights: torch.Size([4, 163])\n",
      "attention_weights_cum: torch.Size([4, 163])\n",
      "attention_context: torch.Size([4, 512])\n"
     ]
    },
    {
     "data": {
      "text/plain": [
       "(tensor([[[-4.7202e-02, -6.2895e-01, -2.5581e-01,  ..., -6.3293e-01,\n",
       "           -4.0786e-01, -7.2768e-01],\n",
       "          [ 1.8926e-02,  2.9120e-01,  6.4308e-02,  ..., -6.7519e-02,\n",
       "            4.3046e-02,  2.2482e-01],\n",
       "          [ 5.4296e-02, -7.4026e-02, -3.6574e-02,  ...,  1.8612e-01,\n",
       "           -1.8707e-01, -2.3050e-02],\n",
       "          ...,\n",
       "          [ 1.0338e-01, -2.2023e-01, -8.3709e-03,  ..., -6.3593e-02,\n",
       "            1.8228e-01, -2.5440e-01],\n",
       "          [-2.0900e-02,  5.4765e-02, -1.7301e-02,  ...,  7.2265e-02,\n",
       "            1.7886e-01,  3.1559e-01],\n",
       "          [ 1.5614e-02, -8.7630e-02, -6.7494e-02,  ..., -2.3097e-01,\n",
       "           -1.7160e-01, -3.0105e-01]],\n",
       " \n",
       "         [[-4.7354e-02,  2.2333e-01, -3.3355e-01,  ..., -4.8253e-02,\n",
       "           -4.8250e-02, -4.8247e-02],\n",
       "          [ 1.7266e-02, -4.4502e-02,  5.4839e-01,  ...,  2.5642e-02,\n",
       "            2.5637e-02,  2.5632e-02],\n",
       "          [ 1.6263e-02, -1.4340e-02,  2.4605e-01,  ..., -2.1030e-02,\n",
       "           -2.1035e-02, -2.1039e-02],\n",
       "          ...,\n",
       "          [ 1.0277e-01,  2.0270e-01,  1.9167e-01,  ...,  9.0595e-02,\n",
       "            9.0595e-02,  9.0594e-02],\n",
       "          [-2.9322e-02,  2.8456e-01, -2.5198e-01,  ..., -2.9101e-02,\n",
       "           -2.9111e-02, -2.9120e-02],\n",
       "          [ 5.8486e-03, -3.2650e-02, -2.3054e-01,  ...,  7.9671e-03,\n",
       "            7.9647e-03,  7.9623e-03]],\n",
       " \n",
       "         [[-3.0353e-02,  2.8851e-01,  4.3749e-01,  ..., -4.0427e-02,\n",
       "           -4.0453e-02, -4.0479e-02],\n",
       "          [ 9.0580e-03,  3.5344e-02,  1.8780e-01,  ..., -2.2970e-03,\n",
       "           -2.3128e-03, -2.3285e-03],\n",
       "          [ 3.2785e-02,  4.4741e-01,  1.4160e-01,  ...,  4.2610e-03,\n",
       "            4.2760e-03,  4.2909e-03],\n",
       "          ...,\n",
       "          [ 9.3267e-02, -4.0892e-01,  2.4500e-01,  ...,  8.5088e-02,\n",
       "            8.5095e-02,  8.5103e-02],\n",
       "          [-2.3065e-02,  4.1787e-03, -8.8645e-02,  ..., -1.6774e-02,\n",
       "           -1.6769e-02, -1.6764e-02],\n",
       "          [ 7.2209e-03,  2.6252e-01, -1.1566e-01,  ..., -3.9086e-03,\n",
       "           -3.9270e-03, -3.9453e-03]],\n",
       " \n",
       "         [[-3.9828e-02, -1.0820e-01,  7.7195e-02,  ..., -5.7082e-02,\n",
       "           -5.7105e-02, -5.7128e-02],\n",
       "          [ 3.2617e-02, -2.9193e-01, -2.9059e-01,  ...,  5.2398e-02,\n",
       "            5.2402e-02,  5.2407e-02],\n",
       "          [ 3.7856e-02,  2.5261e-01, -5.9370e-02,  ...,  2.1526e-03,\n",
       "            2.1439e-03,  2.1352e-03],\n",
       "          ...,\n",
       "          [ 1.2847e-01, -1.5305e-02,  5.8600e-02,  ...,  1.1568e-01,\n",
       "            1.1568e-01,  1.1568e-01],\n",
       "          [-1.7453e-02,  2.0633e-02,  1.8155e-01,  ...,  1.2560e-02,\n",
       "            1.2536e-02,  1.2512e-02],\n",
       "          [-3.0773e-02,  8.9346e-02, -4.6978e-02,  ..., -1.5838e-02,\n",
       "           -1.5840e-02, -1.5843e-02]]]),\n",
       " tensor([[ 0.0483, -0.1397, -0.1769,  ..., -0.5739, -0.3355, -0.3474],\n",
       "         [ 0.0634,  0.0666, -0.0455,  ...,  0.0582,  0.0583,  0.0583],\n",
       "         [ 0.0284,  0.1968,  0.0943,  ...,  0.0337,  0.0337,  0.0336],\n",
       "         [ 0.0444, -0.0926, -0.2135,  ...,  0.0466,  0.0466,  0.0466]]),\n",
       " tensor(1.00000e-02 *\n",
       "        [[[ 0.9626,  0.8040,  0.7812,  ...,  1.2295,  0.8233,  0.9132],\n",
       "          [ 0.9630,  0.8066,  0.7860,  ...,  1.2303,  0.8248,  0.9121],\n",
       "          [ 0.9687,  0.8198,  0.7921,  ...,  1.2208,  0.8204,  0.9116],\n",
       "          ...,\n",
       "          [ 1.8141,  2.0871,  0.7840,  ...,  2.9774,  0.4615,  0.3981],\n",
       "          [ 1.8185,  2.1812,  0.7913,  ...,  3.0387,  0.4569,  0.3835],\n",
       "          [ 1.7888,  2.1071,  0.7923,  ...,  3.1930,  0.4533,  0.3959]],\n",
       " \n",
       "         [[ 0.6938,  0.6336,  0.7152,  ...,  0.0000,  0.0000,  0.0000],\n",
       "          [ 0.6965,  0.6366,  0.7167,  ...,  0.0000,  0.0000,  0.0000],\n",
       "          [ 0.7049,  0.6437,  0.7198,  ...,  0.0000,  0.0000,  0.0000],\n",
       "          ...,\n",
       "          [ 1.8133,  1.5174,  1.9468,  ...,  0.0000,  0.0000,  0.0000],\n",
       "          [ 1.8130,  1.5177,  1.9485,  ...,  0.0000,  0.0000,  0.0000],\n",
       "          [ 1.8128,  1.5180,  1.9501,  ...,  0.0000,  0.0000,  0.0000]],\n",
       " \n",
       "         [[ 1.4043,  1.5888,  0.6459,  ...,  0.0000,  0.0000,  0.0000],\n",
       "          [ 1.4093,  1.5954,  0.6477,  ...,  0.0000,  0.0000,  0.0000],\n",
       "          [ 1.4035,  1.5989,  0.6449,  ...,  0.0000,  0.0000,  0.0000],\n",
       "          ...,\n",
       "          [ 3.4673,  2.5175,  0.4108,  ...,  0.0000,  0.0000,  0.0000],\n",
       "          [ 3.4645,  2.5162,  0.4106,  ...,  0.0000,  0.0000,  0.0000],\n",
       "          [ 3.4616,  2.5150,  0.4105,  ...,  0.0000,  0.0000,  0.0000]],\n",
       " \n",
       "         [[ 1.3867,  1.2855,  0.9224,  ...,  0.0000,  0.0000,  0.0000],\n",
       "          [ 1.3917,  1.2882,  0.9246,  ...,  0.0000,  0.0000,  0.0000],\n",
       "          [ 1.4041,  1.3038,  0.9365,  ...,  0.0000,  0.0000,  0.0000],\n",
       "          ...,\n",
       "          [ 3.0932,  1.4411,  0.4803,  ...,  0.0000,  0.0000,  0.0000],\n",
       "          [ 3.0921,  1.4373,  0.4801,  ...,  0.0000,  0.0000,  0.0000],\n",
       "          [ 3.0910,  1.4336,  0.4798,  ...,  0.0000,  0.0000,  0.0000]]]))"
      ]
     },
     "execution_count": 118,
     "metadata": {},
     "output_type": "execute_result"
    }
   ],
   "source": [
    "memory = encoder_outputs  # テキスト特徴量\n",
    "decoder_inputs = targets  # メルスペクトログラム（出力となる）\n",
    "memory_lengths = input_lengths  # バッチを構成する入力テキストの系列長\n",
    "print(memory.size())\n",
    "print(decoder_inputs.size())\n",
    "print(memory_lengths)\n",
    "\n",
    "decoder(memory, decoder_inputs, memory_lengths)"
   ]
  },
  {
   "cell_type": "markdown",
   "metadata": {},
   "source": [
    "### PreNet"
   ]
  },
  {
   "cell_type": "code",
   "execution_count": 119,
   "metadata": {},
   "outputs": [
    {
     "name": "stdout",
     "output_type": "stream",
     "text": [
      "80\n",
      "1\n",
      "256\n"
     ]
    },
    {
     "name": "stderr",
     "output_type": "stream",
     "text": [
      "/Users/koichiro.mori/git/tacotron2/layers.py:15: UserWarning: nn.init.xavier_uniform is now deprecated in favor of nn.init.xavier_uniform_.\n",
      "  gain=torch.nn.init.calculate_gain(w_init_gain))\n"
     ]
    },
    {
     "data": {
      "text/plain": [
       "Prenet(\n",
       "  (layers): ModuleList(\n",
       "    (0): LinearNorm(\n",
       "      (linear_layer): Linear(in_features=80, out_features=256, bias=False)\n",
       "    )\n",
       "    (1): LinearNorm(\n",
       "      (linear_layer): Linear(in_features=256, out_features=256, bias=False)\n",
       "    )\n",
       "  )\n",
       ")"
      ]
     },
     "execution_count": 119,
     "metadata": {},
     "output_type": "execute_result"
    }
   ],
   "source": [
    "print(hparams.n_mel_channels)\n",
    "print(hparams.n_frames_per_step)\n",
    "print(hparams.prenet_dim)\n",
    "prenet = Prenet(80 * 1, [256, 256])\n",
    "prenet"
   ]
  },
  {
   "cell_type": "code",
   "execution_count": 120,
   "metadata": {},
   "outputs": [
    {
     "name": "stdout",
     "output_type": "stream",
     "text": [
      "1024\n",
      "512\n",
      "1024\n"
     ]
    },
    {
     "data": {
      "text/plain": [
       "LSTMCell(1536, 1024)"
      ]
     },
     "execution_count": 120,
     "metadata": {},
     "output_type": "execute_result"
    }
   ],
   "source": [
    "print(hparams.decoder_rnn_dim)\n",
    "print(hparams.encoder_embedding_dim)\n",
    "print(hparams.attention_rnn_dim)\n",
    "attention_rnn = nn.LSTMCell(1024 + 512, 1024)\n",
    "attention_rnn"
   ]
  },
  {
   "cell_type": "code",
   "execution_count": 121,
   "metadata": {},
   "outputs": [
    {
     "name": "stdout",
     "output_type": "stream",
     "text": [
      "256\n",
      "512\n",
      "1024\n"
     ]
    },
    {
     "data": {
      "text/plain": [
       "LSTMCell(768, 1024, bias=1)"
      ]
     },
     "execution_count": 121,
     "metadata": {},
     "output_type": "execute_result"
    }
   ],
   "source": [
    "print(hparams.prenet_dim)\n",
    "print(hparams.encoder_embedding_dim)\n",
    "print(hparams.decoder_rnn_dim)\n",
    "decoder_rnn = nn.LSTMCell(256 + 512, 1024, 1)\n",
    "decoder_rnn"
   ]
  },
  {
   "cell_type": "code",
   "execution_count": 122,
   "metadata": {},
   "outputs": [
    {
     "name": "stdout",
     "output_type": "stream",
     "text": [
      "1024\n",
      "512\n",
      "80\n"
     ]
    },
    {
     "name": "stderr",
     "output_type": "stream",
     "text": [
      "/Users/koichiro.mori/git/tacotron2/layers.py:15: UserWarning: nn.init.xavier_uniform is now deprecated in favor of nn.init.xavier_uniform_.\n",
      "  gain=torch.nn.init.calculate_gain(w_init_gain))\n"
     ]
    },
    {
     "data": {
      "text/plain": [
       "LinearNorm(\n",
       "  (linear_layer): Linear(in_features=1536, out_features=80, bias=True)\n",
       ")"
      ]
     },
     "execution_count": 122,
     "metadata": {},
     "output_type": "execute_result"
    }
   ],
   "source": [
    "print(hparams.decoder_rnn_dim)\n",
    "print(hparams.encoder_embedding_dim)\n",
    "print(hparams.n_mel_channels)\n",
    "linear_projection = LinearNorm(1024 + 512, 80)\n",
    "linear_projection"
   ]
  },
  {
   "cell_type": "code",
   "execution_count": 123,
   "metadata": {},
   "outputs": [
    {
     "name": "stderr",
     "output_type": "stream",
     "text": [
      "/Users/koichiro.mori/git/tacotron2/layers.py:15: UserWarning: nn.init.xavier_uniform is now deprecated in favor of nn.init.xavier_uniform_.\n",
      "  gain=torch.nn.init.calculate_gain(w_init_gain))\n"
     ]
    }
   ],
   "source": [
    "gate_layer = LinearNorm(1024 + 512, 1, bias=True, w_init_gain='sigmoid')"
   ]
  },
  {
   "cell_type": "code",
   "execution_count": 124,
   "metadata": {},
   "outputs": [
    {
     "data": {
      "text/plain": [
       "LinearNorm(\n",
       "  (linear_layer): Linear(in_features=1536, out_features=1, bias=True)\n",
       ")"
      ]
     },
     "execution_count": 124,
     "metadata": {},
     "output_type": "execute_result"
    }
   ],
   "source": [
    "gate_layer"
   ]
  },
  {
   "cell_type": "code",
   "execution_count": 125,
   "metadata": {},
   "outputs": [
    {
     "data": {
      "text/plain": [
       "torch.Size([4, 163, 512])"
      ]
     },
     "execution_count": 125,
     "metadata": {},
     "output_type": "execute_result"
    }
   ],
   "source": [
    "memory.size()"
   ]
  },
  {
   "cell_type": "code",
   "execution_count": 126,
   "metadata": {},
   "outputs": [
    {
     "data": {
      "text/plain": [
       "(4, 163)"
      ]
     },
     "execution_count": 126,
     "metadata": {},
     "output_type": "execute_result"
    }
   ],
   "source": [
    "B = memory.size(0)\n",
    "MAX_TIME = memory.size(1)\n",
    "B, MAX_TIME"
   ]
  },
  {
   "cell_type": "code",
   "execution_count": 127,
   "metadata": {},
   "outputs": [
    {
     "name": "stdout",
     "output_type": "stream",
     "text": [
      "1024\n"
     ]
    },
    {
     "data": {
      "text/plain": [
       "torch.Size([4, 1024])"
      ]
     },
     "execution_count": 127,
     "metadata": {},
     "output_type": "execute_result"
    }
   ],
   "source": [
    "print(hparams.attention_rnn_dim)\n",
    "memory.data.new(B, 1024).zero_().size()"
   ]
  },
  {
   "cell_type": "code",
   "execution_count": 128,
   "metadata": {},
   "outputs": [
    {
     "name": "stdout",
     "output_type": "stream",
     "text": [
      "torch.Size([4, 163, 512])\n",
      "torch.Size([4, 80, 780])\n",
      "tensor([ 163,  121,  100,   76])\n"
     ]
    }
   ],
   "source": [
    "print(memory.size())\n",
    "print(decoder_inputs.size())\n",
    "print(memory_lengths)"
   ]
  },
  {
   "cell_type": "code",
   "execution_count": 129,
   "metadata": {},
   "outputs": [
    {
     "name": "stdout",
     "output_type": "stream",
     "text": [
      "*** memory: torch.Size([4, 163, 512])\n",
      "*** decoder_input: torch.Size([4, 80])\n",
      "attention_hidden: torch.Size([4, 1024])\n",
      "attention_cell: torch.Size([4, 1024])\n",
      "decoder_hidden: torch.Size([4, 1024])\n",
      "decoder_cell: torch.Size([4, 1024])\n",
      "attention_weights: torch.Size([4, 163])\n",
      "attention_weights_cum: torch.Size([4, 163])\n",
      "attention_context: torch.Size([4, 512])\n"
     ]
    }
   ],
   "source": [
    "mel_outputs, gate_outputs, alignments = decoder(memory, decoder_inputs, memory_lengths)"
   ]
  },
  {
   "cell_type": "code",
   "execution_count": 130,
   "metadata": {},
   "outputs": [
    {
     "name": "stdout",
     "output_type": "stream",
     "text": [
      "torch.Size([4, 80, 780])\n",
      "torch.Size([4, 780])\n",
      "torch.Size([4, 780, 163])\n"
     ]
    }
   ],
   "source": [
    "print(mel_outputs.size())\n",
    "print(gate_outputs.size())\n",
    "print(alignments.size())"
   ]
  },
  {
   "cell_type": "code",
   "execution_count": 131,
   "metadata": {},
   "outputs": [
    {
     "data": {
      "text/plain": [
       "128"
      ]
     },
     "execution_count": 131,
     "metadata": {},
     "output_type": "execute_result"
    }
   ],
   "source": [
    "hparams.attention_dim"
   ]
  },
  {
   "cell_type": "code",
   "execution_count": 171,
   "metadata": {},
   "outputs": [
    {
     "name": "stdout",
     "output_type": "stream",
     "text": [
      "1024\n",
      "512\n",
      "128\n",
      "32\n",
      "31\n"
     ]
    }
   ],
   "source": [
    "print(hparams.attention_rnn_dim)\n",
    "print(hparams.encoder_embedding_dim)\n",
    "print(hparams.attention_dim)\n",
    "print(hparams.attention_location_n_filters)\n",
    "print(hparams.attention_location_kernel_size)"
   ]
  },
  {
   "cell_type": "code",
   "execution_count": 175,
   "metadata": {},
   "outputs": [
    {
     "name": "stderr",
     "output_type": "stream",
     "text": [
      "/Users/koichiro.mori/git/tacotron2/layers.py:15: UserWarning: nn.init.xavier_uniform is now deprecated in favor of nn.init.xavier_uniform_.\n",
      "  gain=torch.nn.init.calculate_gain(w_init_gain))\n",
      "/Users/koichiro.mori/git/tacotron2/layers.py:35: UserWarning: nn.init.xavier_uniform is now deprecated in favor of nn.init.xavier_uniform_.\n",
      "  self.conv.weight, gain=torch.nn.init.calculate_gain(w_init_gain))\n"
     ]
    }
   ],
   "source": [
    "attention_layer = Attention(1024, 512, 128, 32, 31)"
   ]
  },
  {
   "cell_type": "code",
   "execution_count": 176,
   "metadata": {},
   "outputs": [
    {
     "data": {
      "text/plain": [
       "model.Attention"
      ]
     },
     "execution_count": 176,
     "metadata": {},
     "output_type": "execute_result"
    }
   ],
   "source": [
    "Attention"
   ]
  },
  {
   "cell_type": "code",
   "execution_count": 177,
   "metadata": {},
   "outputs": [
    {
     "data": {
      "text/plain": [
       "Attention(\n",
       "  (query_layer): LinearNorm(\n",
       "    (linear_layer): Linear(in_features=1024, out_features=128, bias=False)\n",
       "  )\n",
       "  (memory_layer): LinearNorm(\n",
       "    (linear_layer): Linear(in_features=512, out_features=128, bias=False)\n",
       "  )\n",
       "  (v): LinearNorm(\n",
       "    (linear_layer): Linear(in_features=128, out_features=1, bias=False)\n",
       "  )\n",
       "  (location_layer): LocationLayer(\n",
       "    (location_conv): ConvNorm(\n",
       "      (conv): Conv1d(2, 32, kernel_size=(31,), stride=(1,), padding=(15,), bias=False)\n",
       "    )\n",
       "    (location_dense): LinearNorm(\n",
       "      (linear_layer): Linear(in_features=32, out_features=128, bias=False)\n",
       "    )\n",
       "  )\n",
       ")"
      ]
     },
     "execution_count": 177,
     "metadata": {},
     "output_type": "execute_result"
    }
   ],
   "source": [
    "attention_layer"
   ]
  },
  {
   "cell_type": "code",
   "execution_count": 178,
   "metadata": {},
   "outputs": [
    {
     "data": {
      "text/plain": [
       "torch.Size([4, 163, 512])"
      ]
     },
     "execution_count": 178,
     "metadata": {},
     "output_type": "execute_result"
    }
   ],
   "source": [
    "memory.size()"
   ]
  },
  {
   "cell_type": "code",
   "execution_count": 181,
   "metadata": {},
   "outputs": [
    {
     "data": {
      "text/plain": [
       "torch.Size([4, 163, 128])"
      ]
     },
     "execution_count": 181,
     "metadata": {},
     "output_type": "execute_result"
    }
   ],
   "source": [
    "# memory_layerは単純なLinear変換\n",
    "# embedding_dim (512) を attention_dim (128) に次元圧縮している\n",
    "processed_memory = attention_layer.memory_layer(memory)\n",
    "processed_memory.size()"
   ]
  },
  {
   "cell_type": "code",
   "execution_count": 186,
   "metadata": {},
   "outputs": [
    {
     "data": {
      "text/plain": [
       "torch.Size([4, 80])"
      ]
     },
     "execution_count": 186,
     "metadata": {},
     "output_type": "execute_result"
    }
   ],
   "source": [
    "# decoderの最初の入力を0で初期化\n",
    "decoder_input = decoder.get_go_frame(memory)\n",
    "decoder_input.size()"
   ]
  },
  {
   "cell_type": "code",
   "execution_count": 190,
   "metadata": {},
   "outputs": [
    {
     "name": "stdout",
     "output_type": "stream",
     "text": [
      "torch.Size([4, 1024])\n",
      "torch.Size([4, 512])\n"
     ]
    }
   ],
   "source": [
    "print(decoder.decoder_hidden.size())\n",
    "print(decoder.attention_context.size())"
   ]
  },
  {
   "cell_type": "code",
   "execution_count": 193,
   "metadata": {},
   "outputs": [
    {
     "data": {
      "text/plain": [
       "torch.Size([4, 1536])"
      ]
     },
     "execution_count": 193,
     "metadata": {},
     "output_type": "execute_result"
    }
   ],
   "source": [
    "cell_input = torch.cat((decoder.decoder_hidden, decoder.attention_context), -1)\n",
    "cell_input.size()"
   ]
  },
  {
   "cell_type": "code",
   "execution_count": 198,
   "metadata": {},
   "outputs": [],
   "source": [
    "decoder.attention_hidden, decoder.attention_cell = decoder.attention_rnn(cell_input, (decoder.attention_hidden, decoder.attention_cell))"
   ]
  },
  {
   "cell_type": "code",
   "execution_count": 200,
   "metadata": {},
   "outputs": [
    {
     "data": {
      "text/plain": [
       "tensor(1.00000e-02 *\n",
       "       [[ 1.3329,  0.0715, -1.1153,  ...,  2.9965, -0.5315, -0.6198],\n",
       "        [ 1.3329,  0.0715, -1.1153,  ...,  2.9965, -0.5315, -0.6198],\n",
       "        [ 1.3329,  0.0715, -1.1153,  ...,  2.9965, -0.5315, -0.6198],\n",
       "        [ 1.3329,  0.0715, -1.1153,  ...,  2.9965, -0.5315, -0.6198]])"
      ]
     },
     "execution_count": 200,
     "metadata": {},
     "output_type": "execute_result"
    }
   ],
   "source": [
    "decoder.attention_cell"
   ]
  },
  {
   "cell_type": "code",
   "execution_count": 202,
   "metadata": {},
   "outputs": [
    {
     "data": {
      "text/plain": [
       "LSTMCell(1536, 1024)"
      ]
     },
     "execution_count": 202,
     "metadata": {},
     "output_type": "execute_result"
    }
   ],
   "source": [
    "decoder.attention_rnn"
   ]
  },
  {
   "cell_type": "code",
   "execution_count": null,
   "metadata": {},
   "outputs": [],
   "source": []
  }
 ],
 "metadata": {
  "kernelspec": {
   "display_name": "Python 3",
   "language": "python",
   "name": "python3"
  },
  "language_info": {
   "codemirror_mode": {
    "name": "ipython",
    "version": 3
   },
   "file_extension": ".py",
   "mimetype": "text/x-python",
   "name": "python",
   "nbconvert_exporter": "python",
   "pygments_lexer": "ipython3",
   "version": "3.6.5"
  }
 },
 "nbformat": 4,
 "nbformat_minor": 2
}
