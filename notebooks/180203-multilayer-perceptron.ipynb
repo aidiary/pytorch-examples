{
 "cells": [
  {
   "cell_type": "markdown",
   "metadata": {},
   "source": [
    "## Multilayer Perceptron"
   ]
  },
  {
   "cell_type": "code",
   "execution_count": 1,
   "metadata": {
    "collapsed": true
   },
   "outputs": [],
   "source": [
    "import torch\n",
    "import torch.nn as nn\n",
    "import torchvision\n",
    "import torchvision.datasets as dsets\n",
    "import torchvision.transforms as transforms\n",
    "from torch.autograd import Variable"
   ]
  },
  {
   "cell_type": "code",
   "execution_count": 2,
   "metadata": {
    "collapsed": true
   },
   "outputs": [],
   "source": [
    "# Hyperparameters \n",
    "input_size = 784\n",
    "hidden_size = 500\n",
    "num_classes = 10\n",
    "num_epochs = 50\n",
    "batch_size = 100\n",
    "learning_rate = 0.001"
   ]
  },
  {
   "cell_type": "markdown",
   "metadata": {},
   "source": [
    "- MNISTはPyTorchの標準機能でデータセットをダウンロードできる\n",
    "- バッチ単位で読み込めるDataLoaderも簡単に使える"
   ]
  },
  {
   "cell_type": "code",
   "execution_count": 3,
   "metadata": {
    "collapsed": true
   },
   "outputs": [],
   "source": [
    "# MNIST Dataset (Images and Labels)\n",
    "train_dataset = dsets.MNIST(root='./data', \n",
    "                            train=True, \n",
    "                            transform=transforms.ToTensor(),\n",
    "                            download=True)\n",
    "\n",
    "test_dataset = dsets.MNIST(root='./data', \n",
    "                           train=False, \n",
    "                           transform=transforms.ToTensor())\n",
    "\n",
    "# Dataset Loader (Input Pipline)\n",
    "train_loader = torch.utils.data.DataLoader(dataset=train_dataset, \n",
    "                                           batch_size=batch_size, \n",
    "                                           shuffle=True)\n",
    "\n",
    "test_loader = torch.utils.data.DataLoader(dataset=test_dataset, \n",
    "                                          batch_size=batch_size, \n",
    "                                          shuffle=False)"
   ]
  },
  {
   "cell_type": "markdown",
   "metadata": {},
   "source": [
    "- DataSetのlen()はサンプル数を返す\n",
    "- DataLoaderのlen()はミニバッチ数を返す"
   ]
  },
  {
   "cell_type": "code",
   "execution_count": 4,
   "metadata": {},
   "outputs": [
    {
     "name": "stdout",
     "output_type": "stream",
     "text": [
      "60000\n",
      "10000\n",
      "600\n",
      "100\n"
     ]
    }
   ],
   "source": [
    "print(len(train_dataset))  # 60000\n",
    "print(len(test_dataset))   # 10000\n",
    "print(len(train_loader))   # 600\n",
    "print(len(test_loader))    # 100"
   ]
  },
  {
   "cell_type": "markdown",
   "metadata": {},
   "source": [
    "- DataLoaderから1バッチ分のデータを取り出す方法\n",
    "- DataLoaderをiterで囲んでnext()すればよい"
   ]
  },
  {
   "cell_type": "code",
   "execution_count": 5,
   "metadata": {},
   "outputs": [
    {
     "name": "stdout",
     "output_type": "stream",
     "text": [
      "<class 'torch.FloatTensor'>\n",
      "<class 'torch.LongTensor'>\n",
      "torch.Size([100, 1, 28, 28])\n",
      "torch.Size([100])\n"
     ]
    }
   ],
   "source": [
    "# 1データだけ取得\n",
    "image, label = iter(train_loader).next()\n",
    "print(type(image))   # <class 'torch.FloatTensor'>\n",
    "print(type(label))   # <class 'torch.LongTensor'>\n",
    "print(image.size())  # torch.Size([100, 1, 28, 28])\n",
    "print(label.size())  # torch.Size([100])"
   ]
  },
  {
   "cell_type": "code",
   "execution_count": 6,
   "metadata": {},
   "outputs": [
    {
     "data": {
      "text/plain": [
       "(-0.5, 145.5, 145.5, -0.5)"
      ]
     },
     "execution_count": 6,
     "metadata": {},
     "output_type": "execute_result"
    },
    {
     "data": {
      "image/png": "[encoded data removed]",
      "text/plain": [
       "<matplotlib.figure.Figure at 0x1172bb0b8>"
      ]
     },
     "metadata": {},
     "output_type": "display_data"
    }
   ],
   "source": [
    "# 可視化\n",
    "import matplotlib.pyplot as plt\n",
    "import numpy as np\n",
    "%matplotlib inline\n",
    "\n",
    "def imshow(img):\n",
    "    npimg = img.numpy()\n",
    "    # [c, h, w] => [h, w, c]\n",
    "    plt.imshow(np.transpose(npimg, (1, 2, 0)))\n",
    "\n",
    "images, labels = iter(train_loader).next()\n",
    "images, labels = images[:25], labels[:25]\n",
    "imshow(torchvision.utils.make_grid(images, nrow=5, padding=1))\n",
    "plt.axis('off')"
   ]
  },
  {
   "cell_type": "code",
   "execution_count": 15,
   "metadata": {
    "collapsed": true
   },
   "outputs": [],
   "source": [
    "class MultiLayerPerceptron(nn.Module):\n",
    "    \n",
    "    def __init__(self, input_size, hidden_size, num_classes):\n",
    "        super(MultiLayerPerceptron, self).__init__()\n",
    "        self.fc1 = nn.Linear(input_size, hidden_size)\n",
    "        self.relu = nn.ReLU()\n",
    "        self.fc2 = nn.Linear(hidden_size, num_classes)\n",
    "    \n",
    "    def forward(self, x):\n",
    "#         print(x.size())\n",
    "        out = self.fc1(x)\n",
    "#         print(out.size())\n",
    "        out = self.relu(out)\n",
    "#         print(out.size())\n",
    "        out = self.fc2(out)\n",
    "#         print(out.size())\n",
    "        return out"
   ]
  },
  {
   "cell_type": "markdown",
   "metadata": {},
   "source": [
    "- Sequentialを使ってまとめて書く方法もある\n",
    "- forward処理中に出力値を見られる"
   ]
  },
  {
   "cell_type": "code",
   "execution_count": 21,
   "metadata": {
    "collapsed": true
   },
   "outputs": [],
   "source": [
    "model = MultiLayerPerceptron(input_size, hidden_size, num_classes)"
   ]
  },
  {
   "cell_type": "code",
   "execution_count": 22,
   "metadata": {},
   "outputs": [
    {
     "name": "stdout",
     "output_type": "stream",
     "text": [
      "befire view: torch.Size([100, 1, 28, 28])\n",
      "after view: torch.Size([100, 784])\n"
     ]
    },
    {
     "data": {
      "text/plain": [
       "Variable containing:\n",
       " 0.0317 -0.1562 -0.0839  ...   0.0817 -0.0818  0.0060\n",
       " 0.0405 -0.1823 -0.0545  ...  -0.0444 -0.1001 -0.0525\n",
       " 0.0298 -0.1331 -0.1297  ...  -0.0319 -0.0913 -0.0279\n",
       "          ...             ⋱             ...          \n",
       "-0.0380 -0.1099 -0.0866  ...  -0.0179 -0.1349 -0.0201\n",
       "-0.0013 -0.1066 -0.1003  ...   0.0212 -0.0724 -0.0462\n",
       "-0.0178 -0.2066 -0.1956  ...  -0.0597 -0.1184 -0.1106\n",
       "[torch.FloatTensor of size 100x10]"
      ]
     },
     "execution_count": 22,
     "metadata": {},
     "output_type": "execute_result"
    }
   ],
   "source": [
    "# テスト\n",
    "image, label = iter(train_loader).next()\n",
    "print(\"befire view:\", image.size())\n",
    "image = image.view(-1, 28 * 28)\n",
    "print(\"after view:\", image.size())\n",
    "model(Variable(image))"
   ]
  },
  {
   "cell_type": "code",
   "execution_count": 23,
   "metadata": {
    "collapsed": true
   },
   "outputs": [],
   "source": [
    "criterion = nn.CrossEntropyLoss()\n",
    "optimizer = torch.optim.SGD(model.parameters(), lr=learning_rate)"
   ]
  },
  {
   "cell_type": "code",
   "execution_count": 24,
   "metadata": {},
   "outputs": [
    {
     "name": "stdout",
     "output_type": "stream",
     "text": [
      "epoch 0, loss: 2.2323 val_loss: 2.1597 val_acc: 0.5529\n",
      "epoch 1, loss: 2.0872 val_loss: 1.9985 val_acc: 0.6811\n",
      "epoch 2, loss: 1.9131 val_loss: 1.8036 val_acc: 0.7289\n",
      "epoch 3, loss: 1.7109 val_loss: 1.5890 val_acc: 0.7565\n",
      "epoch 4, loss: 1.5013 val_loss: 1.3807 val_acc: 0.7772\n",
      "epoch 5, loss: 1.3083 val_loss: 1.1997 val_acc: 0.7973\n",
      "epoch 6, loss: 1.1462 val_loss: 1.0531 val_acc: 0.8131\n",
      "epoch 7, loss: 1.0167 val_loss: 0.9382 val_acc: 0.8248\n",
      "epoch 8, loss: 0.9152 val_loss: 0.8486 val_acc: 0.8364\n",
      "epoch 9, loss: 0.8355 val_loss: 0.7779 val_acc: 0.8437\n",
      "epoch 10, loss: 0.7720 val_loss: 0.7214 val_acc: 0.8490\n",
      "epoch 11, loss: 0.7207 val_loss: 0.6754 val_acc: 0.8551\n",
      "epoch 12, loss: 0.6786 val_loss: 0.6374 val_acc: 0.8602\n",
      "epoch 13, loss: 0.6435 val_loss: 0.6052 val_acc: 0.8637\n",
      "epoch 14, loss: 0.6137 val_loss: 0.5780 val_acc: 0.8679\n",
      "epoch 15, loss: 0.5882 val_loss: 0.5546 val_acc: 0.8712\n",
      "epoch 16, loss: 0.5662 val_loss: 0.5342 val_acc: 0.8739\n",
      "epoch 17, loss: 0.5469 val_loss: 0.5165 val_acc: 0.8758\n",
      "epoch 18, loss: 0.5300 val_loss: 0.5007 val_acc: 0.8783\n",
      "epoch 19, loss: 0.5149 val_loss: 0.4867 val_acc: 0.8802\n",
      "epoch 20, loss: 0.5015 val_loss: 0.4742 val_acc: 0.8836\n",
      "epoch 21, loss: 0.4894 val_loss: 0.4629 val_acc: 0.8848\n",
      "epoch 22, loss: 0.4785 val_loss: 0.4529 val_acc: 0.8867\n",
      "epoch 23, loss: 0.4686 val_loss: 0.4434 val_acc: 0.8881\n",
      "epoch 24, loss: 0.4596 val_loss: 0.4349 val_acc: 0.8893\n",
      "epoch 25, loss: 0.4513 val_loss: 0.4273 val_acc: 0.8910\n",
      "epoch 26, loss: 0.4437 val_loss: 0.4202 val_acc: 0.8921\n",
      "epoch 27, loss: 0.4367 val_loss: 0.4135 val_acc: 0.8931\n",
      "epoch 28, loss: 0.4302 val_loss: 0.4074 val_acc: 0.8944\n",
      "epoch 29, loss: 0.4242 val_loss: 0.4017 val_acc: 0.8949\n",
      "epoch 30, loss: 0.4185 val_loss: 0.3964 val_acc: 0.8955\n",
      "epoch 31, loss: 0.4133 val_loss: 0.3915 val_acc: 0.8965\n",
      "epoch 32, loss: 0.4084 val_loss: 0.3870 val_acc: 0.8977\n",
      "epoch 33, loss: 0.4038 val_loss: 0.3827 val_acc: 0.8981\n",
      "epoch 34, loss: 0.3994 val_loss: 0.3785 val_acc: 0.8989\n",
      "epoch 35, loss: 0.3953 val_loss: 0.3747 val_acc: 0.9002\n",
      "epoch 36, loss: 0.3914 val_loss: 0.3711 val_acc: 0.9010\n",
      "epoch 37, loss: 0.3877 val_loss: 0.3676 val_acc: 0.9013\n",
      "epoch 38, loss: 0.3843 val_loss: 0.3644 val_acc: 0.9020\n",
      "epoch 39, loss: 0.3809 val_loss: 0.3613 val_acc: 0.9021\n",
      "epoch 40, loss: 0.3777 val_loss: 0.3583 val_acc: 0.9025\n",
      "epoch 41, loss: 0.3747 val_loss: 0.3555 val_acc: 0.9026\n",
      "epoch 42, loss: 0.3719 val_loss: 0.3527 val_acc: 0.9034\n",
      "epoch 43, loss: 0.3691 val_loss: 0.3502 val_acc: 0.9035\n",
      "epoch 44, loss: 0.3664 val_loss: 0.3480 val_acc: 0.9053\n",
      "epoch 45, loss: 0.3639 val_loss: 0.3454 val_acc: 0.9053\n",
      "epoch 46, loss: 0.3614 val_loss: 0.3433 val_acc: 0.9060\n",
      "epoch 47, loss: 0.3590 val_loss: 0.3409 val_acc: 0.9064\n",
      "epoch 48, loss: 0.3568 val_loss: 0.3387 val_acc: 0.9067\n",
      "epoch 49, loss: 0.3545 val_loss: 0.3369 val_acc: 0.9074\n"
     ]
    }
   ],
   "source": [
    "def train(train_loader):\n",
    "    model.train()\n",
    "    running_loss = 0\n",
    "    for batch_idx, (images, labels) in enumerate(train_loader):\n",
    "        images = Variable(images.view(-1, 28 * 28))\n",
    "        labels = Variable(labels)\n",
    "        \n",
    "        optimizer.zero_grad()\n",
    "        outputs = model(images)\n",
    "\n",
    "        loss = criterion(outputs, labels)\n",
    "        running_loss += loss.data[0]\n",
    "\n",
    "        loss.backward()\n",
    "        optimizer.step()\n",
    "\n",
    "    train_loss = running_loss / len(train_loader)\n",
    "    \n",
    "    return train_loss\n",
    "\n",
    "\n",
    "def valid(test_loader):\n",
    "    model.eval()\n",
    "    running_loss = 0\n",
    "    correct = 0\n",
    "    total = 0\n",
    "    for batch_idx, (images, labels) in enumerate(test_loader):\n",
    "        images = Variable(images.view(-1, 28 * 28), volatile=True)\n",
    "        labels = Variable(labels, volatile=True)\n",
    "\n",
    "        outputs = model(images)\n",
    "\n",
    "        loss = criterion(outputs, labels)\n",
    "        running_loss += loss.data[0]\n",
    "\n",
    "        _, predicted = torch.max(outputs.data, 1)\n",
    "        correct += (predicted == labels.data).sum()\n",
    "        total += labels.size(0)\n",
    "\n",
    "    val_loss = running_loss / len(test_loader)\n",
    "    val_acc = correct / total\n",
    "    \n",
    "    return val_loss, val_acc\n",
    "\n",
    "\n",
    "loss_list = []\n",
    "val_loss_list = []\n",
    "val_acc_list = []\n",
    "for epoch in range(num_epochs):\n",
    "    loss = train(train_loader)\n",
    "    val_loss, val_acc = valid(test_loader)\n",
    "\n",
    "    print('epoch %d, loss: %.4f val_loss: %.4f val_acc: %.4f'\n",
    "          % (epoch, loss, val_loss, val_acc))\n",
    "    \n",
    "    # logging\n",
    "    loss_list.append(loss)\n",
    "    val_loss_list.append(val_loss)\n",
    "    val_acc_list.append(val_acc)"
   ]
  },
  {
   "cell_type": "code",
   "execution_count": 25,
   "metadata": {},
   "outputs": [
    {
     "data": {
      "image/png": "[encoded data removed]",
      "text/plain": [
       "<matplotlib.figure.Figure at 0x11c024c18>"
      ]
     },
     "metadata": {},
     "output_type": "display_data"
    },
    {
     "data": {
      "image/png": "[encoded data removed]",
      "text/plain": [
       "<matplotlib.figure.Figure at 0x11b422da0>"
      ]
     },
     "metadata": {},
     "output_type": "display_data"
    }
   ],
   "source": [
    "import matplotlib.pyplot as plt\n",
    "%matplotlib inline\n",
    "\n",
    "# plot learning curve\n",
    "plt.figure()\n",
    "plt.plot(range(num_epochs), loss_list, 'r-', label='train_loss')\n",
    "plt.plot(range(num_epochs), val_loss_list, 'b-', label='val_loss')\n",
    "plt.legend()\n",
    "plt.xlabel('epoch')\n",
    "plt.ylabel('loss')\n",
    "plt.grid()\n",
    "\n",
    "plt.figure()\n",
    "plt.plot(range(num_epochs), val_acc_list, 'g-', label='val_acc')\n",
    "plt.legend()\n",
    "plt.xlabel('epoch')\n",
    "plt.ylabel('acc')\n",
    "plt.grid()"
   ]
  },
  {
   "cell_type": "code",
   "execution_count": null,
   "metadata": {
    "collapsed": true
   },
   "outputs": [],
   "source": []
  }
 ],
 "metadata": {
  "kernelspec": {
   "display_name": "Python [default]",
   "language": "python",
   "name": "python3"
  },
  "language_info": {
   "codemirror_mode": {
    "name": "ipython",
    "version": 3
   },
   "file_extension": ".py",
   "mimetype": "text/x-python",
   "name": "python",
   "nbconvert_exporter": "python",
   "pygments_lexer": "ipython3",
   "version": "3.6.4"
  }
 },
 "nbformat": 4,
 "nbformat_minor": 2
}
