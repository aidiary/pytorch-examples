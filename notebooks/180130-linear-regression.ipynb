{
 "cells": [
  {
   "cell_type": "markdown",
   "metadata": {},
   "source": [
    "# Linear Regression\n",
    "\n",
    "https://github.com/yunjey/pytorch-tutorial"
   ]
  },
  {
   "cell_type": "markdown",
   "metadata": {},
   "source": [
    "## Artificial dataset"
   ]
  },
  {
   "cell_type": "code",
   "execution_count": 3,
   "metadata": {},
   "outputs": [
    {
     "name": "stdout",
     "output_type": "stream",
     "text": [
      "Epoch [10/100], Loss: 10.0522\n",
      "Epoch [20/100], Loss: 2.0177\n",
      "Epoch [30/100], Loss: 0.6979\n",
      "Epoch [40/100], Loss: 0.4801\n",
      "Epoch [50/100], Loss: 0.4433\n",
      "Epoch [60/100], Loss: 0.4361\n",
      "Epoch [70/100], Loss: 0.4337\n",
      "Epoch [80/100], Loss: 0.4322\n",
      "Epoch [90/100], Loss: 0.4309\n",
      "Epoch [100/100], Loss: 0.4295\n"
     ]
    }
   ],
   "source": [
    "import torch\n",
    "import torch.nn as nn\n",
    "import numpy as np\n",
    "import matplotlib.pyplot as plt\n",
    "from torch.autograd import Variable\n",
    "\n",
    "# hyper parameters\n",
    "input_size = 1\n",
    "output_size = 1\n",
    "num_epochs = 100\n",
    "learning_rate = 0.001\n",
    "\n",
    "# toy dataset\n",
    "# 15 samples, 1 features\n",
    "x_train = np.array([3.3, 4.4, 5.5, 6.71, 6.93, 4.168, 9.779, 6.182, 7.59, 2.167,\n",
    "                    7.042, 10.791, 5.313, 7.997, 3.1], dtype=np.float32)\n",
    "\n",
    "y_train = np.array([1.7, 2.76, 2.09, 3.19, 1.694, 1.573, 3.366, 2.596, 2.53, 1.221,\n",
    "                    2.827, 3.465, 1.65, 2.904, 1.3], dtype=np.float32)\n",
    "\n",
    "x_train = x_train.reshape(15, 1)\n",
    "y_train = y_train.reshape(15, 1)\n",
    "\n",
    "# linear regression model\n",
    "class LinearRegression(nn.Module):\n",
    "    def __init__(self, input_size, output_size):\n",
    "        super(LinearRegression, self).__init__()\n",
    "        self.linear = nn.Linear(input_size, output_size)\n",
    "    \n",
    "    def forward(self, x):\n",
    "        out = self.linear(x)\n",
    "        return out\n",
    "\n",
    "model = LinearRegression(input_size, output_size)\n",
    "\n",
    "# loss and optimizer\n",
    "criterion = nn.MSELoss()\n",
    "optimizer = torch.optim.SGD(model.parameters(), lr=learning_rate)\n",
    "\n",
    "# train the model\n",
    "for epoch in range(num_epochs):\n",
    "    # convert numpy array to torch Variable\n",
    "    # ndarray => Tensor => Variable\n",
    "    inputs = Variable(torch.from_numpy(x_train))\n",
    "    targets = Variable(torch.from_numpy(y_train))\n",
    "\n",
    "    optimizer.zero_grad()\n",
    "    outputs = model(inputs)\n",
    "    loss = criterion(outputs, targets)\n",
    "    loss.backward()\n",
    "    optimizer.step()\n",
    "    \n",
    "    if (epoch + 1) % 10 == 0:\n",
    "        print('Epoch [%d/%d], Loss: %.4f' % (epoch + 1, num_epochs, loss.data[0]))"
   ]
  },
  {
   "cell_type": "code",
   "execution_count": 4,
   "metadata": {},
   "outputs": [
    {
     "data": {
      "image/png": "[encoded data removed]",
      "text/plain": [
       "<matplotlib.figure.Figure at 0x11291f908>"
      ]
     },
     "metadata": {},
     "output_type": "display_data"
    }
   ],
   "source": [
    "# plot the graph\n",
    "predicted = model(Variable(torch.from_numpy(x_train))).data.numpy()\n",
    "plt.plot(x_train, y_train, 'ro', label='Original data')\n",
    "plt.plot(x_train, predicted, label='Fitted line')\n",
    "plt.legend()\n",
    "plt.show()"
   ]
  },
  {
   "cell_type": "markdown",
   "metadata": {},
   "source": [
    "## Boston house price dataset\n",
    "\n",
    "- https://machinelearningmastery.com/regression-tutorial-keras-deep-learning-library-python/\n",
    "- https://medium.com/@haydar_ai/learning-data-science-day-9-linear-regression-on-boston-housing-dataset-cd62a80775ef"
   ]
  },
  {
   "cell_type": "code",
   "execution_count": 65,
   "metadata": {
    "collapsed": true
   },
   "outputs": [],
   "source": [
    "import torch\n",
    "import torch.nn as nn\n",
    "import numpy as np\n",
    "import matplotlib.pyplot as plt\n",
    "from torch.autograd import Variable\n",
    "\n",
    "from sklearn.datasets import load_boston\n",
    "from sklearn.model_selection import train_test_split\n",
    "from sklearn.preprocessing import StandardScaler\n",
    "\n",
    "import matplotlib.pyplot as plt\n",
    "%matplotlib inline"
   ]
  },
  {
   "cell_type": "code",
   "execution_count": 103,
   "metadata": {},
   "outputs": [
    {
     "name": "stdout",
     "output_type": "stream",
     "text": [
      "epoch 0, loss: 588.6453 val_loss: 602.0461\n",
      "epoch 200, loss: 454.0449 val_loss: 478.7798\n",
      "epoch 400, loss: 372.1344 val_loss: 400.3344\n",
      "epoch 600, loss: 306.7222 val_loss: 335.3589\n",
      "epoch 800, loss: 251.5997 val_loss: 278.9578\n",
      "epoch 1000, loss: 204.7989 val_loss: 230.4243\n",
      "epoch 1200, loss: 165.3578 val_loss: 189.2834\n",
      "epoch 1400, loss: 132.4891 val_loss: 154.8022\n",
      "epoch 1600, loss: 105.4577 val_loss: 126.2229\n",
      "epoch 1800, loss: 83.5674 val_loss: 102.8417\n",
      "epoch 2000, loss: 66.1559 val_loss: 84.0049\n",
      "epoch 2200, loss: 52.5934 val_loss: 69.0982\n",
      "epoch 2400, loss: 42.2834 val_loss: 57.5408\n",
      "epoch 2600, loss: 34.6645 val_loss: 48.7853\n",
      "epoch 2800, loss: 29.2164 val_loss: 42.3216\n",
      "epoch 3000, loss: 25.4660 val_loss: 37.6825\n",
      "epoch 3200, loss: 22.9946 val_loss: 34.4513\n",
      "epoch 3400, loss: 21.4458 val_loss: 32.2692\n",
      "epoch 3600, loss: 20.5289 val_loss: 30.8395\n",
      "epoch 3800, loss: 20.0201 val_loss: 29.9288\n",
      "epoch 4000, loss: 19.7576 val_loss: 29.3626\n",
      "epoch 4200, loss: 19.6328 val_loss: 29.0173\n",
      "epoch 4400, loss: 19.5786 val_loss: 28.8104\n",
      "epoch 4600, loss: 19.5573 val_loss: 28.6886\n",
      "epoch 4800, loss: 19.5499 val_loss: 28.6186\n"
     ]
    },
    {
     "data": {
      "text/plain": [
       "<matplotlib.legend.Legend at 0x1a1b2e66a0>"
      ]
     },
     "execution_count": 103,
     "metadata": {},
     "output_type": "execute_result"
    },
    {
     "data": {
      "image/png": "[encoded data removed]",
      "text/plain": [
       "<matplotlib.figure.Figure at 0x1a193a2a20>"
      ]
     },
     "metadata": {},
     "output_type": "display_data"
    }
   ],
   "source": [
    "# hyper parameters\n",
    "input_size = 13\n",
    "output_size = 1\n",
    "num_epochs = 5000\n",
    "learning_rate = 0.01\n",
    "\n",
    "boston = load_boston()\n",
    "X = boston.data\n",
    "y = boston.target\n",
    "# print(X.shape)\n",
    "# print(y.shape)\n",
    "\n",
    "X_train, X_test, y_train, y_test = train_test_split(X, y, test_size = 0.33, random_state = 5)\n",
    "# print(X_train.shape)\n",
    "# print(X_test.shape)\n",
    "# print(y_train.shape)\n",
    "# print(y_test.shape)\n",
    "\n",
    "# データの標準化\n",
    "scaler = StandardScaler()\n",
    "X_train = scaler.fit_transform(X_train)\n",
    "X_test = scaler.transform(X_test)\n",
    "# print(np.mean(X_train, axis=0))\n",
    "# print(np.std(X_train, axis=0))\n",
    "# print(np.mean(X_test, axis=0))\n",
    "# print(np.std(X_test, axis=0))\n",
    "\n",
    "# linear regression model\n",
    "class LinearRegression(nn.Module):\n",
    "    def __init__(self, input_size, output_size):\n",
    "        super(LinearRegression, self).__init__()\n",
    "        self.linear = nn.Linear(input_size, output_size)\n",
    "\n",
    "    def forward(self, x):\n",
    "        out = self.linear(x)\n",
    "        return out\n",
    "\n",
    "model = LinearRegression(input_size, output_size)\n",
    "\n",
    "# loss and optimizer\n",
    "criterion = nn.MSELoss()\n",
    "optimizer = torch.optim.Adam(model.parameters(), lr=learning_rate)\n",
    "\n",
    "def train(X_train, y_train):\n",
    "    inputs = Variable(torch.from_numpy(X_train).float())\n",
    "    targets = Variable(torch.from_numpy(y_train).float())\n",
    "\n",
    "    optimizer.zero_grad()\n",
    "    outputs = model(inputs)\n",
    "\n",
    "    loss = criterion(outputs, targets)\n",
    "    loss.backward()\n",
    "    optimizer.step()\n",
    "\n",
    "    return loss.data[0]\n",
    "\n",
    "def valid(X_test, y_test):\n",
    "    inputs = Variable(torch.from_numpy(X_test).float())\n",
    "    targets = Variable(torch.from_numpy(y_test).float())\n",
    "    \n",
    "    outputs = model(inputs)\n",
    "    val_loss = criterion(outputs, targets)\n",
    "    \n",
    "    return val_loss.data[0]\n",
    "        \n",
    "# train the model\n",
    "loss_list = []\n",
    "val_loss_list = []\n",
    "for epoch in range(num_epochs):\n",
    "    # data shuffle\n",
    "    perm = np.arange(X_train.shape[0])\n",
    "    np.random.shuffle(perm)\n",
    "    X_train = X_train[perm]\n",
    "    y_train = y_train[perm]\n",
    "\n",
    "    loss = train(X_train, y_train)\n",
    "    val_loss = valid(X_test, y_test)\n",
    "\n",
    "    if epoch % 200 == 0:\n",
    "        print('epoch %d, loss: %.4f val_loss: %.4f'\n",
    "              % (epoch, loss, val_loss))\n",
    "\n",
    "    loss_list.append(loss)\n",
    "    val_loss_list.append(val_loss)\n",
    "\n",
    "# plot learning curve\n",
    "plt.plot(range(num_epochs), loss_list, 'r-', label='train_loss')\n",
    "plt.plot(range(num_epochs), val_loss_list, 'b-', label='val_loss')\n",
    "plt.legend()"
   ]
  },
  {
   "cell_type": "code",
   "execution_count": null,
   "metadata": {
    "collapsed": true
   },
   "outputs": [],
   "source": []
  }
 ],
 "metadata": {
  "kernelspec": {
   "display_name": "Python [default]",
   "language": "python",
   "name": "python3"
  },
  "language_info": {
   "codemirror_mode": {
    "name": "ipython",
    "version": 3
   },
   "file_extension": ".py",
   "mimetype": "text/x-python",
   "name": "python",
   "nbconvert_exporter": "python",
   "pygments_lexer": "ipython3",
   "version": "3.6.4"
  }
 },
 "nbformat": 4,
 "nbformat_minor": 2
}
