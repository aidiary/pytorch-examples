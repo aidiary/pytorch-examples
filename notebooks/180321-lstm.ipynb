{
 "cells": [
  {
   "cell_type": "markdown",
   "metadata": {},
   "source": [
    "- http://pytorch.org/tutorials/beginner/nlp/sequence_models_tutorial.html"
   ]
  },
  {
   "cell_type": "code",
   "execution_count": 1,
   "metadata": {},
   "outputs": [
    {
     "data": {
      "text/plain": [
       "<torch._C.Generator at 0x10865a870>"
      ]
     },
     "execution_count": 1,
     "metadata": {},
     "output_type": "execute_result"
    }
   ],
   "source": [
    "import torch\n",
    "import torch.nn as nn\n",
    "import torch.nn.functional as F\n",
    "import torch.optim as optim\n",
    "from torch.autograd import Variable\n",
    "\n",
    "torch.manual_seed(1)"
   ]
  },
  {
   "cell_type": "code",
   "execution_count": 29,
   "metadata": {},
   "outputs": [],
   "source": [
    "# input_dim = 3, output_dim = 3\n",
    "lstm = nn.LSTM(3, 3)\n",
    "\n",
    "# seq_len = 5, input_size = 3\n",
    "inputs = [Variable(torch.randn((1, 3))) for _ in range(5)]\n",
    "\n",
    "# 隠れ状態を初期化\n",
    "hidden = (Variable(torch.randn(1, 1, 3)),  # h_0\n",
    "          Variable(torch.randn(1, 1, 3)))  # c_0"
   ]
  },
  {
   "cell_type": "code",
   "execution_count": 24,
   "metadata": {},
   "outputs": [],
   "source": [
    "# 1. シーケンス内の各データを順番に渡す場合\n",
    "for i in inputs:\n",
    "    out, hidden = lstm(i.view(1, 1, -1), hidden)"
   ]
  },
  {
   "cell_type": "code",
   "execution_count": 30,
   "metadata": {},
   "outputs": [
    {
     "name": "stdout",
     "output_type": "stream",
     "text": [
      "Variable containing:\n",
      "(0 ,.,.) = \n",
      "  0.0701 -0.7037  0.1069\n",
      "\n",
      "(1 ,.,.) = \n",
      "  0.3079 -0.5484 -0.0709\n",
      "\n",
      "(2 ,.,.) = \n",
      "  0.0946 -0.2790 -0.1762\n",
      "\n",
      "(3 ,.,.) = \n",
      "  0.2042 -0.2284  0.1237\n",
      "\n",
      "(4 ,.,.) = \n",
      "  0.1507 -0.0625  0.2798\n",
      "[torch.FloatTensor of size 5x1x3]\n",
      "\n",
      "(Variable containing:\n",
      "(0 ,.,.) = \n",
      "  0.1507 -0.0625  0.2798\n",
      "[torch.FloatTensor of size 1x1x3]\n",
      ", Variable containing:\n",
      "(0 ,.,.) = \n",
      "  0.3439 -0.0723  0.5727\n",
      "[torch.FloatTensor of size 1x1x3]\n",
      ")\n"
     ]
    }
   ],
   "source": [
    "# 2. シーケンスをまとめて入れる\n",
    "inputs = torch.cat(inputs).view(len(inputs), 1, -1)\n",
    "hidden = (Variable(torch.randn(1, 1, 3)),  # h_0\n",
    "          Variable(torch.randn(1, 1, 3)))  # c_0\n",
    "out, hidden = lstm(inputs, hidden)\n",
    "# 各シーケンスを入れたときの出力（隠れ状態）が保存されている\n",
    "print(out)\n",
    "# 最後のシーケンスを入れたときの出力（隠れ状態）\n",
    "# hとcの両方\n",
    "# hidden[0]はout[-1] と等しい\n",
    "print(hidden)"
   ]
  },
  {
   "cell_type": "code",
   "execution_count": null,
   "metadata": {},
   "outputs": [],
   "source": []
  }
 ],
 "metadata": {
  "kernelspec": {
   "display_name": "Python [conda root]",
   "language": "python",
   "name": "conda-root-py"
  },
  "language_info": {
   "codemirror_mode": {
    "name": "ipython",
    "version": 3
   },
   "file_extension": ".py",
   "mimetype": "text/x-python",
   "name": "python",
   "nbconvert_exporter": "python",
   "pygments_lexer": "ipython3",
   "version": "3.6.4"
  }
 },
 "nbformat": 4,
 "nbformat_minor": 2
}
