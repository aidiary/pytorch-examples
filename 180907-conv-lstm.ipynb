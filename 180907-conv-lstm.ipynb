{
 "cells": [
  {
   "cell_type": "markdown",
   "metadata": {},
   "source": [
    "# CNN LSTM\n",
    "\n",
    "- 画像の時系列データ予測や画像の系列からテキストを生成するのに使われる\n",
    "- Activity Recognition, Image Description, Video Description\n",
    "- 画像だけでなく、音声やテキストもConv1Dで解析できるのでそのあとにLSTMをつけることも行われる（Musicの例）\n",
    "- 初出は Long-term Recurrent Convolutional Network (LRCN) と呼ばれたらしいが、CNN LSTMのほうが一般的\n",
    "- CNNは特徴抽出器として使われ、その特徴系列の時間的な関係性をLSTMでモデル化する"
   ]
  },
  {
   "cell_type": "markdown",
   "metadata": {},
   "source": [
    "- 同じCNNを入力画像系列に対して繰り返し適用するには `TimeDistributed` でラッピングする\n",
    "- cnnを1つのSequentialにまとめる方法とレイヤ全てにTimeDistributedでラッピングする2つの書き方がある"
   ]
  },
  {
   "cell_type": "markdown",
   "metadata": {},
   "source": [
    "## Moving Square Video Prediction Problem\n",
    "\n",
    "- ピクセルが左へ移動か、右へ移動かを複数のフレームから予測する\n",
    "- 複数の画像系列を読み込んで、左か右へ分類するのでMany-to-one型のLSTM"
   ]
  },
  {
   "cell_type": "markdown",
   "metadata": {},
   "source": [
    "### Image Initialization"
   ]
  },
  {
   "cell_type": "code",
   "execution_count": 13,
   "metadata": {},
   "outputs": [],
   "source": [
    "import numpy as np\n",
    "import matplotlib.pyplot as plt\n",
    "from random import random, randint"
   ]
  },
  {
   "cell_type": "code",
   "execution_count": null,
   "metadata": {},
   "outputs": [],
   "source": []
  }
 ],
 "metadata": {
  "kernelspec": {
   "display_name": "Python 3",
   "language": "python",
   "name": "python3"
  },
  "language_info": {
   "codemirror_mode": {
    "name": "ipython",
    "version": 3
   },
   "file_extension": ".py",
   "mimetype": "text/x-python",
   "name": "python",
   "nbconvert_exporter": "python",
   "pygments_lexer": "ipython3",
   "version": "3.6.5"
  }
 },
 "nbformat": 4,
 "nbformat_minor": 2
}
