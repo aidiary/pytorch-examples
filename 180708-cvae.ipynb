{
 "cells": [
  {
   "cell_type": "code",
   "execution_count": 82,
   "metadata": {},
   "outputs": [],
   "source": [
    "import torch\n",
    "import torch.nn.functional as F\n",
    "import torch.autograd as autograd\n",
    "import torch.optim as optim\n",
    "import numpy as np\n",
    "import matplotlib.pyplot as plt\n",
    "import matplotlib.gridspec as gridspec\n",
    "import os\n",
    "from tensorflow.examples.tutorials.mnist import input_data"
   ]
  },
  {
   "cell_type": "code",
   "execution_count": 83,
   "metadata": {},
   "outputs": [
    {
     "name": "stdout",
     "output_type": "stream",
     "text": [
      "Extracting ./MNIST_data/train-images-idx3-ubyte.gz\n",
      "Extracting ./MNIST_data/train-labels-idx1-ubyte.gz\n",
      "Extracting ./MNIST_data/t10k-images-idx3-ubyte.gz\n",
      "Extracting ./MNIST_data/t10k-labels-idx1-ubyte.gz\n"
     ]
    }
   ],
   "source": [
    "mnist = input_data.read_data_sets('./MNIST_data', one_hot=True)\n",
    "mb_size = 64\n",
    "Z_dim = 100\n",
    "X_dim = mnist.train.images.shape[1]\n",
    "y_dim = mnist.train.labels.shape[1]\n",
    "h_dim = 128\n",
    "cnt = 0\n",
    "lr = 1e-3"
   ]
  },
  {
   "cell_type": "code",
   "execution_count": 84,
   "metadata": {},
   "outputs": [],
   "source": [
    "def xavier_init(size):\n",
    "    in_dim = size[0]\n",
    "    xavier_stddev = 1.0 / np.sqrt(in_dim / 2.0)\n",
    "    return torch.tensor(torch.randn(*size) * xavier_stddev, requires_grad=True)"
   ]
  },
  {
   "cell_type": "code",
   "execution_count": 85,
   "metadata": {},
   "outputs": [],
   "source": [
    "# encoderのパラメータ\n",
    "Wxh = xavier_init(size=[X_dim + y_dim, h_dim])\n",
    "bxh = torch.zeros(h_dim, requires_grad=True)\n",
    "\n",
    "Whz_mu = xavier_init(size=[h_dim, Z_dim])\n",
    "bhz_mu = torch.zeros(Z_dim, requires_grad=True)\n",
    "\n",
    "Whz_var = xavier_init(size=[h_dim, Z_dim])\n",
    "bhz_var = torch.zeros(Z_dim, requires_grad=True)"
   ]
  },
  {
   "cell_type": "code",
   "execution_count": 86,
   "metadata": {},
   "outputs": [],
   "source": [
    "def Q(X, c):\n",
    "    inputs = torch.cat([X, c], 1)\n",
    "    h = F.relu(inputs @ Wxh + bxh.repeat(inputs.size(0), 1))\n",
    "    z_mu = h @ Whz_mu + bhz_mu.repeat(h.size(0), 1)\n",
    "    z_var = h @ Whz_var + bhz_var.repeat(h.size(0), 1)\n",
    "    return z_mu, z_var"
   ]
  },
  {
   "cell_type": "code",
   "execution_count": 87,
   "metadata": {},
   "outputs": [],
   "source": [
    "def sample_z(mu, log_var):\n",
    "    eps = torch.randn(mb_size, Z_dim)\n",
    "    return mu + torch.exp(log_var / 2) * eps"
   ]
  },
  {
   "cell_type": "code",
   "execution_count": 88,
   "metadata": {},
   "outputs": [],
   "source": [
    "# decoderのパラメータ\n",
    "Wzh = xavier_init(size=[Z_dim + y_dim, h_dim])\n",
    "bzh = torch.zeros(h_dim, requires_grad=True)\n",
    "\n",
    "Whx = xavier_init(size=[h_dim, X_dim])\n",
    "bhx = torch.zeros(X_dim, requires_grad=True)"
   ]
  },
  {
   "cell_type": "code",
   "execution_count": 89,
   "metadata": {},
   "outputs": [],
   "source": [
    "def P(z, c):\n",
    "    inputs = torch.cat([z, c], 1)\n",
    "    h = nn.relu(inputs @ Wzh + bzh.repeat(inputs.size(0), 1))\n",
    "    X = F.sigmoid(h @ Whx + bhx.repeat(h.size(0), 1))\n",
    "    return X"
   ]
  },
  {
   "cell_type": "code",
   "execution_count": 90,
   "metadata": {},
   "outputs": [],
   "source": [
    "# training\n",
    "params = [Wxh, bxh, Whz_mu, bhz_mu, Whz_var, bhz_var, Wzh, bzh, Whx, bhx]\n",
    "optimizer = optim.Adam(params, lr=lr)"
   ]
  },
  {
   "cell_type": "code",
   "execution_count": 92,
   "metadata": {},
   "outputs": [
    {
     "name": "stdout",
     "output_type": "stream",
     "text": [
      "Iter-0; Loss: 730.8\n",
      "Iter-1000; Loss: 150.7\n",
      "Iter-2000; Loss: 132.7\n",
      "Iter-3000; Loss: 119.3\n",
      "Iter-4000; Loss: 113.0\n",
      "Iter-5000; Loss: 112.2\n",
      "Iter-6000; Loss: 105.4\n",
      "Iter-7000; Loss: 103.9\n",
      "Iter-8000; Loss: 102.3\n",
      "Iter-9000; Loss: 102.8\n",
      "Iter-10000; Loss: 112.7\n",
      "Iter-11000; Loss: 108.3\n",
      "Iter-12000; Loss: 100.5\n",
      "Iter-13000; Loss: 102.3\n",
      "Iter-14000; Loss: 104.0\n",
      "Iter-15000; Loss: 102.3\n",
      "Iter-16000; Loss: 103.9\n",
      "Iter-17000; Loss: 97.54\n",
      "Iter-18000; Loss: 98.06\n",
      "Iter-19000; Loss: 109.7\n",
      "Iter-20000; Loss: 108.9\n",
      "Iter-21000; Loss: 101.6\n",
      "Iter-22000; Loss: 107.3\n",
      "Iter-23000; Loss: 104.9\n",
      "Iter-24000; Loss: 101.2\n",
      "Iter-25000; Loss: 98.68\n",
      "Iter-26000; Loss: 115.1\n",
      "Iter-27000; Loss: 98.62\n",
      "Iter-28000; Loss: 100.2\n",
      "Iter-29000; Loss: 104.1\n",
      "Iter-30000; Loss: 105.3\n",
      "Iter-31000; Loss: 103.2\n",
      "Iter-32000; Loss: 105.9\n",
      "Iter-33000; Loss: 103.5\n",
      "Iter-34000; Loss: 105.4\n",
      "Iter-35000; Loss: 101.7\n",
      "Iter-36000; Loss: 98.84\n",
      "Iter-37000; Loss: 101.7\n",
      "Iter-38000; Loss: 100.9\n",
      "Iter-39000; Loss: 105.6\n",
      "Iter-40000; Loss: 101.7\n",
      "Iter-41000; Loss: 101.8\n",
      "Iter-42000; Loss: 100.7\n",
      "Iter-43000; Loss: 109.4\n",
      "Iter-44000; Loss: 103.9\n",
      "Iter-45000; Loss: 104.7\n",
      "Iter-46000; Loss: 96.63\n",
      "Iter-47000; Loss: 99.8\n",
      "Iter-48000; Loss: 101.0\n",
      "Iter-49000; Loss: 96.87\n",
      "Iter-50000; Loss: 101.8\n",
      "Iter-51000; Loss: 100.6\n",
      "Iter-52000; Loss: 97.36\n",
      "Iter-53000; Loss: 98.81\n",
      "Iter-54000; Loss: 105.2\n",
      "Iter-55000; Loss: 99.14\n",
      "Iter-56000; Loss: 99.69\n",
      "Iter-57000; Loss: 104.3\n",
      "Iter-58000; Loss: 102.2\n",
      "Iter-59000; Loss: 103.2\n",
      "Iter-60000; Loss: 101.5\n",
      "Iter-61000; Loss: 102.8\n",
      "Iter-62000; Loss: 100.4\n",
      "Iter-63000; Loss: 103.2\n",
      "Iter-64000; Loss: 101.9\n",
      "Iter-65000; Loss: 104.6\n",
      "Iter-66000; Loss: 104.8\n",
      "Iter-67000; Loss: 107.1\n",
      "Iter-68000; Loss: 108.4\n",
      "Iter-69000; Loss: 105.5\n",
      "Iter-70000; Loss: 98.13\n",
      "Iter-71000; Loss: 100.9\n",
      "Iter-72000; Loss: 102.2\n",
      "Iter-73000; Loss: 102.0\n",
      "Iter-74000; Loss: 106.1\n",
      "Iter-75000; Loss: 102.9\n",
      "Iter-76000; Loss: 101.8\n",
      "Iter-77000; Loss: 104.5\n",
      "Iter-78000; Loss: 100.6\n",
      "Iter-79000; Loss: 95.55\n",
      "Iter-80000; Loss: 112.1\n",
      "Iter-81000; Loss: 101.7\n",
      "Iter-82000; Loss: 101.8\n",
      "Iter-83000; Loss: 98.15\n",
      "Iter-84000; Loss: 99.11\n",
      "Iter-85000; Loss: 105.5\n",
      "Iter-86000; Loss: 99.26\n",
      "Iter-87000; Loss: 102.0\n",
      "Iter-88000; Loss: 100.9\n",
      "Iter-89000; Loss: 100.4\n",
      "Iter-90000; Loss: 93.78\n",
      "Iter-91000; Loss: 95.67\n",
      "Iter-92000; Loss: 99.35\n",
      "Iter-93000; Loss: 101.3\n",
      "Iter-94000; Loss: 106.1\n",
      "Iter-95000; Loss: 106.3\n",
      "Iter-96000; Loss: 97.73\n",
      "Iter-97000; Loss: 100.6\n",
      "Iter-98000; Loss: 102.9\n",
      "Iter-99000; Loss: 104.4\n"
     ]
    }
   ],
   "source": [
    "for it in range(100000):\n",
    "    X, c = mnist.train.next_batch(mb_size)\n",
    "    X = torch.from_numpy(X)\n",
    "    c = torch.from_numpy(c).float()\n",
    "\n",
    "    optimizer.zero_grad()\n",
    "\n",
    "    # forward\n",
    "    z_mu, z_var = Q(X, c)\n",
    "\n",
    "    z = sample_z(z_mu, z_var)\n",
    "    X_sample = P(z, c)\n",
    "    \n",
    "    # loss\n",
    "    recon_loss = F.binary_cross_entropy(X_sample, X, size_average=False) / mb_size\n",
    "    kl_loss = torch.mean(0.5 * torch.sum(torch.exp(z_var) + z_mu ** 2 - 1.0 - z_var, 1))\n",
    "    loss = recon_loss + kl_loss\n",
    "    \n",
    "    # backward\n",
    "    loss.backward()\n",
    "    \n",
    "    # update\n",
    "    optimizer.step()\n",
    "    \n",
    "    if it % 1000 == 0:\n",
    "        print('Iter-{}; Loss: {:.4}'.format(it, loss.item()))\n",
    "\n",
    "        c = np.zeros(shape=[mb_size, y_dim], dtype='float32')\n",
    "        c[:, np.random.randint(0, 10)] = 1.0\n",
    "        c = torch.from_numpy(c)\n",
    "        z = torch.randn(mb_size, Z_dim)\n",
    "\n",
    "        samples = P(z, c).detach().numpy()[:16]\n",
    "\n",
    "        fig = plt.figure(figsize=(4, 4))\n",
    "        gs = gridspec.GridSpec(4, 4)\n",
    "        gs.update(wspace=0.05, hspace=0.05)\n",
    "        \n",
    "        for i, sample in enumerate(samples):\n",
    "            ax = plt.subplot(gs[i])\n",
    "            plt.axis('off')\n",
    "            ax.set_xticklabels([])\n",
    "            ax.set_yticklabels([])\n",
    "            ax.set_aspect('equal')\n",
    "            plt.imshow(sample.reshape(28, 28), cmap='Greys_r')\n",
    "        \n",
    "        os.makedirs('cvae', exist_ok=True)\n",
    "        plt.savefig('cvae/{}.png'.format(str(cnt).zfill(3)), bbox_inches='tight')\n",
    "        cnt+= 1\n",
    "        plt.close(fig)"
   ]
  },
  {
   "cell_type": "code",
   "execution_count": null,
   "metadata": {},
   "outputs": [],
   "source": []
  }
 ],
 "metadata": {
  "kernelspec": {
   "display_name": "Python 3",
   "language": "python",
   "name": "python3"
  },
  "language_info": {
   "codemirror_mode": {
    "name": "ipython",
    "version": 3
   },
   "file_extension": ".py",
   "mimetype": "text/x-python",
   "name": "python",
   "nbconvert_exporter": "python",
   "pygments_lexer": "ipython3",
   "version": "3.6.5"
  }
 },
 "nbformat": 4,
 "nbformat_minor": 2
}
